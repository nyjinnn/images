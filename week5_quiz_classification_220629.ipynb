{
  "cells": [
    {
      "cell_type": "markdown",
      "metadata": {
        "id": "view-in-github",
        "colab_type": "text"
      },
      "source": [
        "<a href=\"https://colab.research.google.com/github/nyjinnn/images/blob/main/week5_quiz_classification_220629.ipynb\" target=\"_parent\"><img src=\"https://colab.research.google.com/assets/colab-badge.svg\" alt=\"Open In Colab\"/></a>"
      ]
    },
    {
      "cell_type": "markdown",
      "source": [
        "# 로지스틱 회귀"
      ],
      "metadata": {
        "id": "gtvXxVU7ngtN"
      }
    },
    {
      "cell_type": "markdown",
      "source": [
        "## 문제 해결을 위한 데이터셋 준비\n",
        "\n",
        "1. 필요한 패키기 불러오기\n"
      ],
      "metadata": {
        "id": "Jm3czD6BoDAk"
      }
    },
    {
      "cell_type": "code",
      "source": [
        "import random\n",
        "import torch \n",
        "import torch.nn as nn \n",
        "import numpy as np \n",
        "import matplotlib.pyplot as plt\n",
        "\n",
        "from sklearn.datasets import load_breast_cancer\n",
        "from sklearn.model_selection import train_test_split"
      ],
      "metadata": {
        "id": "ZRiv5fNUBdof"
      },
      "execution_count": 41,
      "outputs": []
    },
    {
      "cell_type": "markdown",
      "source": [
        "2. 데이터셋 불러오기"
      ],
      "metadata": {
        "id": "3T0z40Cu4HRr"
      }
    },
    {
      "cell_type": "code",
      "source": [
        "cancer = load_breast_cancer()\n",
        "print(cancer.data.shape, cancer.target.shape)"
      ],
      "metadata": {
        "colab": {
          "base_uri": "https://localhost:8080/"
        },
        "id": "KTdRcvm81w3w",
        "outputId": "4b5a577f-25e3-488a-914c-b40034104b2f"
      },
      "execution_count": 42,
      "outputs": [
        {
          "output_type": "stream",
          "name": "stdout",
          "text": [
            "(569, 30) (569,)\n"
          ]
        }
      ]
    },
    {
      "cell_type": "markdown",
      "source": [
        "3. 데이터 확인하기 "
      ],
      "metadata": {
        "id": "-KpH8pBDB2U5"
      }
    },
    {
      "cell_type": "code",
      "source": [
        "plt.boxplot(cancer.data)\n",
        "plt.xlabel(\"feature\")\n",
        "plt.ylabel(\"value\")\n",
        "plt.show()"
      ],
      "metadata": {
        "colab": {
          "base_uri": "https://localhost:8080/",
          "height": 279
        },
        "id": "KKIUiy1SB-c1",
        "outputId": "8d9e63e0-7613-4dcb-9bf5-7c4c1f2c2baf"
      },
      "execution_count": 43,
      "outputs": [
        {
          "output_type": "display_data",
          "data": {
            "text/plain": [
              "<Figure size 432x288 with 1 Axes>"
            ],
            "image/png": "[encoded data removed]"
          },
          "metadata": {
            "needs_background": "light"
          }
        }
      ]
    },
    {
      "cell_type": "code",
      "source": [
        "# cancer.data[:,2] = 0\n",
        "cancer.data[:,3] = 0\n",
        "#cancer.data[:,13] = 0\n",
        "#cancer.data[:,22] = 0\n",
        "#cancer.data[:,23] = 0\n",
        "\n",
        "plt.boxplot(cancer.data)\n",
        "plt.xlabel(\"feature\")\n",
        "plt.ylabel(\"value\")\n",
        "plt.show()"
      ],
      "metadata": {
        "id": "al7NfQXOZeSl",
        "outputId": "aa15bd77-5a9b-4f3f-8f87-9302ad6788bc",
        "colab": {
          "base_uri": "https://localhost:8080/",
          "height": 279
        }
      },
      "execution_count": 93,
      "outputs": [
        {
          "output_type": "display_data",
          "data": {
            "text/plain": [
              "<Figure size 432x288 with 1 Axes>"
            ],
            "image/png": "[encoded data removed]"
          },
          "metadata": {
            "needs_background": "light"
          }
        }
      ]
    },
    {
      "cell_type": "markdown",
      "source": [
        "4. 학습 데이터셋 준비"
      ],
      "metadata": {
        "id": "882JOmT45d1D"
      }
    },
    {
      "cell_type": "code",
      "source": [
        "x = cancer.data\n",
        "y = cancer.target \n",
        "\n",
        "x_train, x_test, y_train, y_test = train_test_split(x, y, stratify=y, test_size=0.2, random_state=42)  # 수정 금지 \n",
        "x_train, x_valid, y_train, y_valid = train_test_split(x_train, y_train, stratify=y_train, test_size=0.125, random_state=999)\n",
        "\n",
        "x_train_torch = torch.FloatTensor(x_train)\n",
        "y_train_torch = torch.FloatTensor(y_train)\n",
        "x_valid_torch = torch.FloatTensor(x_valid)\n",
        "y_valid_torch = torch.FloatTensor(y_valid) \n",
        "x_test_torch = torch.FloatTensor(x_test)\n",
        "y_test_torch = torch.FloatTensor(y_test)"
      ],
      "metadata": {
        "id": "eCwTIDJXDGcv"
      },
      "execution_count": 94,
      "outputs": []
    },
    {
      "cell_type": "code",
      "source": [
        "print(np.mean(x_train[:,0]))\n",
        "print(np.mean(x_train[:,1]))\n",
        "print(np.mean(x_train[:,2]))\n",
        "print(np.mean(x_train[:,3]))\n",
        "print(np.mean(x_train[:,4]))\n",
        "print(np.mean(x_train[:,5]))\n",
        "print(np.mean(x_train[:,6]))\n",
        "print(np.mean(x_train[:,7]))\n",
        "print(np.mean(x_train[:,8]))\n",
        "print(np.mean(x_train[:,9]))\n",
        "print(np.mean(x_train[:,10]))\n",
        "print(np.mean(x_train[:,11]))"
      ],
      "metadata": {
        "id": "raEGNDJdOjpK",
        "outputId": "456d1e01-2f98-4fd9-876a-54b1c554fdb1",
        "colab": {
          "base_uri": "https://localhost:8080/"
        }
      },
      "execution_count": 46,
      "outputs": [
        {
          "output_type": "stream",
          "name": "stdout",
          "text": [
            "14.115889447236183\n",
            "19.200653266331656\n",
            "91.84585427135679\n",
            "0.0\n",
            "0.09632163316582915\n",
            "0.10344281407035176\n",
            "0.08890080577889448\n",
            "0.04860188190954775\n",
            "0.18024472361809046\n",
            "0.06272502512562814\n",
            "0.40242386934673363\n",
            "1.216538944723618\n"
          ]
        }
      ]
    },
    {
      "cell_type": "markdown",
      "source": [
        "5. 모델 준비"
      ],
      "metadata": {
        "id": "L3l6peFJ5iAh"
      }
    },
    {
      "cell_type": "code",
      "source": [
        "class LogisticNeuron(nn.Module):\n",
        "  def __init__(self, in_dim=30, n_hidden=60, learning_rate=1e-4):\n",
        "    '''\n",
        "    Args:\n",
        "      in_dim: The dimension of input data  \n",
        "      n_hidden: The dimension of hidden layer\n",
        "      learning_rate: The initial learning rate for training a network \n",
        "    '''\n",
        "    super().__init__()\n",
        "\n",
        "    self.model = nn.Sequential(\n",
        "        nn.Linear(in_dim, 200),\n",
        "        nn.ReLU(),\n",
        "        nn.Linear(200, 100),\n",
        "        nn.ReLU(),\n",
        "        nn.Linear(100, 50),\n",
        "        nn.ReLU(),\n",
        "        nn.Linear(50,1),\n",
        "        nn.Sigmoid()\n",
        "        )\n",
        "    \n",
        "    self.optim = torch.optim.Adam(self.model.parameters(), lr=learning_rate)\n",
        "    self.criterion = nn.MSELoss()\n",
        "\n",
        "  def _calculate_loss(self, x, y):\n",
        "    loss = self.criterion(x, y)\n",
        "    return loss \n",
        "\n",
        "  def forward(self, x):\n",
        "    z = self.model(x)\n",
        "    return z\n",
        "\n",
        "  def train(self, x, y, epochs=10):\n",
        "    tmp_acc = -1\n",
        "    for i in range(epochs):\n",
        "      for x_i, y_i in zip(x, y):\n",
        "        pred_y = self.forward(x_i)\n",
        "        loss = self._calculate_loss(pred_y[0], y_i)\n",
        "\n",
        "        self.model.zero_grad() \n",
        "        self.optim.zero_grad()\n",
        "        loss.backward()\n",
        "        self.optim.step()\n",
        "\n",
        "      if (i+1) % 1 == 0:  # 여기 나누는 값을 조정해서 프린트하는 횟수를 조절\n",
        "        acc = np.mean(self.predict(x_valid_torch) == y_valid)\n",
        "        if tmp_acc == -1: \n",
        "          tmp_acc = acc \n",
        "        if tmp_acc > acc:\n",
        "          break\n",
        "        print(\"epoch {} : err = {:.9f}, valid acc = {:%}\".format(i + 1, loss, acc))\n",
        "\n",
        "  def predict(self, x):\n",
        "    pred = [self.forward(x_i).data.numpy()[0] for x_i in x]\n",
        "    return np.array(pred) > 0.5 "
      ],
      "metadata": {
        "id": "nD4xfTtvFB2d"
      },
      "execution_count": 104,
      "outputs": []
    },
    {
      "cell_type": "code",
      "source": [
        "random_seed = 740\n",
        "np.random.seed(random_seed)\n",
        "torch.manual_seed(random_seed)\n",
        "random.seed(random_seed)\n",
        "\n",
        "neuron = LogisticNeuron(in_dim=30, n_hidden=200, learning_rate=1e-3)\n",
        "\n",
        "neuron.train(x_train_torch, y_train_torch, 50)"
      ],
      "metadata": {
        "colab": {
          "base_uri": "https://localhost:8080/"
        },
        "id": "ijUQkQx5JAKm",
        "outputId": "85b420f2-87ee-478c-bf3a-9075d6b4b7ff"
      },
      "execution_count": 105,
      "outputs": [
        {
          "output_type": "stream",
          "name": "stdout",
          "text": [
            "epoch 1 : err = 0.277274489, valid acc = 54.385965%\n",
            "epoch 2 : err = 0.253471434, valid acc = 61.403509%\n",
            "epoch 3 : err = 0.253137469, valid acc = 61.403509%\n",
            "epoch 4 : err = 0.075381182, valid acc = 77.192982%\n",
            "epoch 5 : err = 0.094144896, valid acc = 77.192982%\n",
            "epoch 6 : err = 0.090554647, valid acc = 82.456140%\n",
            "epoch 7 : err = 0.060452759, valid acc = 78.947368%\n",
            "epoch 8 : err = 0.034000073, valid acc = 85.964912%\n",
            "epoch 9 : err = 0.015021749, valid acc = 82.456140%\n",
            "epoch 10 : err = 0.006099651, valid acc = 82.456140%\n",
            "epoch 11 : err = 0.002482829, valid acc = 80.701754%\n",
            "epoch 12 : err = 0.001342541, valid acc = 80.701754%\n",
            "epoch 13 : err = 0.000400164, valid acc = 82.456140%\n",
            "epoch 14 : err = 0.000301994, valid acc = 84.210526%\n",
            "epoch 15 : err = 0.000192678, valid acc = 82.456140%\n",
            "epoch 16 : err = 0.000073078, valid acc = 85.964912%\n",
            "epoch 17 : err = 0.000051813, valid acc = 85.964912%\n",
            "epoch 18 : err = 0.000047907, valid acc = 85.964912%\n",
            "epoch 19 : err = 0.000027892, valid acc = 87.719298%\n",
            "epoch 20 : err = 0.000021483, valid acc = 87.719298%\n",
            "epoch 21 : err = 0.000041233, valid acc = 85.964912%\n",
            "epoch 22 : err = 0.000004448, valid acc = 85.964912%\n",
            "epoch 23 : err = 0.000037856, valid acc = 87.719298%\n",
            "epoch 24 : err = 0.000010389, valid acc = 87.719298%\n",
            "epoch 25 : err = 0.000003540, valid acc = 87.719298%\n",
            "epoch 26 : err = 0.000037270, valid acc = 87.719298%\n",
            "epoch 27 : err = 0.000026150, valid acc = 87.719298%\n",
            "epoch 28 : err = 0.000017933, valid acc = 87.719298%\n",
            "epoch 29 : err = 0.000013231, valid acc = 87.719298%\n",
            "epoch 30 : err = 0.000011310, valid acc = 89.473684%\n",
            "epoch 31 : err = 0.000022119, valid acc = 89.473684%\n",
            "epoch 32 : err = 0.000024693, valid acc = 89.473684%\n",
            "epoch 33 : err = 0.000018965, valid acc = 89.473684%\n",
            "epoch 34 : err = 0.000007076, valid acc = 91.228070%\n",
            "epoch 35 : err = 0.000008125, valid acc = 89.473684%\n",
            "epoch 36 : err = 0.000000934, valid acc = 89.473684%\n",
            "epoch 37 : err = 0.000001029, valid acc = 91.228070%\n",
            "epoch 38 : err = 0.000000438, valid acc = 89.473684%\n",
            "epoch 39 : err = 0.000008795, valid acc = 91.228070%\n",
            "epoch 40 : err = 0.000000076, valid acc = 89.473684%\n",
            "epoch 41 : err = 0.000000936, valid acc = 91.228070%\n",
            "epoch 42 : err = 0.000001746, valid acc = 91.228070%\n",
            "epoch 43 : err = 0.000000293, valid acc = 89.473684%\n",
            "epoch 44 : err = 0.000000244, valid acc = 91.228070%\n",
            "epoch 45 : err = 0.000007111, valid acc = 89.473684%\n",
            "epoch 46 : err = 0.000005522, valid acc = 91.228070%\n",
            "epoch 47 : err = 0.000011010, valid acc = 91.228070%\n",
            "epoch 48 : err = 0.000007319, valid acc = 91.228070%\n",
            "epoch 49 : err = 0.000015772, valid acc = 91.228070%\n",
            "epoch 50 : err = 0.000007700, valid acc = 91.228070%\n"
          ]
        }
      ]
    },
    {
      "cell_type": "markdown",
      "source": [
        "6. 결과"
      ],
      "metadata": {
        "id": "kXwOcKpB5ki9"
      }
    },
    {
      "cell_type": "code",
      "source": [
        "np.mean(neuron.predict(x_test_torch) == y_test)"
      ],
      "metadata": {
        "id": "B6ptnX0OJJep",
        "outputId": "fa6dc86c-0150-47e2-a2f3-a3f0d3f1f38d",
        "colab": {
          "base_uri": "https://localhost:8080/"
        }
      },
      "execution_count": 108,
      "outputs": [
        {
          "output_type": "execute_result",
          "data": {
            "text/plain": [
              "0.9473684210526315"
            ]
          },
          "metadata": {},
          "execution_count": 108
        }
      ]
    },
    {
      "cell_type": "code",
      "source": [
        ""
      ],
      "metadata": {
        "id": "x03fnOsqQUPU"
      },
      "execution_count": 49,
      "outputs": []
    }
  ],
  "metadata": {
    "colab": {
      "name": "Chapter2_1.ipynb",
      "provenance": [],
      "include_colab_link": true
    },
    "language_info": {
      "name": "python"
    },
    "kernelspec": {
      "name": "python3",
      "display_name": "Python 3"
    }
  },
  "nbformat": 4,
  "nbformat_minor": 0
}