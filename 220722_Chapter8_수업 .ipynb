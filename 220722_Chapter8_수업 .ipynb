{
  "nbformat": 4,
  "nbformat_minor": 0,
  "metadata": {
    "colab": {
      "name": "Untitled0.ipynb",
      "provenance": [],
      "include_colab_link": true
    },
    "kernelspec": {
      "name": "python3",
      "display_name": "Python 3"
    },
    "language_info": {
      "name": "python"
    }
  },
  "cells": [
    {
      "cell_type": "markdown",
      "metadata": {
        "id": "view-in-github",
        "colab_type": "text"
      },
      "source": [
        "<a href=\"https://colab.research.google.com/github/nyjinnn/images/blob/main/220722_Chapter8_%EC%88%98%EC%97%85%20.ipynb\" target=\"_parent\"><img src=\"https://colab.research.google.com/assets/colab-badge.svg\" alt=\"Open In Colab\"/></a>"
      ]
    },
    {
      "cell_type": "code",
      "execution_count": 31,
      "metadata": {
        "id": "IMRHgENqVdcU"
      },
      "outputs": [],
      "source": [
        "import matplotlib.pyplot as plt \n",
        "import tensorflow as tf\n",
        "import numpy as np "
      ]
    },
    {
      "cell_type": "code",
      "source": [
        "(x_train_all, y_train_all), (x_test, y_test) = tf.keras.datasets.mnist.load_data()"
      ],
      "metadata": {
        "id": "AeZiHPuBVgce"
      },
      "execution_count": 32,
      "outputs": []
    },
    {
      "cell_type": "code",
      "source": [
        "fig = plt.figure(figsize=(15, 4))\n",
        "\n",
        "for i in range(10):\n",
        "    plottable_image = np.reshape(x_train_all[i], (28, 28))\n",
        "    ax = fig.add_subplot(2, 5, i+1)\n",
        "    ax.imshow(plottable_image, cmap='gray_r')"
      ],
      "metadata": {
        "colab": {
          "base_uri": "https://localhost:8080/",
          "height": 268
        },
        "id": "KqZcE_KvV7_w",
        "outputId": "13157c5a-2605-4206-8750-5e438e5be97d"
      },
      "execution_count": 33,
      "outputs": [
        {
          "output_type": "display_data",
          "data": {
            "text/plain": [
              "<Figure size 1080x288 with 10 Axes>"
            ],
            "image/png": "[encoded data removed]"
          },
          "metadata": {
            "needs_background": "light"
          }
        }
      ]
    },
    {
      "cell_type": "code",
      "source": [
        "from sklearn.model_selection import train_test_split \n",
        "x_train, x_valid, y_train, y_valid = train_test_split(x_train_all, y_train_all, stratify=y_train_all, test_size=0.2, random_state=42)"
      ],
      "metadata": {
        "id": "6hRrkl0MYjtf"
      },
      "execution_count": 34,
      "outputs": []
    },
    {
      "cell_type": "code",
      "source": [
        "print(\"학습 데이터셋 클래스별 샘플 수 : \", np.bincount(y_train))\n",
        "print(\"평가 데이터셋 클래스별 샘플 수 : \", np.bincount(y_valid))"
      ],
      "metadata": {
        "colab": {
          "base_uri": "https://localhost:8080/"
        },
        "id": "KV8-3RyM77wG",
        "outputId": "53e9b238-a18b-48eb-f059-23bbee78193d"
      },
      "execution_count": 35,
      "outputs": [
        {
          "output_type": "stream",
          "name": "stdout",
          "text": [
            "학습 데이터셋 클래스별 샘플 수 :  [4738 5394 4766 4905 4674 4337 4734 5012 4681 4759]\n",
            "평가 데이터셋 클래스별 샘플 수 :  [1185 1348 1192 1226 1168 1084 1184 1253 1170 1190]\n"
          ]
        }
      ]
    },
    {
      "cell_type": "code",
      "source": [
        "x_train = x_train / 255\n",
        "x_valid = x_valid / 255 \n",
        "x_test = x_test / 255"
      ],
      "metadata": {
        "id": "NhZZk3xO-oD6"
      },
      "execution_count": 36,
      "outputs": []
    },
    {
      "cell_type": "code",
      "source": [
        "y_train_encoded = tf.keras.utils.to_categorical(y_train)\n",
        "y_valid_encoded = tf.keras.utils.to_categorical(y_valid)"
      ],
      "metadata": {
        "id": "vgg4WjtQ-1Uj"
      },
      "execution_count": 37,
      "outputs": []
    },
    {
      "cell_type": "code",
      "source": [
        "import torch\n",
        "x_train_torch = torch.FloatTensor(x_train)\n",
        "y_train_torch = torch.FloatTensor(y_train_encoded)\n",
        "x_valid_torch = torch.FloatTensor(x_valid)\n",
        "y_valid_torch = torch.FloatTensor(y_valid_encoded) \n",
        "x_test_torch = torch.FloatTensor(x_test)\n",
        "y_test_torch = torch.FloatTensor(y_test)"
      ],
      "metadata": {
        "id": "qnQdS3hC-9Y1"
      },
      "execution_count": 38,
      "outputs": []
    },
    {
      "cell_type": "code",
      "source": [
        "import torch.nn as nn\n",
        "from torch.utils.data import Dataset, DataLoader"
      ],
      "metadata": {
        "id": "XQdNujZG-_wB"
      },
      "execution_count": 39,
      "outputs": []
    },
    {
      "cell_type": "code",
      "source": [
        "class MNISTDataset(Dataset):\n",
        "  def __init__(self, x, y):\n",
        "    self.x_data = x\n",
        "    self.y_data = y\n",
        "  \n",
        "  def __getitem__(self, index):\n",
        "    x = self.x_data[index]\n",
        "    y = self.y_data[index]\n",
        "    return x, y\n",
        "  \n",
        "  def collate_fn(self, batch):\n",
        "    x, y = zip(*batch)\n",
        "    return x, y\n",
        "\n",
        "  def __len__(self):\n",
        "    return len(self.x_data)"
      ],
      "metadata": {
        "id": "PeaZr0cW_CaN"
      },
      "execution_count": 40,
      "outputs": []
    },
    {
      "cell_type": "code",
      "source": [
        "dataset = MNISTDataset(x_train_torch, y_train_torch)\n",
        "dataloader = DataLoader(dataset, batch_size=32, shuffle=True, drop_last=True)"
      ],
      "metadata": {
        "id": "x79gTlDC_H8i"
      },
      "execution_count": 41,
      "outputs": []
    },
    {
      "cell_type": "code",
      "source": [
        "x_train_torch.size()\n",
        "import torch.nn as nn\n",
        "\n",
        "model = nn.Conv2d(in_channels=1, out_channels=10, kernel_size=3, stride=1, padding=\"same\")\n",
        "\n",
        "model = x_train_torch.unsqueeze(1).size()\n",
        "\n",
        "#model(x_train_torch.unsqueeze(1)[0:2).reshape(-1:,7840)\n"
      ],
      "metadata": {
        "id": "7i2XbGJxlJyG"
      },
      "execution_count": 50,
      "outputs": []
    },
    {
      "cell_type": "code",
      "source": [
        "from tqdm import tqdm \n",
        "import random \n",
        "\n",
        "random_seed = 123\n",
        "np.random.seed(random_seed)\n",
        "torch.manual_seed(random_seed)\n",
        "random.seed(random_seed)\n",
        "\n",
        "class MyModel(nn.Module):\n",
        "  def __init__(self,kernel_size=3.5):\n",
        "    super(MyModel, self).__init__()\n",
        "    self.net = nn.Sequential(\n",
        "        nn.Conv2d(in_channels=1, out_channels=10, kernel_size=3, stride=1, padding='same'),      \n",
        "        nn.ReLU(),\n",
        "        nn.Dropout(0.3),\n",
        "        nn.Conv2d(in_channels=10, out_channels=1, kernel_size=3, stride=1, padding='same'),\n",
        "        nn.ReLU(),\n",
        "        nn.MaxPool2d(kernel_size=3),\n",
        "        nn.Dropout(0.3),\n",
        "    )\n",
        "    \n",
        "    self.linear = nn.Linear(81, 10)\n",
        "  \n",
        "  def forward(self, x):\n",
        "    output = self.net(x)\n",
        "    output = output.view(-1, 1, 81) ##펼치는 것\n",
        "    output = self.linear(output)\n",
        "    return output \n",
        "\n",
        "def predict(self,x):\n",
        "  F.log_sofmax()\n",
        "\n",
        "  ##nn.CrossEntropyLoss에 포함되어있어서 꼭 안 넣어도 됨"
      ],
      "metadata": {
        "id": "bljjZ8HA_LG6"
      },
      "execution_count": 63,
      "outputs": []
    },
    {
      "cell_type": "code",
      "source": [
        "model = MyModel(kernel_size=3)\n",
        "optim = torch.optim.Adam(model.parameters(), lr=1e-4)\n",
        "criterion = nn.CrossEntropyLoss()\n",
        "\n",
        "global_step = 0 \n",
        "for epoch in range(20):\n",
        "  t = tqdm(dataloader, ncols=100)\n",
        "  for i, batch in enumerate(t):\n",
        "    x_batch = batch[0]\n",
        "    y_batch = batch[1]\n",
        "    output = model(x_batch.unsqueeze(1))\n",
        "    loss = criterion(output.squeeze(1), y_batch)\n",
        "    model.zero_grad() \n",
        "    optim.zero_grad()\n",
        "    loss.backward()\n",
        "    optim.step()\n",
        "\n",
        "    global_step += 1\n",
        "    t.set_description(\"epoch: {} | global_step: {:8d} | loss: {:.4f}\".format(epoch + 1, global_step, loss))\n",
        "\n",
        "  with torch.no_grad():\n",
        "    model.eval()\n",
        "    predicts = model(x_valid_torch.unsqueeze(1))\n",
        "    predicts = torch.argmax(predicts.squeeze(1), 1)\n",
        "\n",
        "    correct = 0 \n",
        "    for i in range(len(predicts)):\n",
        "      if predicts[i].item() == y_valid[i]:\n",
        "        correct += 1\n",
        "    acc = correct / len(predicts)\n",
        "    print(\"epoch: {} | global_step: {} | valid acc: {:%}\".format(epoch + 1, global_step, acc))\n",
        "    model.train()"
      ],
      "metadata": {
        "id": "7FGy7gh_CG59",
        "outputId": "d3caeb4f-08a8-4a1e-e6ca-eb0cf3ba4ad8",
        "colab": {
          "base_uri": "https://localhost:8080/"
        }
      },
      "execution_count": null,
      "outputs": [
        {
          "output_type": "stream",
          "name": "stderr",
          "text": [
            "epoch: 1 | global_step:     1500 | loss: 1.2814: 100%|██████████| 1500/1500 [00:31<00:00, 48.05it/s]\n"
          ]
        },
        {
          "output_type": "stream",
          "name": "stdout",
          "text": [
            "epoch: 1 | global_step: 1500 | valid acc: 68.000000%\n"
          ]
        },
        {
          "output_type": "stream",
          "name": "stderr",
          "text": [
            "epoch: 2 | global_step:     3000 | loss: 1.3250: 100%|██████████| 1500/1500 [00:30<00:00, 49.01it/s]\n"
          ]
        },
        {
          "output_type": "stream",
          "name": "stdout",
          "text": [
            "epoch: 2 | global_step: 3000 | valid acc: 82.658333%\n"
          ]
        },
        {
          "output_type": "stream",
          "name": "stderr",
          "text": [
            "epoch: 3 | global_step:     4500 | loss: 0.9768: 100%|██████████| 1500/1500 [00:28<00:00, 51.87it/s]\n"
          ]
        },
        {
          "output_type": "stream",
          "name": "stdout",
          "text": [
            "epoch: 3 | global_step: 4500 | valid acc: 86.225000%\n"
          ]
        },
        {
          "output_type": "stream",
          "name": "stderr",
          "text": [
            "epoch: 4 | global_step:     6000 | loss: 0.5968: 100%|██████████| 1500/1500 [00:28<00:00, 53.12it/s]\n"
          ]
        },
        {
          "output_type": "stream",
          "name": "stdout",
          "text": [
            "epoch: 4 | global_step: 6000 | valid acc: 87.400000%\n"
          ]
        },
        {
          "output_type": "stream",
          "name": "stderr",
          "text": [
            "epoch: 5 | global_step:     7500 | loss: 0.7153: 100%|██████████| 1500/1500 [00:28<00:00, 52.38it/s]\n"
          ]
        },
        {
          "output_type": "stream",
          "name": "stdout",
          "text": [
            "epoch: 5 | global_step: 7500 | valid acc: 88.216667%\n"
          ]
        },
        {
          "output_type": "stream",
          "name": "stderr",
          "text": [
            "epoch: 6 | global_step:     9000 | loss: 0.3088: 100%|██████████| 1500/1500 [00:27<00:00, 55.47it/s]\n"
          ]
        },
        {
          "output_type": "stream",
          "name": "stdout",
          "text": [
            "epoch: 6 | global_step: 9000 | valid acc: 88.783333%\n"
          ]
        },
        {
          "output_type": "stream",
          "name": "stderr",
          "text": [
            "epoch: 7 | global_step:    10500 | loss: 0.4391: 100%|██████████| 1500/1500 [00:26<00:00, 56.69it/s]\n"
          ]
        },
        {
          "output_type": "stream",
          "name": "stdout",
          "text": [
            "epoch: 7 | global_step: 10500 | valid acc: 89.166667%\n"
          ]
        },
        {
          "output_type": "stream",
          "name": "stderr",
          "text": [
            "epoch: 8 | global_step:    12000 | loss: 0.4173: 100%|██████████| 1500/1500 [00:26<00:00, 56.34it/s]\n"
          ]
        },
        {
          "output_type": "stream",
          "name": "stdout",
          "text": [
            "epoch: 8 | global_step: 12000 | valid acc: 89.400000%\n"
          ]
        },
        {
          "output_type": "stream",
          "name": "stderr",
          "text": [
            "epoch: 9 | global_step:    13500 | loss: 0.5260: 100%|██████████| 1500/1500 [00:26<00:00, 56.75it/s]\n"
          ]
        },
        {
          "output_type": "stream",
          "name": "stdout",
          "text": [
            "epoch: 9 | global_step: 13500 | valid acc: 89.250000%\n"
          ]
        },
        {
          "output_type": "stream",
          "name": "stderr",
          "text": [
            "epoch: 10 | global_step:    15000 | loss: 0.4765: 100%|█████████| 1500/1500 [00:26<00:00, 56.37it/s]\n"
          ]
        },
        {
          "output_type": "stream",
          "name": "stdout",
          "text": [
            "epoch: 10 | global_step: 15000 | valid acc: 89.408333%\n"
          ]
        },
        {
          "output_type": "stream",
          "name": "stderr",
          "text": [
            "epoch: 11 | global_step:    16500 | loss: 0.5997: 100%|█████████| 1500/1500 [00:27<00:00, 54.28it/s]\n"
          ]
        },
        {
          "output_type": "stream",
          "name": "stdout",
          "text": [
            "epoch: 11 | global_step: 16500 | valid acc: 89.825000%\n"
          ]
        },
        {
          "output_type": "stream",
          "name": "stderr",
          "text": [
            "epoch: 12 | global_step:    18000 | loss: 0.3316: 100%|█████████| 1500/1500 [00:31<00:00, 47.38it/s]\n"
          ]
        },
        {
          "output_type": "stream",
          "name": "stdout",
          "text": [
            "epoch: 12 | global_step: 18000 | valid acc: 89.958333%\n"
          ]
        },
        {
          "output_type": "stream",
          "name": "stderr",
          "text": [
            "epoch: 13 | global_step:    19500 | loss: 0.4401: 100%|█████████| 1500/1500 [00:34<00:00, 43.29it/s]\n"
          ]
        },
        {
          "output_type": "stream",
          "name": "stdout",
          "text": [
            "epoch: 13 | global_step: 19500 | valid acc: 89.958333%\n"
          ]
        },
        {
          "output_type": "stream",
          "name": "stderr",
          "text": [
            "epoch: 14 | global_step:    21000 | loss: 0.3793: 100%|█████████| 1500/1500 [00:32<00:00, 46.48it/s]\n"
          ]
        },
        {
          "output_type": "stream",
          "name": "stdout",
          "text": [
            "epoch: 14 | global_step: 21000 | valid acc: 90.075000%\n"
          ]
        },
        {
          "output_type": "stream",
          "name": "stderr",
          "text": [
            "epoch: 15 | global_step:    22500 | loss: 0.7501: 100%|█████████| 1500/1500 [00:30<00:00, 48.62it/s]\n"
          ]
        },
        {
          "output_type": "stream",
          "name": "stdout",
          "text": [
            "epoch: 15 | global_step: 22500 | valid acc: 90.325000%\n"
          ]
        },
        {
          "output_type": "stream",
          "name": "stderr",
          "text": [
            "epoch: 16 | global_step:    24000 | loss: 0.3750: 100%|█████████| 1500/1500 [00:36<00:00, 41.47it/s]\n"
          ]
        },
        {
          "output_type": "stream",
          "name": "stdout",
          "text": [
            "epoch: 16 | global_step: 24000 | valid acc: 90.375000%\n"
          ]
        },
        {
          "output_type": "stream",
          "name": "stderr",
          "text": [
            "epoch: 17 | global_step:    25500 | loss: 0.5641: 100%|█████████| 1500/1500 [00:32<00:00, 45.81it/s]\n"
          ]
        },
        {
          "output_type": "stream",
          "name": "stdout",
          "text": [
            "epoch: 17 | global_step: 25500 | valid acc: 90.533333%\n"
          ]
        },
        {
          "output_type": "stream",
          "name": "stderr",
          "text": [
            "epoch: 18 | global_step:    27000 | loss: 0.5266: 100%|█████████| 1500/1500 [00:37<00:00, 40.44it/s]\n"
          ]
        },
        {
          "output_type": "stream",
          "name": "stdout",
          "text": [
            "epoch: 18 | global_step: 27000 | valid acc: 90.533333%\n"
          ]
        },
        {
          "output_type": "stream",
          "name": "stderr",
          "text": [
            "epoch: 19 | global_step:    28500 | loss: 0.5824: 100%|█████████| 1500/1500 [00:41<00:00, 35.76it/s]\n"
          ]
        },
        {
          "output_type": "stream",
          "name": "stdout",
          "text": [
            "epoch: 19 | global_step: 28500 | valid acc: 90.666667%\n"
          ]
        },
        {
          "output_type": "stream",
          "name": "stderr",
          "text": [
            "epoch: 20 | global_step:    29455 | loss: 0.6513:  64%|██████▎   | 955/1500 [00:24<00:16, 33.59it/s]"
          ]
        }
      ]
    },
    {
      "cell_type": "code",
      "source": [
        "with torch.no_grad():\n",
        "  model.eval()\n",
        "  predict = model(x_test_torch.unsqueeze(1))\n",
        "  predict = torch.argmax(predict.squeeze(1), 1)"
      ],
      "metadata": {
        "id": "AjjOC02cA6_m"
      },
      "execution_count": 59,
      "outputs": []
    },
    {
      "cell_type": "code",
      "source": [
        "correct = 0 \n",
        "for i in range(len(predict)):\n",
        "  if predict[i].item() == y_test[i]:\n",
        "    correct += 1\n",
        "acc = correct/len(predict)\n",
        "print(\"Test accuracy : {:.2%}\".format(acc))"
      ],
      "metadata": {
        "colab": {
          "base_uri": "https://localhost:8080/"
        },
        "id": "USlMv0T1A_hk",
        "outputId": "d799a1de-8fe3-4fff-f437-739b5b8320b7"
      },
      "execution_count": 60,
      "outputs": [
        {
          "output_type": "stream",
          "name": "stdout",
          "text": [
            "Test accuracy : 85.89%\n"
          ]
        }
      ]
    },
    {
      "cell_type": "code",
      "source": [
        "fig = plt.figure(figsize=(15, 7))\n",
        "\n",
        "for i in range(5):\n",
        "    plottable_image = x_test[i]\n",
        "    ax = fig.add_subplot(2, 5, i+1)\n",
        "    ax.title.set_text(str(y_test[i]))\n",
        "    ax.imshow(plottable_image, cmap='gray_r')\n",
        "  \n",
        "for i in range(5):\n",
        "    plottable_image = x_test[i]\n",
        "    ax = fig.add_subplot(2, 5, i+6)\n",
        "    ax.title.set_text(str(predict[i].item()))\n",
        "    ax.imshow(plottable_image, cmap='gray_r')\n",
        "\n",
        "plt.show()"
      ],
      "metadata": {
        "colab": {
          "base_uri": "https://localhost:8080/",
          "height": 416
        },
        "id": "EOhPxQLrBBik",
        "outputId": "f329e51a-7834-46aa-a8f2-b00bcc02685e"
      },
      "execution_count": 61,
      "outputs": [
        {
          "output_type": "display_data",
          "data": {
            "text/plain": [
              "<Figure size 1080x504 with 10 Axes>"
            ],
            "image/png": "[encoded data removed]"
          },
          "metadata": {
            "needs_background": "light"
          }
        }
      ]
    },
    {
      "cell_type": "code",
      "source": [
        "###### M E M O ######\n",
        "\n",
        "## [220722] 합성곱신경망\n",
        "\n",
        "## 스트라이드\n",
        "## 밸리드 패딩/ 풀패딩(아웃풋 배수가 많아진다는 단점이 있음)\n",
        "## \n",
        "## \n",
        "## 보통 패딩\"valid\" \"same\" 두가지!\n",
        "## ㅍ\n",
        "## padding \"VALID\" > 패딩을 안 주는 것과 같음\n",
        "## \n",
        "## \n",
        "## paddind \"SAME\" > 인풋.아웃풋 똑같이 맞추고 싶은 것\n",
        "## > zero padding\n",
        "## >reflect padding\n",
        "## \n",
        "## \n",
        "## 풀링 : 최대풀링, 평균 풀링\n",
        "## 커널 갯수가 많아질수록 많은 정보를 보게 된당\n",
        "## \n",
        "## \n",
        "## 합성곱층 > 활성화함수(ReLU) > 풀링층 > 펼쳐서 > 완전 연결층(소프트맥스 함수) > 출력\n",
        "## \n",
        "## \n",
        "## x_train_torch.size()\n",
        "## import torch.nn as nn\n",
        "## \n",
        "## [리니어 대신 얘네를 넣으면 된당]\n",
        "## model = nn.Conv2d(in_cahnnels=1, out_chanenels=10, kernel_sizw=3, stride=1, padding=\"same\")\n",
        "## \n",
        "## model = x_train_torch.unsqueeze(1).size()\n",
        "## \n",
        "## model(x_train_torch.x_train_torch.insqueeze(1)[0:2).reshape(-2:,7840)\n",
        "## \n",
        "## \n",
        "## \n",
        "## 클래스 만들고 (반드시 nn.module을 써줘야함\n",
        "## init했을 때 super(MyModel, self).__init__() 이거 무조건 넣어줘야함\n",
        "## 마지막에 맥스풀 취하고 드롭아웃!\n",
        "## \n",
        "## [펼치는걸 하고싶으면]\n",
        "## \n",
        "## \n",
        "## break 걸고 x 넣어보고 갯수를 세야함\n",
        "## \toutput = self.net(x)\n",
        "## \tbreakpoint()\n",
        "## nn.Sequential을 쓰되 클래스를 써서 받아와야함\n",
        "## \n",
        "## \n",
        "## 커널사이즈 [3,5,3]\n",
        "## \n",
        "## [0]\n",
        "## [1]\n",
        "## [2]\n",
        "## \n",
        "## 드랍아웃은 혼자 공부해랑..\n",
        "## \n",
        "## \n",
        "## \n",
        "## Dropout(0.3) > 0.3을 없애겠다...\n",
        "## 보통 0.3,0.2 많이 씀'\n",
        "\n",
        "\n",
        "##https://ko.d2l.ai/chapter_introduction/deep-learning-intro.html#%EB%94%A5-%EB%9F%AC%EB%8B%9D%EC%9C%BC%EB%A1%9C%EC%9D%98-%EA%B8%B8\n",
        "## 넘 느리면 GPU로 돌리면 된당\n",
        "\n",
        "\n",
        "\n",
        "### 과제!!!!!!\n",
        "### 싸이파10 데이터 ... 테스트 어큐러시가 높게 나오면 됨!!"
      ],
      "metadata": {
        "id": "s0wsF8LNBfgE"
      },
      "execution_count": 55,
      "outputs": []
    }
  ]
}