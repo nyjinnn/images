{
  "nbformat": 4,
  "nbformat_minor": 0,
  "metadata": {
    "colab": {
      "name": "Untitled0.ipynb",
      "provenance": [],
      "include_colab_link": true
    },
    "kernelspec": {
      "name": "python3",
      "display_name": "Python 3"
    },
    "language_info": {
      "name": "python"
    },
    "accelerator": "GPU",
    "gpuClass": "standard"
  },
  "cells": [
    {
      "cell_type": "markdown",
      "metadata": {
        "id": "view-in-github",
        "colab_type": "text"
      },
      "source": [
        "<a href=\"https://colab.research.google.com/github/nyjinnn/images/blob/main/220729_%20%EC%88%99%EC%A0%9C!!!!!!%EC%9D%B4%EA%B1%B0%20%EC%B5%9C%EC%A2%85!!!!Chapter9_%EC%88%98%EC%97%85%20%EC%9E%90%EB%A3%8C.ipynb\" target=\"_parent\"><img src=\"https://colab.research.google.com/assets/colab-badge.svg\" alt=\"Open In Colab\"/></a>"
      ]
    },
    {
      "cell_type": "markdown",
      "source": [
        "# 영화 리뷰 데이터셋\n",
        "## 텍스트 분류하기 "
      ],
      "metadata": {
        "id": "KbCz2l36VL-Q"
      }
    },
    {
      "cell_type": "code",
      "source": [
        "### 0.cifar10 (정확도 99.5까지 갔었음,,,) 데이터 사용\n",
        "\n",
        "#기간 : 22.08.05 / 18:00까지 (결과 공개는 8/8)\n",
        "\n",
        "#허용 범위 : (convolution), (dropout), (모든 전처리 방법 가능), (모든 규제 방법 L1, L2 등 허용) (모든 activation 허용) (배치 normalization 방법 허용 금 지  XXXX - (batch norm, layer norm, weight 등등 금지)\n",
        "#,재학습 했을 때 결과가 동일해야 함 , 미니배치사용(배치사이즈 상관 없음) , 파이토치만 쓸 것, 앙상블 허용\n",
        "\n",
        "\n",
        "#기준 : (정확도), (모델 파라미터 수), (학습 횟수 - 배치사이즈 x 스텝x 주기)\n",
        "\n",
        "# 포상 ㅋㅋㅋㅋ (1) 개인((2만원 상당의 썸띵..)) / (2) 팀: 간식 ((3만원))\n",
        "\n",
        "패션엠니스트 써도 나오긴할거임..\n"
      ],
      "metadata": {
        "id": "vWKwKMWku8bZ"
      },
      "execution_count": null,
      "outputs": []
    },
    {
      "cell_type": "markdown",
      "source": [
        "### 1. 데이터 불러오기 "
      ],
      "metadata": {
        "id": "Ym09lvkZVYHv"
      }
    },
    {
      "cell_type": "code",
      "source": [
        ""
      ],
      "metadata": {
        "id": "2hXElgCLu6xK"
      },
      "execution_count": null,
      "outputs": []
    },
    {
      "cell_type": "code",
      "source": [
        "import numpy as np \n",
        "from tensorflow.keras.datasets import imdb"
      ],
      "metadata": {
        "id": "mdO90EZpUtN0"
      },
      "execution_count": null,
      "outputs": []
    },
    {
      "cell_type": "markdown",
      "source": [
        "![figure3](https://github.com/music-ai-644/AI_Study_2022/blob/main/figure/Chapter9_3.PNG?raw=true)"
      ],
      "metadata": {
        "id": "KQUSH588Z281"
      }
    },
    {
      "cell_type": "markdown",
      "source": [
        "- 인터넷 영화 평점 사이트의 댓글 데이터 셋 \n",
        "- 리뷰 하나가 들어왔을 때 문장(문자열)을 보고 긍정(1) 인지, 부정(0)인지 예측하는 학습에 사용\n",
        "- 이러한 task를 감성 분석(sentimental analysis)이라고 함"
      ],
      "metadata": {
        "id": "mnuN5CA8Z8W_"
      }
    },
    {
      "cell_type": "code",
      "source": [
        "(x_train_all, y_train_all), (x_test, y_test) = imdb.load_data(skip_top=20, num_words=200)\n",
        "# skip_top 제일 많이 나오는 단어 20개는 삭제 (a, the 같은 관사일 수 있음)\n",
        "# num_words 단어의 개수를 설정 \n",
        "\n",
        "for i in range(len(x_train_all)):\n",
        "    x_train_all[i] = [w for w in x_train_all[i] if w > 2]\n",
        "print(x_train_all.shape, y_train_all.shape)"
      ],
      "metadata": {
        "id": "zNwJOBz_VLM9",
        "outputId": "f4077737-891e-4db9-9fca-b441b3fdbbce",
        "colab": {
          "base_uri": "https://localhost:8080/"
        }
      },
      "execution_count": null,
      "outputs": [
        {
          "output_type": "stream",
          "name": "stdout",
          "text": [
            "(25000,) (25000,)\n"
          ]
        }
      ]
    },
    {
      "cell_type": "code",
      "source": [
        "word_to_index = imdb.get_word_index()\n",
        "word_to_index['movie']\n",
        "index_to_word = {word_to_index[k]: k for k in word_to_index}\n",
        "\n",
        "for w in x_train_all[0]:\n",
        "    print(index_to_word[w - 3], end=' ')"
      ],
      "metadata": {
        "colab": {
          "base_uri": "https://localhost:8080/"
        },
        "id": "oMlrC22FvwxS",
        "outputId": "ca5dbfd1-9cc8-4011-f5e4-6f419e7c85d9"
      },
      "execution_count": null,
      "outputs": [
        {
          "output_type": "stream",
          "name": "stdout",
          "text": [
            "film just story really part they you could just being there an now same being director from same so fact there real film film were great just so much film would watch really at end so you know what they say if you at film have been good also two little they were just are out think because them all up are such big film but these are should be what they have don't you think story so because life after all us all "
          ]
        }
      ]
    },
    {
      "cell_type": "markdown",
      "source": [
        "![figure4](https://github.com/music-ai-644/AI_Study_2022/blob/main/figure/Chapter9_4.PNG?raw=true)"
      ],
      "metadata": {
        "id": "3ZcZDUuBahLQ"
      }
    },
    {
      "cell_type": "code",
      "source": [
        "print(\"첫 번째 sequence의 길이 : \", len(x_train_all[0]))\n",
        "print(\"두 번째 sequence의 길이 : \", len(x_train_all[1]))"
      ],
      "metadata": {
        "id": "lOfjk4sGVm2t",
        "outputId": "ba4b7650-ae9b-4dbd-b2e5-d4c2a2dd3a30",
        "colab": {
          "base_uri": "https://localhost:8080/"
        }
      },
      "execution_count": null,
      "outputs": [
        {
          "output_type": "stream",
          "name": "stdout",
          "text": [
            "첫 번째 sequence의 길이 :  84\n",
            "두 번째 sequence의 길이 :  63\n"
          ]
        }
      ]
    },
    {
      "cell_type": "code",
      "source": [
        "print(\"첫 번째 sequence의 타겟값 : \", y_train_all[0])\n",
        "print(\"두 번째 sequence의 타겟값 : \", y_train_all[1])"
      ],
      "metadata": {
        "id": "y5cHBGsHVouJ",
        "outputId": "cf35fbbb-2fcf-4432-e155-80c66bf230e3",
        "colab": {
          "base_uri": "https://localhost:8080/"
        }
      },
      "execution_count": null,
      "outputs": [
        {
          "output_type": "stream",
          "name": "stdout",
          "text": [
            "첫 번째 sequence의 타겟값 :  1\n",
            "두 번째 sequence의 타겟값 :  0\n"
          ]
        }
      ]
    },
    {
      "cell_type": "code",
      "source": [
        "from sklearn.model_selection import train_test_split \n",
        "x_train, x_valid, y_train, y_valid = train_test_split(x_train_all, y_train_all, stratify=y_train_all, test_size=0.2, random_state=42)"
      ],
      "metadata": {
        "id": "5YWWgCuwYXld"
      },
      "execution_count": null,
      "outputs": []
    },
    {
      "cell_type": "code",
      "source": [
        "import matplotlib.pyplot as plt \n",
        "lengths = np.array([len(x) for x in x_train])  # train set의 sequence의 길이들을 모음 \n",
        "print(\"훈련 데이터 셋 길이의 평균   : \", np.mean(lengths))\n",
        "print(\"훈련 데이터 셋 길이의 중간값 : \", np.median(lengths))\n",
        "\n",
        "plt.hist(lengths)\n",
        "plt.grid()\n",
        "plt.xlabel(\"length\")\n",
        "plt.ylabel(\"frequency\")"
      ],
      "metadata": {
        "id": "Mz1wX7Xra0F0",
        "outputId": "3eb82cc4-6a62-429e-bc1e-fd1110b1c758",
        "colab": {
          "base_uri": "https://localhost:8080/",
          "height": 334
        }
      },
      "execution_count": null,
      "outputs": [
        {
          "output_type": "stream",
          "name": "stdout",
          "text": [
            "훈련 데이터 셋 길이의 평균   :  70.6734\n",
            "훈련 데이터 셋 길이의 중간값 :  55.0\n"
          ]
        },
        {
          "output_type": "execute_result",
          "data": {
            "text/plain": [
              "Text(0, 0.5, 'frequency')"
            ]
          },
          "metadata": {},
          "execution_count": 7
        },
        {
          "output_type": "display_data",
          "data": {
            "text/plain": [
              "<Figure size 432x288 with 1 Axes>"
            ],
            "image/png": "[encoded data removed]"
          },
          "metadata": {
            "needs_background": "light"
          }
        }
      ]
    },
    {
      "cell_type": "markdown",
      "source": [
        "### 2. 샘플 길이 맞추고 원-핫 인코딩하기"
      ],
      "metadata": {
        "id": "FjP7djoYXqBY"
      }
    },
    {
      "cell_type": "markdown",
      "source": [
        "![figure1](https://github.com/music-ai-644/AI_Study_2022/blob/main/figure/Chapter9_1.PNG?raw=true)\n",
        "- 순환 신경망의 경우, sequence의 길이가 짧은 경우, 뒤에 하는 것이 아니라 앞에 함\n",
        "- 텍스트 분류를 위해서 신경망의 가장 마지막 output을 사용하게 되는데, 이 때 뒤에 패딩한 값(zero 혹은 기타)이 영향을 주게 되어 실제 데이터와 무관한 값이 나올 수 있음\n",
        "\n",
        "![figure2](https://github.com/music-ai-644/AI_Study_2022/blob/main/figure/Chapter9_2.PNG?raw=true)"
      ],
      "metadata": {
        "id": "hkSid-9ZWilO"
      }
    },
    {
      "cell_type": "code",
      "source": [
        "from tensorflow.keras.preprocessing import sequence \n",
        "\n",
        "maxlen = 570  # 배치 내의 sequence의 길이를 최대 100으로 함 \n",
        "x_train_seq = sequence.pad_sequences(x_train, maxlen=maxlen)\n",
        "x_valid_seq = sequence.pad_sequences(x_valid, maxlen=maxlen)\n",
        "x_test_seq = sequence.pad_sequences(x_test, maxlen=maxlen)"
      ],
      "metadata": {
        "id": "FSZl_CHBV411"
      },
      "execution_count": null,
      "outputs": []
    },
    {
      "cell_type": "markdown",
      "source": [
        "![figure5](https://github.com/music-ai-644/AI_Study_2022/blob/main/figure/Chapter9_5.PNG?raw=true)"
      ],
      "metadata": {
        "id": "qxLeyDb9bz_k"
      }
    },
    {
      "cell_type": "code",
      "source": [
        "print(\"훈련 데이터 셋의 형태 : \", np.shape(x_train[0]))"
      ],
      "metadata": {
        "id": "IOZ8ZEzrYtSh",
        "outputId": "b8eeb6ac-ca81-4574-f93a-58b7319058c2",
        "colab": {
          "base_uri": "https://localhost:8080/"
        }
      },
      "execution_count": null,
      "outputs": [
        {
          "output_type": "stream",
          "name": "stdout",
          "text": [
            "훈련 데이터 셋의 형태 :  (51,)\n"
          ]
        }
      ]
    },
    {
      "cell_type": "code",
      "source": [
        "print(\"훈련 데이터 셋의 타겟 : \", np.shape(x_train_seq))  # (전체 샘플 개수, sequence 길이)\n",
        "print(\"평가 데이터 셋의 타겟 : \", np.shape(x_valid_seq))  # (전체 샘플 개수, sequence 길이)"
      ],
      "metadata": {
        "id": "kjLL9aKgY-NZ",
        "outputId": "70423af6-48ba-407e-d797-d60f65f1c9f5",
        "colab": {
          "base_uri": "https://localhost:8080/"
        }
      },
      "execution_count": null,
      "outputs": [
        {
          "output_type": "stream",
          "name": "stdout",
          "text": [
            "훈련 데이터 셋의 타겟 :  (20000, 570)\n",
            "평가 데이터 셋의 타겟 :  (5000, 570)\n"
          ]
        }
      ]
    },
    {
      "cell_type": "code",
      "source": [
        "import torch\n",
        "x_train_torch = torch.FloatTensor(x_train_seq)\n",
        "y_train_torch = torch.FloatTensor(y_train)\n",
        "x_valid_torch = torch.FloatTensor(x_valid_seq)\n",
        "y_valid_torch = torch.FloatTensor(y_valid) \n",
        "x_test_torch = torch.FloatTensor(x_test_seq)\n",
        "y_test_torch = torch.FloatTensor(y_test) "
      ],
      "metadata": {
        "id": "JiSTADR5ZDhV"
      },
      "execution_count": null,
      "outputs": []
    },
    {
      "cell_type": "code",
      "source": [
        "import torch.nn as nn \n",
        "from torch.utils.data import Dataset, DataLoader "
      ],
      "metadata": {
        "id": "quyQx0-DdXey"
      },
      "execution_count": null,
      "outputs": []
    },
    {
      "cell_type": "code",
      "source": [
        "class IMDBDataset(Dataset):\n",
        "  def __init__(self, x, y):\n",
        "    self.x_data = x \n",
        "    self.y_data = y \n",
        "\n",
        "  def __getitem__(self, index):\n",
        "    x = self.x_data[index]\n",
        "    y = self.y_data[index]\n",
        "    return x, y\n",
        "\n",
        "  def collate_fn(self, batch):\n",
        "    x, y = zip(*batch)\n",
        "    return x, y \n",
        "\n",
        "  def __len__(self):\n",
        "    return len(self.x_data)\n"
      ],
      "metadata": {
        "id": "C6M5hK5-dnAP"
      },
      "execution_count": null,
      "outputs": []
    },
    {
      "cell_type": "code",
      "source": [
        "dataset = IMDBDataset(x_train_torch, y_train_torch)\n",
        "dataloader = DataLoader(dataset, batch_size=16, shuffle=True, drop_last=True)"
      ],
      "metadata": {
        "id": "N5cD5sEVIPTC"
      },
      "execution_count": null,
      "outputs": []
    },
    {
      "cell_type": "markdown",
      "source": [
        "![figure6](https://github.com/music-ai-644/AI_Study_2022/blob/main/figure/Chapter9_6.PNG?raw=true)"
      ],
      "metadata": {
        "id": "ofTN95pnyBYc"
      }
    },
    {
      "cell_type": "code",
      "source": [
        "class MyModel(nn.Module):\n",
        "  def __init__(self):\n",
        "    super(MyModel, self).__init__()\n",
        "    self.n_layers = 1\n",
        "    self.n_hidden = 128\n",
        "    self.embedding = nn.Embedding(200, self.n_hidden)\n",
        "    self.rnn = nn.RNN(self.n_hidden, self.n_hidden)\n",
        "    self.dropout = nn.Dropout(0.3)\n",
        "    self.linear = nn.Linear(self.n_hidden, 1)\n",
        "    self.sigmoid = nn.Sigmoid()\n",
        "  \n",
        "  def forward(self, x):\n",
        "    x = self.embedding(x)\n",
        "    h_0 = self._init_state(batch_size=x.size(1))\n",
        "    output, _ = self.rnn(x, h_0)\n",
        "    output = self.dropout(output)\n",
        "    predicts = self.linear(output[-1, :, :])\n",
        "    predicts = self.sigmoid(predicts)\n",
        "    return predicts\n",
        "\n",
        "  def predict(self, x):\n",
        "    predicts = []\n",
        "    len_x = x.size(1)\n",
        "    for i in range(len_x):\n",
        "      pred = model(x[:, i].unsqueeze(1))\n",
        "      predicts.append(pred.cpu().data.numpy()[0])\n",
        "    return np.array(predicts) > 0.5\n",
        "  \n",
        "  def _init_state(self, batch_size=1):\n",
        "    weight = next(self.parameters()).data\n",
        "    return weight.new(self.n_layers, batch_size, self.n_hidden).zero_()"
      ],
      "metadata": {
        "id": "IP5CcmxSM-az"
      },
      "execution_count": null,
      "outputs": []
    },
    {
      "cell_type": "code",
      "source": [
        "from tqdm import tqdm \n",
        "import random \n",
        "\n",
        "random_seed = 123\n",
        "np.random.seed(random_seed)\n",
        "torch.manual_seed(random_seed)\n",
        "random.seed(random_seed)\n",
        "\n",
        "model = MyModel().cuda()\n",
        "model.train()\n",
        "\n",
        "optim = torch.optim.Adam(model.parameters(), lr=1e-3)\n",
        "criterion = nn.BCELoss()\n",
        "\n",
        "global_step = 0 \n",
        "for epoch in range(100):\n",
        "  t = tqdm(dataloader, ncols=100)\n",
        "  epoch_loss = 0\n",
        "  cnt = 0\n",
        "  for i, batch in enumerate(t):\n",
        "    x_batch = batch[0].cuda()\n",
        "    y_batch = batch[1].cuda()\n",
        "    x_batch = x_batch.transpose(0, 1)\n",
        "    model.zero_grad()\n",
        "    optim.zero_grad()\n",
        "    predicts = model(x_batch.long())\n",
        "    loss = criterion(predicts[:,0], y_batch)\n",
        "    loss.backward()\n",
        "    optim.step()\n",
        "    cnt += 1\n",
        "    epoch_loss += loss.cpu().data.numpy()\n",
        "\n",
        "    global_step += 1\n",
        "    t.set_description(\"epoch: {} | global_step: {:8d} | loss: {:.4f}\".format(epoch + 1, global_step, loss))\n",
        "    \n",
        "  with torch.no_grad():\n",
        "    model.eval()\n",
        "    predicts = model.predict(x_valid_torch.transpose(0, 1).long().cuda())\n",
        "    result = np.mean(predicts == y_valid)\n",
        "    print(\"Epoch Loss : {:.6f}, 정확도 : {:%}\".format(epoch_loss, result))\n",
        "    model.train()"
      ],
      "metadata": {
        "id": "QTrbnA3qI4Si",
        "outputId": "0633ff26-05d7-4689-aa31-d88b83c15ca1",
        "colab": {
          "base_uri": "https://localhost:8080/"
        }
      },
      "execution_count": null,
      "outputs": [
        {
          "output_type": "stream",
          "name": "stderr",
          "text": [
            "epoch: 1 | global_step:     1250 | loss: 0.6573: 100%|██████████| 1250/1250 [00:13<00:00, 90.52it/s]\n"
          ]
        },
        {
          "output_type": "stream",
          "name": "stdout",
          "text": [
            "Epoch Loss : 829.231430, 정확도 : 50.000000%\n"
          ]
        },
        {
          "output_type": "stream",
          "name": "stderr",
          "text": [
            "epoch: 2 | global_step:     2500 | loss: 0.6228: 100%|██████████| 1250/1250 [00:13<00:00, 96.14it/s]\n"
          ]
        },
        {
          "output_type": "stream",
          "name": "stdout",
          "text": [
            "Epoch Loss : 845.049322, 정확도 : 50.000000%\n"
          ]
        },
        {
          "output_type": "stream",
          "name": "stderr",
          "text": [
            "epoch: 3 | global_step:     3750 | loss: 0.5880: 100%|██████████| 1250/1250 [00:13<00:00, 94.92it/s]\n"
          ]
        },
        {
          "output_type": "stream",
          "name": "stdout",
          "text": [
            "Epoch Loss : 812.707791, 정확도 : 50.000000%\n"
          ]
        },
        {
          "output_type": "stream",
          "name": "stderr",
          "text": [
            "epoch: 4 | global_step:     5000 | loss: 0.6401: 100%|██████████| 1250/1250 [00:13<00:00, 95.05it/s]\n"
          ]
        },
        {
          "output_type": "stream",
          "name": "stdout",
          "text": [
            "Epoch Loss : 798.759855, 정확도 : 50.000000%\n"
          ]
        },
        {
          "output_type": "stream",
          "name": "stderr",
          "text": [
            "epoch: 5 | global_step:     6250 | loss: 0.6764: 100%|██████████| 1250/1250 [00:13<00:00, 95.40it/s]\n"
          ]
        },
        {
          "output_type": "stream",
          "name": "stdout",
          "text": [
            "Epoch Loss : 773.559386, 정확도 : 50.000000%\n"
          ]
        },
        {
          "output_type": "stream",
          "name": "stderr",
          "text": [
            "epoch: 6 | global_step:     7500 | loss: 0.5421: 100%|██████████| 1250/1250 [00:13<00:00, 95.84it/s]\n"
          ]
        },
        {
          "output_type": "stream",
          "name": "stdout",
          "text": [
            "Epoch Loss : 754.248280, 정확도 : 50.000000%\n"
          ]
        },
        {
          "output_type": "stream",
          "name": "stderr",
          "text": [
            "epoch: 7 | global_step:     8750 | loss: 0.5669: 100%|██████████| 1250/1250 [00:13<00:00, 94.00it/s]\n"
          ]
        },
        {
          "output_type": "stream",
          "name": "stdout",
          "text": [
            "Epoch Loss : 771.983409, 정확도 : 50.000000%\n"
          ]
        },
        {
          "output_type": "stream",
          "name": "stderr",
          "text": [
            "epoch: 8 | global_step:    10000 | loss: 0.6481: 100%|██████████| 1250/1250 [00:13<00:00, 95.18it/s]\n"
          ]
        },
        {
          "output_type": "stream",
          "name": "stdout",
          "text": [
            "Epoch Loss : 774.460796, 정확도 : 50.000000%\n"
          ]
        },
        {
          "output_type": "stream",
          "name": "stderr",
          "text": [
            "epoch: 9 | global_step:    11250 | loss: 0.7023: 100%|██████████| 1250/1250 [00:13<00:00, 95.90it/s]\n"
          ]
        },
        {
          "output_type": "stream",
          "name": "stdout",
          "text": [
            "Epoch Loss : 740.047448, 정확도 : 50.000000%\n"
          ]
        },
        {
          "output_type": "stream",
          "name": "stderr",
          "text": [
            "epoch: 10 | global_step:    12500 | loss: 0.5487: 100%|█████████| 1250/1250 [00:13<00:00, 95.13it/s]\n"
          ]
        },
        {
          "output_type": "stream",
          "name": "stdout",
          "text": [
            "Epoch Loss : 753.727946, 정확도 : 50.000000%\n"
          ]
        },
        {
          "output_type": "stream",
          "name": "stderr",
          "text": [
            "epoch: 11 | global_step:    13750 | loss: 0.5307: 100%|█████████| 1250/1250 [00:13<00:00, 96.06it/s]\n"
          ]
        },
        {
          "output_type": "stream",
          "name": "stdout",
          "text": [
            "Epoch Loss : 788.899464, 정확도 : 50.000000%\n"
          ]
        },
        {
          "output_type": "stream",
          "name": "stderr",
          "text": [
            "epoch: 12 | global_step:    15000 | loss: 0.7291: 100%|█████████| 1250/1250 [00:12<00:00, 96.17it/s]\n"
          ]
        },
        {
          "output_type": "stream",
          "name": "stdout",
          "text": [
            "Epoch Loss : 777.015173, 정확도 : 50.000000%\n"
          ]
        },
        {
          "output_type": "stream",
          "name": "stderr",
          "text": [
            "epoch: 13 | global_step:    16250 | loss: 0.6059: 100%|█████████| 1250/1250 [00:12<00:00, 96.49it/s]\n"
          ]
        },
        {
          "output_type": "stream",
          "name": "stdout",
          "text": [
            "Epoch Loss : 818.805854, 정확도 : 50.000000%\n"
          ]
        },
        {
          "output_type": "stream",
          "name": "stderr",
          "text": [
            "epoch: 14 | global_step:    17500 | loss: 0.6658: 100%|█████████| 1250/1250 [00:13<00:00, 95.27it/s]\n"
          ]
        },
        {
          "output_type": "stream",
          "name": "stdout",
          "text": [
            "Epoch Loss : 770.418409, 정확도 : 50.000000%\n"
          ]
        },
        {
          "output_type": "stream",
          "name": "stderr",
          "text": [
            "epoch: 15 | global_step:    18750 | loss: 0.6129: 100%|█████████| 1250/1250 [00:13<00:00, 95.13it/s]\n"
          ]
        },
        {
          "output_type": "stream",
          "name": "stdout",
          "text": [
            "Epoch Loss : 772.631901, 정확도 : 50.000000%\n"
          ]
        },
        {
          "output_type": "stream",
          "name": "stderr",
          "text": [
            "epoch: 16 | global_step:    20000 | loss: 0.6202: 100%|█████████| 1250/1250 [00:13<00:00, 93.16it/s]\n"
          ]
        },
        {
          "output_type": "stream",
          "name": "stdout",
          "text": [
            "Epoch Loss : 778.326328, 정확도 : 50.000000%\n"
          ]
        },
        {
          "output_type": "stream",
          "name": "stderr",
          "text": [
            "epoch: 17 | global_step:    21250 | loss: 0.6672: 100%|█████████| 1250/1250 [00:13<00:00, 94.53it/s]\n"
          ]
        },
        {
          "output_type": "stream",
          "name": "stdout",
          "text": [
            "Epoch Loss : 789.644406, 정확도 : 50.000000%\n"
          ]
        },
        {
          "output_type": "stream",
          "name": "stderr",
          "text": [
            "epoch: 18 | global_step:    22500 | loss: 0.6576: 100%|█████████| 1250/1250 [00:13<00:00, 92.91it/s]\n"
          ]
        },
        {
          "output_type": "stream",
          "name": "stdout",
          "text": [
            "Epoch Loss : 787.788467, 정확도 : 50.000000%\n"
          ]
        },
        {
          "output_type": "stream",
          "name": "stderr",
          "text": [
            "epoch: 19 | global_step:    23750 | loss: 0.5798: 100%|█████████| 1250/1250 [00:13<00:00, 94.54it/s]\n"
          ]
        },
        {
          "output_type": "stream",
          "name": "stdout",
          "text": [
            "Epoch Loss : 788.670956, 정확도 : 50.000000%\n"
          ]
        },
        {
          "output_type": "stream",
          "name": "stderr",
          "text": [
            "epoch: 20 | global_step:    25000 | loss: 0.7091: 100%|█████████| 1250/1250 [00:13<00:00, 94.94it/s]\n"
          ]
        },
        {
          "output_type": "stream",
          "name": "stdout",
          "text": [
            "Epoch Loss : 817.370842, 정확도 : 50.000000%\n"
          ]
        },
        {
          "output_type": "stream",
          "name": "stderr",
          "text": [
            "epoch: 21 | global_step:    26250 | loss: 0.6571: 100%|█████████| 1250/1250 [00:13<00:00, 93.33it/s]\n"
          ]
        },
        {
          "output_type": "stream",
          "name": "stdout",
          "text": [
            "Epoch Loss : 813.527432, 정확도 : 50.000000%\n"
          ]
        },
        {
          "output_type": "stream",
          "name": "stderr",
          "text": [
            "epoch: 22 | global_step:    27500 | loss: 0.6009: 100%|█████████| 1250/1250 [00:13<00:00, 93.63it/s]\n"
          ]
        },
        {
          "output_type": "stream",
          "name": "stdout",
          "text": [
            "Epoch Loss : 782.183295, 정확도 : 50.000000%\n"
          ]
        },
        {
          "output_type": "stream",
          "name": "stderr",
          "text": [
            "epoch: 23 | global_step:    28750 | loss: 0.6087: 100%|█████████| 1250/1250 [00:13<00:00, 93.00it/s]\n"
          ]
        },
        {
          "output_type": "stream",
          "name": "stdout",
          "text": [
            "Epoch Loss : 796.357595, 정확도 : 50.000000%\n"
          ]
        },
        {
          "output_type": "stream",
          "name": "stderr",
          "text": [
            "epoch: 24 | global_step:    30000 | loss: 0.5584: 100%|█████████| 1250/1250 [00:13<00:00, 92.13it/s]\n"
          ]
        },
        {
          "output_type": "stream",
          "name": "stdout",
          "text": [
            "Epoch Loss : 800.891488, 정확도 : 50.000000%\n"
          ]
        },
        {
          "output_type": "stream",
          "name": "stderr",
          "text": [
            "epoch: 25 | global_step:    31250 | loss: 0.6678: 100%|█████████| 1250/1250 [00:13<00:00, 94.06it/s]\n"
          ]
        },
        {
          "output_type": "stream",
          "name": "stdout",
          "text": [
            "Epoch Loss : 832.269594, 정확도 : 50.000000%\n"
          ]
        },
        {
          "output_type": "stream",
          "name": "stderr",
          "text": [
            "epoch: 26 | global_step:    32500 | loss: 0.8474: 100%|█████████| 1250/1250 [00:13<00:00, 92.12it/s]\n"
          ]
        },
        {
          "output_type": "stream",
          "name": "stdout",
          "text": [
            "Epoch Loss : 814.907432, 정확도 : 50.000000%\n"
          ]
        },
        {
          "output_type": "stream",
          "name": "stderr",
          "text": [
            "epoch: 27 | global_step:    33750 | loss: 0.6525: 100%|█████████| 1250/1250 [00:13<00:00, 92.67it/s]\n"
          ]
        },
        {
          "output_type": "stream",
          "name": "stdout",
          "text": [
            "Epoch Loss : 797.126401, 정확도 : 50.000000%\n"
          ]
        },
        {
          "output_type": "stream",
          "name": "stderr",
          "text": [
            "epoch: 28 | global_step:    35000 | loss: 0.8356: 100%|█████████| 1250/1250 [00:13<00:00, 92.51it/s]\n"
          ]
        },
        {
          "output_type": "stream",
          "name": "stdout",
          "text": [
            "Epoch Loss : 786.093480, 정확도 : 50.000000%\n"
          ]
        },
        {
          "output_type": "stream",
          "name": "stderr",
          "text": [
            "epoch: 29 | global_step:    36250 | loss: 0.5909: 100%|█████████| 1250/1250 [00:13<00:00, 91.84it/s]\n"
          ]
        },
        {
          "output_type": "stream",
          "name": "stdout",
          "text": [
            "Epoch Loss : 792.562263, 정확도 : 50.000000%\n"
          ]
        },
        {
          "output_type": "stream",
          "name": "stderr",
          "text": [
            "epoch: 30 | global_step:    37500 | loss: 0.6162: 100%|█████████| 1250/1250 [00:13<00:00, 91.97it/s]\n"
          ]
        },
        {
          "output_type": "stream",
          "name": "stdout",
          "text": [
            "Epoch Loss : 794.304568, 정확도 : 50.000000%\n"
          ]
        },
        {
          "output_type": "stream",
          "name": "stderr",
          "text": [
            "epoch: 31 | global_step:    38750 | loss: 0.6024: 100%|█████████| 1250/1250 [00:13<00:00, 92.43it/s]\n"
          ]
        },
        {
          "output_type": "stream",
          "name": "stdout",
          "text": [
            "Epoch Loss : 773.058526, 정확도 : 50.000000%\n"
          ]
        },
        {
          "output_type": "stream",
          "name": "stderr",
          "text": [
            "epoch: 32 | global_step:    40000 | loss: 0.6148: 100%|█████████| 1250/1250 [00:13<00:00, 94.77it/s]\n"
          ]
        },
        {
          "output_type": "stream",
          "name": "stdout",
          "text": [
            "Epoch Loss : 751.457302, 정확도 : 50.000000%\n"
          ]
        },
        {
          "output_type": "stream",
          "name": "stderr",
          "text": [
            "epoch: 33 | global_step:    41250 | loss: 0.4700: 100%|█████████| 1250/1250 [00:13<00:00, 94.00it/s]\n"
          ]
        },
        {
          "output_type": "stream",
          "name": "stdout",
          "text": [
            "Epoch Loss : 757.793267, 정확도 : 50.000000%\n"
          ]
        },
        {
          "output_type": "stream",
          "name": "stderr",
          "text": [
            "epoch: 34 | global_step:    42500 | loss: 0.7196: 100%|█████████| 1250/1250 [00:13<00:00, 93.93it/s]\n"
          ]
        },
        {
          "output_type": "stream",
          "name": "stdout",
          "text": [
            "Epoch Loss : 769.157043, 정확도 : 50.000000%\n"
          ]
        },
        {
          "output_type": "stream",
          "name": "stderr",
          "text": [
            "epoch: 35 | global_step:    43750 | loss: 0.5894: 100%|█████████| 1250/1250 [00:13<00:00, 93.41it/s]\n"
          ]
        },
        {
          "output_type": "stream",
          "name": "stdout",
          "text": [
            "Epoch Loss : 811.274992, 정확도 : 50.000000%\n"
          ]
        },
        {
          "output_type": "stream",
          "name": "stderr",
          "text": [
            "epoch: 36 | global_step:    45000 | loss: 0.5986: 100%|█████████| 1250/1250 [00:13<00:00, 93.08it/s]\n"
          ]
        },
        {
          "output_type": "stream",
          "name": "stdout",
          "text": [
            "Epoch Loss : 755.309309, 정확도 : 50.000000%\n"
          ]
        },
        {
          "output_type": "stream",
          "name": "stderr",
          "text": [
            "epoch: 37 | global_step:    46250 | loss: 0.6615: 100%|█████████| 1250/1250 [00:13<00:00, 95.31it/s]\n"
          ]
        },
        {
          "output_type": "stream",
          "name": "stdout",
          "text": [
            "Epoch Loss : 754.778226, 정확도 : 50.000000%\n"
          ]
        },
        {
          "output_type": "stream",
          "name": "stderr",
          "text": [
            "epoch: 38 | global_step:    47500 | loss: 0.5765: 100%|█████████| 1250/1250 [00:13<00:00, 93.25it/s]\n"
          ]
        },
        {
          "output_type": "stream",
          "name": "stdout",
          "text": [
            "Epoch Loss : 750.385237, 정확도 : 50.000000%\n"
          ]
        },
        {
          "output_type": "stream",
          "name": "stderr",
          "text": [
            "epoch: 39 | global_step:    48750 | loss: 0.6108: 100%|█████████| 1250/1250 [00:13<00:00, 92.77it/s]\n"
          ]
        },
        {
          "output_type": "stream",
          "name": "stdout",
          "text": [
            "Epoch Loss : 750.920214, 정확도 : 50.000000%\n"
          ]
        },
        {
          "output_type": "stream",
          "name": "stderr",
          "text": [
            "epoch: 40 | global_step:    50000 | loss: 0.7536: 100%|█████████| 1250/1250 [00:13<00:00, 91.75it/s]\n"
          ]
        },
        {
          "output_type": "stream",
          "name": "stdout",
          "text": [
            "Epoch Loss : 755.134233, 정확도 : 50.000000%\n"
          ]
        },
        {
          "output_type": "stream",
          "name": "stderr",
          "text": [
            "epoch: 41 | global_step:    51250 | loss: 0.6905: 100%|█████████| 1250/1250 [00:13<00:00, 92.94it/s]\n"
          ]
        },
        {
          "output_type": "stream",
          "name": "stdout",
          "text": [
            "Epoch Loss : 760.827528, 정확도 : 50.000000%\n"
          ]
        },
        {
          "output_type": "stream",
          "name": "stderr",
          "text": [
            "epoch: 42 | global_step:    52500 | loss: 0.7146: 100%|█████████| 1250/1250 [00:13<00:00, 92.98it/s]\n"
          ]
        },
        {
          "output_type": "stream",
          "name": "stdout",
          "text": [
            "Epoch Loss : 817.869392, 정확도 : 50.000000%\n"
          ]
        },
        {
          "output_type": "stream",
          "name": "stderr",
          "text": [
            "epoch: 43 | global_step:    53750 | loss: 0.6077: 100%|█████████| 1250/1250 [00:13<00:00, 94.26it/s]\n"
          ]
        },
        {
          "output_type": "stream",
          "name": "stdout",
          "text": [
            "Epoch Loss : 805.121887, 정확도 : 50.000000%\n"
          ]
        },
        {
          "output_type": "stream",
          "name": "stderr",
          "text": [
            "epoch: 44 | global_step:    55000 | loss: 0.5537: 100%|█████████| 1250/1250 [00:13<00:00, 92.91it/s]\n"
          ]
        },
        {
          "output_type": "stream",
          "name": "stdout",
          "text": [
            "Epoch Loss : 738.944905, 정확도 : 50.000000%\n"
          ]
        },
        {
          "output_type": "stream",
          "name": "stderr",
          "text": [
            "epoch: 45 | global_step:    56250 | loss: 0.5469: 100%|█████████| 1250/1250 [00:13<00:00, 94.09it/s]\n"
          ]
        },
        {
          "output_type": "stream",
          "name": "stdout",
          "text": [
            "Epoch Loss : 746.070138, 정확도 : 50.000000%\n"
          ]
        },
        {
          "output_type": "stream",
          "name": "stderr",
          "text": [
            "epoch: 46 | global_step:    57500 | loss: 0.6162: 100%|█████████| 1250/1250 [00:13<00:00, 92.36it/s]\n"
          ]
        },
        {
          "output_type": "stream",
          "name": "stdout",
          "text": [
            "Epoch Loss : 747.301437, 정확도 : 50.000000%\n"
          ]
        },
        {
          "output_type": "stream",
          "name": "stderr",
          "text": [
            "epoch: 47 | global_step:    58750 | loss: 0.8094: 100%|█████████| 1250/1250 [00:13<00:00, 92.74it/s]\n"
          ]
        },
        {
          "output_type": "stream",
          "name": "stdout",
          "text": [
            "Epoch Loss : 734.429687, 정확도 : 50.000000%\n"
          ]
        },
        {
          "output_type": "stream",
          "name": "stderr",
          "text": [
            "epoch: 48 | global_step:    60000 | loss: 0.7593: 100%|█████████| 1250/1250 [00:13<00:00, 93.11it/s]\n"
          ]
        },
        {
          "output_type": "stream",
          "name": "stdout",
          "text": [
            "Epoch Loss : 735.813093, 정확도 : 50.000000%\n"
          ]
        },
        {
          "output_type": "stream",
          "name": "stderr",
          "text": [
            "epoch: 49 | global_step:    61250 | loss: 0.6794: 100%|█████████| 1250/1250 [00:13<00:00, 93.73it/s]\n"
          ]
        },
        {
          "output_type": "stream",
          "name": "stdout",
          "text": [
            "Epoch Loss : 725.352870, 정확도 : 50.000000%\n"
          ]
        },
        {
          "output_type": "stream",
          "name": "stderr",
          "text": [
            "epoch: 50 | global_step:    62500 | loss: 0.5496: 100%|█████████| 1250/1250 [00:13<00:00, 93.51it/s]\n"
          ]
        },
        {
          "output_type": "stream",
          "name": "stdout",
          "text": [
            "Epoch Loss : 728.307651, 정확도 : 50.000000%\n"
          ]
        },
        {
          "output_type": "stream",
          "name": "stderr",
          "text": [
            "epoch: 51 | global_step:    63750 | loss: 0.4063: 100%|█████████| 1250/1250 [00:13<00:00, 92.19it/s]\n"
          ]
        },
        {
          "output_type": "stream",
          "name": "stdout",
          "text": [
            "Epoch Loss : 733.518050, 정확도 : 50.000000%\n"
          ]
        },
        {
          "output_type": "stream",
          "name": "stderr",
          "text": [
            "epoch: 52 | global_step:    65000 | loss: 0.5261: 100%|█████████| 1250/1250 [00:13<00:00, 93.29it/s]\n"
          ]
        },
        {
          "output_type": "stream",
          "name": "stdout",
          "text": [
            "Epoch Loss : 714.565874, 정확도 : 50.000000%\n"
          ]
        },
        {
          "output_type": "stream",
          "name": "stderr",
          "text": [
            "epoch: 53 | global_step:    66250 | loss: 0.5344: 100%|█████████| 1250/1250 [00:13<00:00, 92.89it/s]\n"
          ]
        },
        {
          "output_type": "stream",
          "name": "stdout",
          "text": [
            "Epoch Loss : 720.217353, 정확도 : 50.000000%\n"
          ]
        },
        {
          "output_type": "stream",
          "name": "stderr",
          "text": [
            "epoch: 54 | global_step:    67500 | loss: 0.5995: 100%|█████████| 1250/1250 [00:13<00:00, 93.90it/s]\n"
          ]
        },
        {
          "output_type": "stream",
          "name": "stdout",
          "text": [
            "Epoch Loss : 729.555821, 정확도 : 50.000000%\n"
          ]
        },
        {
          "output_type": "stream",
          "name": "stderr",
          "text": [
            "epoch: 55 | global_step:    68750 | loss: 0.5505: 100%|█████████| 1250/1250 [00:13<00:00, 91.82it/s]\n"
          ]
        },
        {
          "output_type": "stream",
          "name": "stdout",
          "text": [
            "Epoch Loss : 717.369422, 정확도 : 50.000000%\n"
          ]
        },
        {
          "output_type": "stream",
          "name": "stderr",
          "text": [
            "epoch: 56 | global_step:    70000 | loss: 0.6138: 100%|█████████| 1250/1250 [00:13<00:00, 92.44it/s]\n"
          ]
        },
        {
          "output_type": "stream",
          "name": "stdout",
          "text": [
            "Epoch Loss : 757.762688, 정확도 : 50.000000%\n"
          ]
        },
        {
          "output_type": "stream",
          "name": "stderr",
          "text": [
            "epoch: 57 | global_step:    71250 | loss: 0.7024: 100%|█████████| 1250/1250 [00:13<00:00, 92.87it/s]\n"
          ]
        },
        {
          "output_type": "stream",
          "name": "stdout",
          "text": [
            "Epoch Loss : 730.951330, 정확도 : 50.000000%\n"
          ]
        },
        {
          "output_type": "stream",
          "name": "stderr",
          "text": [
            "epoch: 58 | global_step:    72500 | loss: 0.5134: 100%|█████████| 1250/1250 [00:13<00:00, 92.74it/s]\n"
          ]
        },
        {
          "output_type": "stream",
          "name": "stdout",
          "text": [
            "Epoch Loss : 736.981374, 정확도 : 50.000000%\n"
          ]
        },
        {
          "output_type": "stream",
          "name": "stderr",
          "text": [
            "epoch: 59 | global_step:    73750 | loss: 0.7095: 100%|█████████| 1250/1250 [00:13<00:00, 92.92it/s]\n"
          ]
        },
        {
          "output_type": "stream",
          "name": "stdout",
          "text": [
            "Epoch Loss : 743.129044, 정확도 : 50.000000%\n"
          ]
        },
        {
          "output_type": "stream",
          "name": "stderr",
          "text": [
            "epoch: 60 | global_step:    75000 | loss: 0.5522: 100%|█████████| 1250/1250 [00:13<00:00, 92.92it/s]\n"
          ]
        },
        {
          "output_type": "stream",
          "name": "stdout",
          "text": [
            "Epoch Loss : 761.115811, 정확도 : 50.000000%\n"
          ]
        },
        {
          "output_type": "stream",
          "name": "stderr",
          "text": [
            "epoch: 61 | global_step:    76250 | loss: 0.6970: 100%|█████████| 1250/1250 [00:13<00:00, 93.77it/s]\n"
          ]
        },
        {
          "output_type": "stream",
          "name": "stdout",
          "text": [
            "Epoch Loss : 760.045513, 정확도 : 50.000000%\n"
          ]
        },
        {
          "output_type": "stream",
          "name": "stderr",
          "text": [
            "epoch: 62 | global_step:    77500 | loss: 0.6958: 100%|█████████| 1250/1250 [00:13<00:00, 92.55it/s]\n"
          ]
        },
        {
          "output_type": "stream",
          "name": "stdout",
          "text": [
            "Epoch Loss : 798.098072, 정확도 : 50.000000%\n"
          ]
        },
        {
          "output_type": "stream",
          "name": "stderr",
          "text": [
            "epoch: 63 | global_step:    78750 | loss: 0.6638: 100%|█████████| 1250/1250 [00:13<00:00, 93.08it/s]\n"
          ]
        },
        {
          "output_type": "stream",
          "name": "stdout",
          "text": [
            "Epoch Loss : 804.610654, 정확도 : 50.000000%\n"
          ]
        },
        {
          "output_type": "stream",
          "name": "stderr",
          "text": [
            "epoch: 64 | global_step:    80000 | loss: 0.5822: 100%|█████████| 1250/1250 [00:13<00:00, 91.70it/s]\n"
          ]
        },
        {
          "output_type": "stream",
          "name": "stdout",
          "text": [
            "Epoch Loss : 799.077213, 정확도 : 50.000000%\n"
          ]
        },
        {
          "output_type": "stream",
          "name": "stderr",
          "text": [
            "epoch: 65 | global_step:    81250 | loss: 0.6741: 100%|█████████| 1250/1250 [00:13<00:00, 93.72it/s]\n"
          ]
        },
        {
          "output_type": "stream",
          "name": "stdout",
          "text": [
            "Epoch Loss : 765.549220, 정확도 : 50.000000%\n"
          ]
        },
        {
          "output_type": "stream",
          "name": "stderr",
          "text": [
            "epoch: 66 | global_step:    82500 | loss: 0.3977: 100%|█████████| 1250/1250 [00:13<00:00, 92.48it/s]\n"
          ]
        },
        {
          "output_type": "stream",
          "name": "stdout",
          "text": [
            "Epoch Loss : 759.509389, 정확도 : 50.000000%\n"
          ]
        },
        {
          "output_type": "stream",
          "name": "stderr",
          "text": [
            "epoch: 67 | global_step:    83750 | loss: 0.6541: 100%|█████████| 1250/1250 [00:13<00:00, 93.39it/s]\n"
          ]
        },
        {
          "output_type": "stream",
          "name": "stdout",
          "text": [
            "Epoch Loss : 743.194528, 정확도 : 50.000000%\n"
          ]
        },
        {
          "output_type": "stream",
          "name": "stderr",
          "text": [
            "epoch: 68 | global_step:    85000 | loss: 0.6270: 100%|█████████| 1250/1250 [00:13<00:00, 91.94it/s]\n"
          ]
        },
        {
          "output_type": "stream",
          "name": "stdout",
          "text": [
            "Epoch Loss : 722.157408, 정확도 : 50.000000%\n"
          ]
        },
        {
          "output_type": "stream",
          "name": "stderr",
          "text": [
            "epoch: 69 | global_step:    86250 | loss: 0.4041: 100%|█████████| 1250/1250 [00:13<00:00, 92.40it/s]\n"
          ]
        },
        {
          "output_type": "stream",
          "name": "stdout",
          "text": [
            "Epoch Loss : 724.427443, 정확도 : 50.000000%\n"
          ]
        },
        {
          "output_type": "stream",
          "name": "stderr",
          "text": [
            "epoch: 70 | global_step:    87500 | loss: 0.4567: 100%|█████████| 1250/1250 [00:13<00:00, 91.44it/s]\n"
          ]
        },
        {
          "output_type": "stream",
          "name": "stdout",
          "text": [
            "Epoch Loss : 737.191574, 정확도 : 50.000000%\n"
          ]
        },
        {
          "output_type": "stream",
          "name": "stderr",
          "text": [
            "epoch: 71 | global_step:    88750 | loss: 0.7407: 100%|█████████| 1250/1250 [00:13<00:00, 91.46it/s]\n"
          ]
        },
        {
          "output_type": "stream",
          "name": "stdout",
          "text": [
            "Epoch Loss : 737.046151, 정확도 : 50.000000%\n"
          ]
        },
        {
          "output_type": "stream",
          "name": "stderr",
          "text": [
            "epoch: 72 | global_step:    90000 | loss: 0.5360: 100%|█████████| 1250/1250 [00:13<00:00, 91.30it/s]\n"
          ]
        },
        {
          "output_type": "stream",
          "name": "stdout",
          "text": [
            "Epoch Loss : 742.219653, 정확도 : 50.000000%\n"
          ]
        },
        {
          "output_type": "stream",
          "name": "stderr",
          "text": [
            "epoch: 73 | global_step:    91250 | loss: 0.5228: 100%|█████████| 1250/1250 [00:13<00:00, 91.85it/s]\n"
          ]
        },
        {
          "output_type": "stream",
          "name": "stdout",
          "text": [
            "Epoch Loss : 739.777946, 정확도 : 50.000000%\n"
          ]
        },
        {
          "output_type": "stream",
          "name": "stderr",
          "text": [
            "epoch: 74 | global_step:    92500 | loss: 0.6744: 100%|█████████| 1250/1250 [00:13<00:00, 90.57it/s]\n"
          ]
        },
        {
          "output_type": "stream",
          "name": "stdout",
          "text": [
            "Epoch Loss : 750.849992, 정확도 : 50.000000%\n"
          ]
        },
        {
          "output_type": "stream",
          "name": "stderr",
          "text": [
            "epoch: 75 | global_step:    93750 | loss: 0.6332: 100%|█████████| 1250/1250 [00:13<00:00, 92.31it/s]\n"
          ]
        },
        {
          "output_type": "stream",
          "name": "stdout",
          "text": [
            "Epoch Loss : 738.881910, 정확도 : 50.000000%\n"
          ]
        },
        {
          "output_type": "stream",
          "name": "stderr",
          "text": [
            "epoch: 76 | global_step:    95000 | loss: 0.7300: 100%|█████████| 1250/1250 [00:13<00:00, 93.14it/s]\n"
          ]
        },
        {
          "output_type": "stream",
          "name": "stdout",
          "text": [
            "Epoch Loss : 751.690186, 정확도 : 50.000000%\n"
          ]
        },
        {
          "output_type": "stream",
          "name": "stderr",
          "text": [
            "epoch: 77 | global_step:    96250 | loss: 0.5281: 100%|█████████| 1250/1250 [00:13<00:00, 92.14it/s]\n"
          ]
        },
        {
          "output_type": "stream",
          "name": "stdout",
          "text": [
            "Epoch Loss : 781.615453, 정확도 : 50.000000%\n"
          ]
        },
        {
          "output_type": "stream",
          "name": "stderr",
          "text": [
            "epoch: 78 | global_step:    97500 | loss: 0.6593: 100%|█████████| 1250/1250 [00:13<00:00, 93.48it/s]\n"
          ]
        },
        {
          "output_type": "stream",
          "name": "stdout",
          "text": [
            "Epoch Loss : 742.274224, 정확도 : 50.000000%\n"
          ]
        },
        {
          "output_type": "stream",
          "name": "stderr",
          "text": [
            "epoch: 79 | global_step:    98750 | loss: 0.4964: 100%|█████████| 1250/1250 [00:13<00:00, 91.41it/s]\n"
          ]
        },
        {
          "output_type": "stream",
          "name": "stdout",
          "text": [
            "Epoch Loss : 741.386058, 정확도 : 50.000000%\n"
          ]
        },
        {
          "output_type": "stream",
          "name": "stderr",
          "text": [
            "epoch: 80 | global_step:   100000 | loss: 0.6215: 100%|█████████| 1250/1250 [00:13<00:00, 92.19it/s]\n"
          ]
        },
        {
          "output_type": "stream",
          "name": "stdout",
          "text": [
            "Epoch Loss : 728.356495, 정확도 : 50.000000%\n"
          ]
        },
        {
          "output_type": "stream",
          "name": "stderr",
          "text": [
            "epoch: 81 | global_step:   101250 | loss: 0.6978: 100%|█████████| 1250/1250 [00:13<00:00, 92.20it/s]\n"
          ]
        },
        {
          "output_type": "stream",
          "name": "stdout",
          "text": [
            "Epoch Loss : 805.226230, 정확도 : 50.000000%\n"
          ]
        },
        {
          "output_type": "stream",
          "name": "stderr",
          "text": [
            "epoch: 82 | global_step:   102500 | loss: 0.6440: 100%|█████████| 1250/1250 [00:13<00:00, 91.33it/s]\n"
          ]
        },
        {
          "output_type": "stream",
          "name": "stdout",
          "text": [
            "Epoch Loss : 799.766652, 정확도 : 50.000000%\n"
          ]
        },
        {
          "output_type": "stream",
          "name": "stderr",
          "text": [
            "epoch: 83 | global_step:   103750 | loss: 0.5868: 100%|█████████| 1250/1250 [00:13<00:00, 91.18it/s]\n"
          ]
        },
        {
          "output_type": "stream",
          "name": "stdout",
          "text": [
            "Epoch Loss : 767.349998, 정확도 : 50.000000%\n"
          ]
        },
        {
          "output_type": "stream",
          "name": "stderr",
          "text": [
            "epoch: 84 | global_step:   105000 | loss: 0.5473: 100%|█████████| 1250/1250 [00:13<00:00, 92.70it/s]\n"
          ]
        },
        {
          "output_type": "stream",
          "name": "stdout",
          "text": [
            "Epoch Loss : 752.013533, 정확도 : 50.000000%\n"
          ]
        },
        {
          "output_type": "stream",
          "name": "stderr",
          "text": [
            "epoch: 85 | global_step:   106250 | loss: 0.5916: 100%|█████████| 1250/1250 [00:13<00:00, 92.53it/s]\n"
          ]
        },
        {
          "output_type": "stream",
          "name": "stdout",
          "text": [
            "Epoch Loss : 747.360256, 정확도 : 50.000000%\n"
          ]
        },
        {
          "output_type": "stream",
          "name": "stderr",
          "text": [
            "epoch: 86 | global_step:   107500 | loss: 0.7456: 100%|█████████| 1250/1250 [00:13<00:00, 90.01it/s]\n"
          ]
        },
        {
          "output_type": "stream",
          "name": "stdout",
          "text": [
            "Epoch Loss : 801.632990, 정확도 : 50.000000%\n"
          ]
        },
        {
          "output_type": "stream",
          "name": "stderr",
          "text": [
            "epoch: 87 | global_step:   108750 | loss: 0.4884: 100%|█████████| 1250/1250 [00:13<00:00, 92.52it/s]\n"
          ]
        },
        {
          "output_type": "stream",
          "name": "stdout",
          "text": [
            "Epoch Loss : 783.806670, 정확도 : 50.000000%\n"
          ]
        },
        {
          "output_type": "stream",
          "name": "stderr",
          "text": [
            "epoch: 88 | global_step:   110000 | loss: 0.6601: 100%|█████████| 1250/1250 [00:13<00:00, 91.58it/s]\n"
          ]
        },
        {
          "output_type": "stream",
          "name": "stdout",
          "text": [
            "Epoch Loss : 750.294405, 정확도 : 50.000000%\n"
          ]
        },
        {
          "output_type": "stream",
          "name": "stderr",
          "text": [
            "epoch: 89 | global_step:   111250 | loss: 0.6302: 100%|█████████| 1250/1250 [00:13<00:00, 91.19it/s]\n"
          ]
        },
        {
          "output_type": "stream",
          "name": "stdout",
          "text": [
            "Epoch Loss : 794.863486, 정확도 : 50.000000%\n"
          ]
        },
        {
          "output_type": "stream",
          "name": "stderr",
          "text": [
            "epoch: 90 | global_step:   112500 | loss: 0.7094: 100%|█████████| 1250/1250 [00:13<00:00, 90.88it/s]\n"
          ]
        },
        {
          "output_type": "stream",
          "name": "stdout",
          "text": [
            "Epoch Loss : 769.785019, 정확도 : 50.000000%\n"
          ]
        },
        {
          "output_type": "stream",
          "name": "stderr",
          "text": [
            "epoch: 91 | global_step:   113750 | loss: 0.5458: 100%|█████████| 1250/1250 [00:13<00:00, 90.78it/s]\n"
          ]
        },
        {
          "output_type": "stream",
          "name": "stdout",
          "text": [
            "Epoch Loss : 729.450338, 정확도 : 50.000000%\n"
          ]
        },
        {
          "output_type": "stream",
          "name": "stderr",
          "text": [
            "epoch: 92 | global_step:   115000 | loss: 0.4985: 100%|█████████| 1250/1250 [00:13<00:00, 92.26it/s]\n"
          ]
        },
        {
          "output_type": "stream",
          "name": "stdout",
          "text": [
            "Epoch Loss : 734.523119, 정확도 : 50.000000%\n"
          ]
        },
        {
          "output_type": "stream",
          "name": "stderr",
          "text": [
            "epoch: 93 | global_step:   116250 | loss: 0.6046: 100%|█████████| 1250/1250 [00:13<00:00, 91.72it/s]\n"
          ]
        },
        {
          "output_type": "stream",
          "name": "stdout",
          "text": [
            "Epoch Loss : 757.188140, 정확도 : 50.000000%\n"
          ]
        },
        {
          "output_type": "stream",
          "name": "stderr",
          "text": [
            "epoch: 94 | global_step:   117500 | loss: 0.5250: 100%|█████████| 1250/1250 [00:13<00:00, 92.04it/s]\n"
          ]
        },
        {
          "output_type": "stream",
          "name": "stdout",
          "text": [
            "Epoch Loss : 740.088661, 정확도 : 50.000000%\n"
          ]
        },
        {
          "output_type": "stream",
          "name": "stderr",
          "text": [
            "epoch: 95 | global_step:   118750 | loss: 0.7747: 100%|█████████| 1250/1250 [00:13<00:00, 91.63it/s]\n"
          ]
        },
        {
          "output_type": "stream",
          "name": "stdout",
          "text": [
            "Epoch Loss : 737.350150, 정확도 : 50.000000%\n"
          ]
        },
        {
          "output_type": "stream",
          "name": "stderr",
          "text": [
            "epoch: 96 | global_step:   120000 | loss: 0.6683: 100%|█████████| 1250/1250 [00:13<00:00, 89.59it/s]\n"
          ]
        },
        {
          "output_type": "stream",
          "name": "stdout",
          "text": [
            "Epoch Loss : 753.135077, 정확도 : 50.000000%\n"
          ]
        },
        {
          "output_type": "stream",
          "name": "stderr",
          "text": [
            "epoch: 97 | global_step:   121250 | loss: 0.8271: 100%|█████████| 1250/1250 [00:13<00:00, 91.33it/s]\n"
          ]
        },
        {
          "output_type": "stream",
          "name": "stdout",
          "text": [
            "Epoch Loss : 721.578712, 정확도 : 50.000000%\n"
          ]
        },
        {
          "output_type": "stream",
          "name": "stderr",
          "text": [
            "epoch: 98 | global_step:   122500 | loss: 0.6771: 100%|█████████| 1250/1250 [00:13<00:00, 91.16it/s]\n"
          ]
        },
        {
          "output_type": "stream",
          "name": "stdout",
          "text": [
            "Epoch Loss : 716.995539, 정확도 : 50.000000%\n"
          ]
        },
        {
          "output_type": "stream",
          "name": "stderr",
          "text": [
            "epoch: 99 | global_step:   123750 | loss: 0.6054: 100%|█████████| 1250/1250 [00:14<00:00, 89.08it/s]\n"
          ]
        },
        {
          "output_type": "stream",
          "name": "stdout",
          "text": [
            "Epoch Loss : 766.956042, 정확도 : 50.000000%\n"
          ]
        },
        {
          "output_type": "stream",
          "name": "stderr",
          "text": [
            "epoch: 100 | global_step:   125000 | loss: 0.5565: 100%|████████| 1250/1250 [00:13<00:00, 89.34it/s]\n"
          ]
        },
        {
          "output_type": "stream",
          "name": "stdout",
          "text": [
            "Epoch Loss : 730.687422, 정확도 : 50.000000%\n"
          ]
        }
      ]
    },
    {
      "cell_type": "code",
      "source": [
        "result = np.mean(predicts(x_test_torch) == y_test)\n",
        "print(\"epoch: {} | global_step: {} | valid acc: {:%}\".format(epoch + 1, global_step, acc))"
      ],
      "metadata": {
        "id": "IKz-kkBlJxB6"
      },
      "execution_count": null,
      "outputs": []
    },
    {
      "cell_type": "code",
      "source": [
        ""
      ],
      "metadata": {
        "id": "LhCsVr_bYPIN"
      },
      "execution_count": null,
      "outputs": []
    }
  ]
}