{
  "cells": [
    {
      "cell_type": "markdown",
      "metadata": {
        "id": "view-in-github",
        "colab_type": "text"
      },
      "source": [
        "<a href=\"https://colab.research.google.com/github/nyjinnn/images/blob/main/week5_quiz_classification_220630.ipynb\" target=\"_parent\"><img src=\"https://colab.research.google.com/assets/colab-badge.svg\" alt=\"Open In Colab\"/></a>"
      ]
    },
    {
      "cell_type": "markdown",
      "source": [
        "# 로지스틱 회귀"
      ],
      "metadata": {
        "id": "gtvXxVU7ngtN"
      }
    },
    {
      "cell_type": "markdown",
      "source": [
        "## 문제 해결을 위한 데이터셋 준비\n",
        "\n",
        "1. 필요한 패키기 불러오기\n"
      ],
      "metadata": {
        "id": "Jm3czD6BoDAk"
      }
    },
    {
      "cell_type": "code",
      "source": [
        "import random\n",
        "import torch \n",
        "import torch.nn as nn \n",
        "import numpy as np \n",
        "import matplotlib.pyplot as plt\n",
        "\n",
        "from sklearn.datasets import load_breast_cancer\n",
        "from sklearn.model_selection import train_test_split"
      ],
      "metadata": {
        "id": "ZRiv5fNUBdof"
      },
      "execution_count": 54,
      "outputs": []
    },
    {
      "cell_type": "markdown",
      "source": [
        "2. 데이터셋 불러오기"
      ],
      "metadata": {
        "id": "3T0z40Cu4HRr"
      }
    },
    {
      "cell_type": "code",
      "source": [
        "cancer = load_breast_cancer()\n",
        "\n",
        "cancer_data = np.concatenate([cancer.data[:,0:3], cancer.data[:,4:13], cancer.data[:,14:23], cancer.data[:,24:]], axis =1)\n",
        "\n",
        "print(\"cancer_data:\", np.shape(cancer_data))"
      ],
      "metadata": {
        "colab": {
          "base_uri": "https://localhost:8080/"
        },
        "id": "KTdRcvm81w3w",
        "outputId": "41c1da93-ff37-4add-ca46-bb4eeccccb8a"
      },
      "execution_count": 66,
      "outputs": [
        {
          "output_type": "stream",
          "name": "stdout",
          "text": [
            "cancer_data: (569, 27)\n"
          ]
        }
      ]
    },
    {
      "cell_type": "markdown",
      "source": [
        "3. 데이터 확인하기 "
      ],
      "metadata": {
        "id": "-KpH8pBDB2U5"
      }
    },
    {
      "cell_type": "code",
      "source": [
        "plt.boxplot(cancer_data)\n",
        "plt.xlabel(\"feature\")\n",
        "plt.ylabel(\"value\")\n",
        "plt.show()"
      ],
      "metadata": {
        "colab": {
          "base_uri": "https://localhost:8080/",
          "height": 279
        },
        "id": "KKIUiy1SB-c1",
        "outputId": "edc0ae95-244c-423e-964c-a761c60680d3"
      },
      "execution_count": 69,
      "outputs": [
        {
          "output_type": "display_data",
          "data": {
            "text/plain": [
              "<Figure size 432x288 with 1 Axes>"
            ],
            "image/png": "[encoded data removed]"
          },
          "metadata": {
            "needs_background": "light"
          }
        }
      ]
    },
    {
      "cell_type": "markdown",
      "source": [
        "4. 학습 데이터셋 준비"
      ],
      "metadata": {
        "id": "882JOmT45d1D"
      }
    },
    {
      "cell_type": "code",
      "source": [
        "x = cancer_data #cancer.data\n",
        "y = cancer.target \n",
        "\n",
        "x_train, x_test, y_train, y_test = train_test_split(x, y, stratify=y, test_size=0.2, random_state=42)  # 수정 금지 \n",
        "x_train, x_valid, y_train, y_valid = train_test_split(x_train, y_train, stratify=y_train, test_size=0.125, random_state=999)\n",
        "\n",
        "x_train_torch = torch.FloatTensor(x_train)\n",
        "y_train_torch = torch.FloatTensor(y_train)\n",
        "x_valid_torch = torch.FloatTensor(x_valid)\n",
        "y_valid_torch = torch.FloatTensor(y_valid) \n",
        "x_test_torch = torch.FloatTensor(x_test)\n",
        "y_test_torch = torch.FloatTensor(y_test)"
      ],
      "metadata": {
        "id": "eCwTIDJXDGcv"
      },
      "execution_count": 71,
      "outputs": []
    },
    {
      "cell_type": "code",
      "source": [
        "print(np.mean(x_train[:,0]))\n",
        "print(np.mean(x_train[:,1]))\n",
        "print(np.mean(x_train[:,2]))\n",
        "print(np.mean(x_train[:,3]))\n",
        "print(np.mean(x_train[:,4]))\n",
        "print(np.mean(x_train[:,5]))\n",
        "print(np.mean(x_train[:,6]))\n",
        "print(np.mean(x_train[:,7]))\n",
        "print(np.mean(x_train[:,8]))\n",
        "print(np.mean(x_train[:,9]))\n",
        "print(np.mean(x_train[:,10]))\n",
        "print(np.mean(x_train[:,11]))"
      ],
      "metadata": {
        "id": "raEGNDJdOjpK",
        "outputId": "62aec180-7a45-40f5-a67e-3ac15c173033",
        "colab": {
          "base_uri": "https://localhost:8080/"
        }
      },
      "execution_count": 72,
      "outputs": [
        {
          "output_type": "stream",
          "name": "stdout",
          "text": [
            "14.115889447236183\n",
            "19.200653266331656\n",
            "91.84585427135679\n",
            "0.09632163316582915\n",
            "0.10344281407035176\n",
            "0.08890080577889448\n",
            "0.04860188190954775\n",
            "0.18024472361809046\n",
            "0.06272502512562814\n",
            "0.40242386934673363\n",
            "1.216538944723618\n",
            "2.834015829145728\n"
          ]
        }
      ]
    },
    {
      "cell_type": "markdown",
      "source": [
        "5. 모델 준비"
      ],
      "metadata": {
        "id": "L3l6peFJ5iAh"
      }
    },
    {
      "cell_type": "code",
      "source": [
        "class LogisticNeuron(nn.Module):\n",
        "  def __init__(self, in_dim=30, n_hidden=60, learning_rate=1e-4):\n",
        "    '''\n",
        "    Args:\n",
        "      in_dim: The dimension of input data  \n",
        "      n_hidden: The dimension of hidden layer\n",
        "      learning_rate: The initial learning rate for training a network \n",
        "    '''\n",
        "    super().__init__()\n",
        "\n",
        "    self.model = nn.Sequential(\n",
        "        nn.Linear(in_dim, 200),\n",
        "        nn.ReLU(),\n",
        "        nn.Linear(200, 100),\n",
        "        nn.ReLU(),\n",
        "        nn.Linear(100, 50),\n",
        "        nn.ReLU(),\n",
        "        nn.Linear(50,1),\n",
        "        nn.Sigmoid()\n",
        "        )\n",
        "    \n",
        "    self.optim = torch.optim.Adam(self.model.parameters(), lr=learning_rate)\n",
        "    self.criterion = nn.MSELoss()\n",
        "\n",
        "  def _calculate_loss(self, x, y):\n",
        "    loss = self.criterion(x, y)\n",
        "    return loss \n",
        "\n",
        "  def forward(self, x):\n",
        "    z = self.model(x)\n",
        "    return z\n",
        "\n",
        "  def train(self, x, y, epochs=10):\n",
        "    tmp_acc = -1\n",
        "    for i in range(epochs):\n",
        "      for x_i, y_i in zip(x, y):\n",
        "        pred_y = self.forward(x_i)\n",
        "        loss = self._calculate_loss(pred_y[0], y_i)\n",
        "\n",
        "        self.model.zero_grad() \n",
        "        self.optim.zero_grad()\n",
        "        loss.backward()\n",
        "        self.optim.step()\n",
        "\n",
        "      if (i+1) % 1 == 0:  # 여기 나누는 값을 조정해서 프린트하는 횟수를 조절\n",
        "        acc = np.mean(self.predict(x_valid_torch) == y_valid)\n",
        "        if tmp_acc == -1: \n",
        "          tmp_acc = acc \n",
        "        if tmp_acc > acc:\n",
        "          break\n",
        "        print(\"epoch {} : err = {:.9f}, valid acc = {:%}\".format(i + 1, loss, acc))\n",
        "\n",
        "  def predict(self, x):\n",
        "    pred = [self.forward(x_i).data.numpy()[0] for x_i in x]\n",
        "    return np.array(pred) > 0.5 "
      ],
      "metadata": {
        "id": "nD4xfTtvFB2d"
      },
      "execution_count": 73,
      "outputs": []
    },
    {
      "cell_type": "code",
      "source": [
        "random_seed = 740\n",
        "np.random.seed(random_seed)\n",
        "torch.manual_seed(random_seed)\n",
        "random.seed(random_seed)\n",
        "\n",
        "neuron = LogisticNeuron(in_dim=27, n_hidden=200, learning_rate=1e-3)\n",
        "\n",
        "neuron.train(x_train_torch, y_train_torch, 100)"
      ],
      "metadata": {
        "colab": {
          "base_uri": "https://localhost:8080/"
        },
        "id": "ijUQkQx5JAKm",
        "outputId": "c1132c32-a98b-4f60-af3b-7c4b6a97e199"
      },
      "execution_count": 77,
      "outputs": [
        {
          "output_type": "stream",
          "name": "stdout",
          "text": [
            "epoch 1 : err = 0.308721215, valid acc = 45.614035%\n",
            "epoch 2 : err = 0.202198520, valid acc = 70.175439%\n",
            "epoch 3 : err = 0.049237091, valid acc = 80.701754%\n",
            "epoch 4 : err = 0.065705135, valid acc = 82.456140%\n",
            "epoch 5 : err = 0.069287665, valid acc = 84.210526%\n",
            "epoch 6 : err = 0.018851768, valid acc = 84.210526%\n",
            "epoch 7 : err = 0.007417118, valid acc = 89.473684%\n",
            "epoch 8 : err = 0.004361602, valid acc = 89.473684%\n",
            "epoch 9 : err = 0.001620634, valid acc = 89.473684%\n",
            "epoch 10 : err = 0.002648509, valid acc = 89.473684%\n",
            "epoch 11 : err = 0.001316392, valid acc = 89.473684%\n",
            "epoch 12 : err = 0.000894538, valid acc = 89.473684%\n",
            "epoch 13 : err = 0.000858153, valid acc = 89.473684%\n",
            "epoch 14 : err = 0.000412002, valid acc = 89.473684%\n",
            "epoch 15 : err = 0.000413176, valid acc = 89.473684%\n",
            "epoch 16 : err = 0.000462903, valid acc = 89.473684%\n",
            "epoch 17 : err = 0.000250383, valid acc = 89.473684%\n",
            "epoch 18 : err = 0.000252028, valid acc = 89.473684%\n",
            "epoch 19 : err = 0.000070392, valid acc = 89.473684%\n",
            "epoch 20 : err = 0.000099190, valid acc = 89.473684%\n",
            "epoch 21 : err = 0.000066086, valid acc = 89.473684%\n",
            "epoch 22 : err = 0.000118878, valid acc = 89.473684%\n",
            "epoch 23 : err = 0.000069929, valid acc = 89.473684%\n",
            "epoch 24 : err = 0.000050661, valid acc = 89.473684%\n",
            "epoch 25 : err = 0.000066304, valid acc = 89.473684%\n",
            "epoch 26 : err = 0.000056559, valid acc = 89.473684%\n",
            "epoch 27 : err = 0.000034928, valid acc = 89.473684%\n",
            "epoch 28 : err = 0.000013061, valid acc = 89.473684%\n",
            "epoch 29 : err = 0.000012139, valid acc = 89.473684%\n",
            "epoch 30 : err = 0.000087604, valid acc = 89.473684%\n",
            "epoch 31 : err = 0.000160386, valid acc = 91.228070%\n",
            "epoch 32 : err = 0.000020463, valid acc = 89.473684%\n",
            "epoch 33 : err = 0.000060318, valid acc = 89.473684%\n",
            "epoch 34 : err = 0.000000968, valid acc = 91.228070%\n",
            "epoch 35 : err = 0.000006420, valid acc = 89.473684%\n",
            "epoch 36 : err = 0.000023523, valid acc = 91.228070%\n",
            "epoch 37 : err = 0.000008780, valid acc = 91.228070%\n",
            "epoch 38 : err = 0.000002015, valid acc = 91.228070%\n",
            "epoch 39 : err = 0.000002980, valid acc = 91.228070%\n",
            "epoch 40 : err = 0.000004526, valid acc = 91.228070%\n",
            "epoch 41 : err = 0.000001190, valid acc = 91.228070%\n",
            "epoch 42 : err = 0.000001286, valid acc = 91.228070%\n",
            "epoch 43 : err = 0.000003980, valid acc = 91.228070%\n",
            "epoch 44 : err = 0.000001532, valid acc = 91.228070%\n",
            "epoch 45 : err = 0.000003712, valid acc = 91.228070%\n",
            "epoch 46 : err = 0.000001956, valid acc = 91.228070%\n",
            "epoch 47 : err = 0.000002176, valid acc = 89.473684%\n",
            "epoch 48 : err = 0.000000061, valid acc = 91.228070%\n",
            "epoch 49 : err = 0.000000409, valid acc = 89.473684%\n",
            "epoch 50 : err = 0.000000821, valid acc = 91.228070%\n",
            "epoch 51 : err = 0.000000507, valid acc = 89.473684%\n",
            "epoch 52 : err = 0.000000926, valid acc = 91.228070%\n",
            "epoch 53 : err = 0.000000243, valid acc = 89.473684%\n",
            "epoch 54 : err = 0.000000214, valid acc = 89.473684%\n",
            "epoch 55 : err = 0.000000577, valid acc = 89.473684%\n",
            "epoch 56 : err = 0.000000676, valid acc = 89.473684%\n",
            "epoch 57 : err = 0.000000645, valid acc = 89.473684%\n",
            "epoch 58 : err = 0.000000629, valid acc = 89.473684%\n",
            "epoch 59 : err = 0.000000869, valid acc = 89.473684%\n",
            "epoch 60 : err = 0.000002431, valid acc = 91.228070%\n",
            "epoch 61 : err = 0.000002145, valid acc = 91.228070%\n",
            "epoch 62 : err = 0.000001304, valid acc = 89.473684%\n",
            "epoch 63 : err = 0.000001323, valid acc = 89.473684%\n",
            "epoch 64 : err = 0.000001062, valid acc = 89.473684%\n",
            "epoch 65 : err = 0.000000925, valid acc = 89.473684%\n",
            "epoch 66 : err = 0.000002866, valid acc = 91.228070%\n",
            "epoch 67 : err = 0.000001924, valid acc = 89.473684%\n",
            "epoch 68 : err = 0.000001092, valid acc = 89.473684%\n",
            "epoch 69 : err = 0.000001415, valid acc = 91.228070%\n",
            "epoch 70 : err = 0.000001009, valid acc = 89.473684%\n",
            "epoch 71 : err = 0.000002099, valid acc = 89.473684%\n",
            "epoch 72 : err = 0.000000961, valid acc = 89.473684%\n",
            "epoch 73 : err = 0.000001000, valid acc = 89.473684%\n",
            "epoch 74 : err = 0.000000654, valid acc = 91.228070%\n",
            "epoch 75 : err = 0.000000296, valid acc = 91.228070%\n",
            "epoch 76 : err = 0.000000286, valid acc = 91.228070%\n",
            "epoch 77 : err = 0.000000386, valid acc = 91.228070%\n",
            "epoch 78 : err = 0.000000519, valid acc = 91.228070%\n",
            "epoch 79 : err = 0.000000671, valid acc = 91.228070%\n",
            "epoch 80 : err = 0.000000940, valid acc = 91.228070%\n",
            "epoch 81 : err = 0.000001499, valid acc = 91.228070%\n",
            "epoch 82 : err = 0.000001527, valid acc = 91.228070%\n",
            "epoch 83 : err = 0.000001808, valid acc = 91.228070%\n",
            "epoch 84 : err = 0.000002002, valid acc = 91.228070%\n",
            "epoch 85 : err = 0.000002192, valid acc = 91.228070%\n",
            "epoch 86 : err = 0.000002252, valid acc = 91.228070%\n",
            "epoch 87 : err = 0.000002162, valid acc = 91.228070%\n",
            "epoch 88 : err = 0.000002109, valid acc = 91.228070%\n",
            "epoch 89 : err = 0.000002403, valid acc = 91.228070%\n",
            "epoch 90 : err = 0.000002490, valid acc = 91.228070%\n",
            "epoch 91 : err = 0.000002417, valid acc = 91.228070%\n",
            "epoch 92 : err = 0.000002665, valid acc = 91.228070%\n",
            "epoch 93 : err = 0.000002550, valid acc = 91.228070%\n",
            "epoch 94 : err = 0.000002805, valid acc = 91.228070%\n",
            "epoch 95 : err = 0.000002825, valid acc = 91.228070%\n",
            "epoch 96 : err = 0.000002840, valid acc = 91.228070%\n",
            "epoch 97 : err = 0.000002845, valid acc = 91.228070%\n",
            "epoch 98 : err = 0.000002847, valid acc = 91.228070%\n",
            "epoch 99 : err = 0.000002836, valid acc = 91.228070%\n",
            "epoch 100 : err = 0.000002765, valid acc = 91.228070%\n"
          ]
        }
      ]
    },
    {
      "cell_type": "markdown",
      "source": [
        "6. 결과"
      ],
      "metadata": {
        "id": "kXwOcKpB5ki9"
      }
    },
    {
      "cell_type": "code",
      "source": [
        "np.mean(neuron.predict(x_test_torch) == y_test)"
      ],
      "metadata": {
        "id": "B6ptnX0OJJep",
        "outputId": "d7268218-2e53-4311-f130-5f1261b842f7",
        "colab": {
          "base_uri": "https://localhost:8080/"
        }
      },
      "execution_count": 78,
      "outputs": [
        {
          "output_type": "execute_result",
          "data": {
            "text/plain": [
              "0.956140350877193"
            ]
          },
          "metadata": {},
          "execution_count": 78
        }
      ]
    },
    {
      "cell_type": "code",
      "source": [
        ""
      ],
      "metadata": {
        "id": "x03fnOsqQUPU"
      },
      "execution_count": 9,
      "outputs": []
    }
  ],
  "metadata": {
    "colab": {
      "name": "Chapter2_1.ipynb",
      "provenance": [],
      "include_colab_link": true
    },
    "language_info": {
      "name": "python"
    },
    "kernelspec": {
      "name": "python3",
      "display_name": "Python 3"
    }
  },
  "nbformat": 4,
  "nbformat_minor": 0
}