{
  "cells": [
    {
      "cell_type": "markdown",
      "metadata": {
        "id": "view-in-github",
        "colab_type": "text"
      },
      "source": [
        "<a href=\"https://colab.research.google.com/github/nyjinnn/images/blob/main/nyjinnn/AI_study/220620_Chapter4_%EC%8B%A4%EC%8A%B5.ipynb\" target=\"_parent\"><img src=\"https://colab.research.google.com/assets/colab-badge.svg\" alt=\"Open In Colab\"/></a>"
      ]
    },
    {
      "cell_type": "markdown",
      "source": [
        "# 로지스틱 회귀 연습문제"
      ],
      "metadata": {
        "id": "gtvXxVU7ngtN"
      }
    },
    {
      "cell_type": "markdown",
      "source": [
        "## 아이리스 데이터셋"
      ],
      "metadata": {
        "id": "Jm3czD6BoDAk"
      }
    },
    {
      "cell_type": "code",
      "source": [
        "import numpy as np \n",
        "import matplotlib.pyplot as plt \n",
        "from sklearn.datasets import load_iris\n",
        "from sklearn.model_selection import train_test_split "
      ],
      "metadata": {
        "id": "ZRiv5fNUBdof"
      },
      "execution_count": 3,
      "outputs": []
    },
    {
      "cell_type": "markdown",
      "source": [
        "1. 아이리스 데이터셋 준비"
      ],
      "metadata": {
        "id": "zZFcd_qq4TbB"
      }
    },
    {
      "cell_type": "code",
      "source": [
        "iris = load_iris()\n",
        "print(iris.data.shape, iris.target.shape)\n",
        "sepal_length = iris.data[:100, 0]  # sepal : 꽃받침\n",
        "sepal_width = iris.data[:100, 1]\n",
        "petal_length = iris.data[:100, 2]  # petal : 꽃잎\n",
        "petal_width = iris.data[:100, 3]"
      ],
      "metadata": {
        "id": "J30IAeiD2KBN",
        "outputId": "c9d45008-d57c-4bb0-dd01-ca7ede8a05fb",
        "colab": {
          "base_uri": "https://localhost:8080/"
        }
      },
      "execution_count": 4,
      "outputs": [
        {
          "output_type": "stream",
          "name": "stdout",
          "text": [
            "(150, 4) (150,)\n"
          ]
        }
      ]
    },
    {
      "cell_type": "markdown",
      "source": [
        "2. 아이리스 데이터 셋은 총 3개의 종류를 분류하는 문제이기 때문에 그 중에서 2개의 종류만 택하기 위해서 슬라이싱을 해준다. "
      ],
      "metadata": {
        "id": "U4XQLdXd4WdM"
      }
    },
    {
      "cell_type": "code",
      "source": [
        "x = iris.data[:100]\n",
        "y = iris.target[:100]\n",
        "\n",
        "print(np.shape(x), np.shape(y))"
      ],
      "metadata": {
        "id": "OeRj0oRm3QAd",
        "outputId": "9e982f2f-989d-4aa9-cb10-8d878d03fa97",
        "colab": {
          "base_uri": "https://localhost:8080/"
        }
      },
      "execution_count": 5,
      "outputs": [
        {
          "output_type": "stream",
          "name": "stdout",
          "text": [
            "(100, 4) (100,)\n"
          ]
        }
      ]
    },
    {
      "cell_type": "markdown",
      "source": [
        "3. 특성 중에서 꽃받침과 꽃잎에 대해서 샘플들의 분포를 살펴본다. "
      ],
      "metadata": {
        "id": "cBmmJwk44eid"
      }
    },
    {
      "cell_type": "code",
      "source": [
        "plt.scatter(sepal_width, petal_width, marker=\"o\", color='r')\n",
        "plt.grid()\n",
        "plt.xlabel(\"sepal_width\")\n",
        "plt.ylabel(\"petal_width\")\n",
        "plt.title(\"'sepal_width - petal_width' in IRIS dataset\")\n",
        "plt.show()"
      ],
      "metadata": {
        "id": "UaogQZDm2NFK",
        "outputId": "b99a4f25-8db3-4552-a3bb-bb45fb5009ce",
        "colab": {
          "base_uri": "https://localhost:8080/",
          "height": 296
        }
      },
      "execution_count": 6,
      "outputs": [
        {
          "output_type": "display_data",
          "data": {
            "text/plain": [
              "<Figure size 432x288 with 1 Axes>"
            ],
            "image/png": "[encoded data removed]"
          },
          "metadata": {
            "needs_background": "light"
          }
        }
      ]
    },
    {
      "cell_type": "markdown",
      "source": [
        "4. 데이터셋을 train과 test로 나누고 값의 분포를 확인한다. "
      ],
      "metadata": {
        "id": "YC96eqAq4k08"
      }
    },
    {
      "cell_type": "code",
      "source": [
        "x_train, x_test, y_train, y_test = train_test_split(x, y, stratify=y, test_size=0.2, random_state=42)"
      ],
      "metadata": {
        "id": "BdAPwe0c3Bnt"
      },
      "execution_count": 7,
      "outputs": []
    },
    {
      "cell_type": "code",
      "source": [
        "print(x_train.shape, y_train.shape)"
      ],
      "metadata": {
        "id": "XH0UnGzq3eTN",
        "outputId": "bda5e66d-256c-4334-a688-cc482585a82c",
        "colab": {
          "base_uri": "https://localhost:8080/"
        }
      },
      "execution_count": 8,
      "outputs": [
        {
          "output_type": "stream",
          "name": "stdout",
          "text": [
            "(80, 4) (80,)\n"
          ]
        }
      ]
    },
    {
      "cell_type": "code",
      "source": [
        "plt.boxplot(x_train)\n",
        "plt.xlabel(\"feature\")\n",
        "plt.ylabel(\"value\")\n",
        "plt.show()"
      ],
      "metadata": {
        "id": "HvZdMSH03i6V",
        "outputId": "4998c0d9-3c23-46e3-da4e-d755f0111e85",
        "colab": {
          "base_uri": "https://localhost:8080/",
          "height": 279
        }
      },
      "execution_count": 9,
      "outputs": [
        {
          "output_type": "display_data",
          "data": {
            "text/plain": [
              "<Figure size 432x288 with 1 Axes>"
            ],
            "image/png": "[encoded data removed]"
          },
          "metadata": {
            "needs_background": "light"
          }
        }
      ]
    },
    {
      "cell_type": "code",
      "source": [
        "print(np.unique(y_test, return_counts=True))"
      ],
      "metadata": {
        "id": "8rMVFxuE34o2",
        "outputId": "c7181af0-2810-49f4-82b8-1b22c5165a7b",
        "colab": {
          "base_uri": "https://localhost:8080/"
        }
      },
      "execution_count": 10,
      "outputs": [
        {
          "output_type": "stream",
          "name": "stdout",
          "text": [
            "(array([0, 1]), array([10, 10]))\n"
          ]
        }
      ]
    },
    {
      "cell_type": "code",
      "source": [
        "class LogisticNeuron:\n",
        "  def __init__(self):\n",
        "    self.w = None \n",
        "    self.b = None \n",
        "  \n",
        "  def forpass(self, x):\n",
        "    z = np.sum(x * self.w) + self.b \n",
        "    return z \n",
        "\n",
        "  def backprop(self, x, err, lr):\n",
        "    w_grad = x * err * lr\n",
        "    b_grad = 1 * err * lr\n",
        "    return w_grad, b_grad \n",
        "\n",
        "  def fit(self, x, y, epochs=100, lr=0.01, show=10):\n",
        "    self.w = np.ones(x.shape[1])\n",
        "    self.b = 0 \n",
        "    for i in range(epochs):\n",
        "      for x_i, y_i in zip(x, y):\n",
        "        z = self.forpass(x_i)\n",
        "        a = self.activation(z)\n",
        "        err = -(y_i**2 - a**2)\n",
        "        w_grad, b_grad = self.backprop(x_i, err, lr)\n",
        "        self.w -= w_grad \n",
        "        self.b -= b_grad \n",
        "      if (i+1) % show == 0 or i == 0:\n",
        "        print(\"epoch {} : err = {:.9f}\".format(i+1, err))\n",
        "  def activation(self, z):\n",
        "    a = 1 / (1 + np.exp(-z))\n",
        "    return a \n",
        "\n",
        "  def predict(self, x):\n",
        "    z = [self.forpass(x_i) for x_i in x]\n",
        "    a = self.activation(np.array(z))\n",
        "    return a"
      ],
      "metadata": {
        "id": "fzuvdTGn4Qm9"
      },
      "execution_count": 57,
      "outputs": []
    },
    {
      "cell_type": "code",
      "source": [
        "neuron = LogisticNeuron()\n",
        "neuron.fit(x_train, y_train, 300000, 0.1, 10000)"
      ],
      "metadata": {
        "id": "ETk-N9qq4tTt",
        "outputId": "130c865b-4f3d-462b-9ed6-4da61a7a8bd0",
        "colab": {
          "base_uri": "https://localhost:8080/"
        }
      },
      "execution_count": 59,
      "outputs": [
        {
          "output_type": "stream",
          "name": "stdout",
          "text": [
            "epoch 1 : err = 0.061903918\n",
            "epoch 10000 : err = 0.000019796\n",
            "epoch 20000 : err = 0.000009050\n",
            "epoch 30000 : err = 0.000005684\n",
            "epoch 40000 : err = 0.000004075\n",
            "epoch 50000 : err = 0.000003143\n",
            "epoch 60000 : err = 0.000002539\n",
            "epoch 70000 : err = 0.000002119\n",
            "epoch 80000 : err = 0.000001811\n",
            "epoch 90000 : err = 0.000001576\n",
            "epoch 100000 : err = 0.000001392\n",
            "epoch 110000 : err = 0.000001243\n",
            "epoch 120000 : err = 0.000001121\n",
            "epoch 130000 : err = 0.000001020\n",
            "epoch 140000 : err = 0.000000934\n",
            "epoch 150000 : err = 0.000000860\n",
            "epoch 160000 : err = 0.000000796\n",
            "epoch 170000 : err = 0.000000741\n",
            "epoch 180000 : err = 0.000000692\n",
            "epoch 190000 : err = 0.000000649\n",
            "epoch 200000 : err = 0.000000610\n",
            "epoch 210000 : err = 0.000000575\n",
            "epoch 220000 : err = 0.000000544\n",
            "epoch 230000 : err = 0.000000516\n",
            "epoch 240000 : err = 0.000000490\n",
            "epoch 250000 : err = 0.000000467\n",
            "epoch 260000 : err = 0.000000446\n",
            "epoch 270000 : err = 0.000000426\n",
            "epoch 280000 : err = 0.000000408\n",
            "epoch 290000 : err = 0.000000391\n",
            "epoch 300000 : err = 0.000000375\n"
          ]
        }
      ]
    },
    {
      "cell_type": "code",
      "source": [
        "output = neuron.predict(x_test)\n",
        "print(100*(1 - np.mean(output - y_test)))\n",
        "print(np.mean((output > 0.5) == y_test))\n"
      ],
      "metadata": {
        "id": "zyUM3YGh4ukA",
        "outputId": "be8c49cb-2550-4d68-b239-b59529944049",
        "colab": {
          "base_uri": "https://localhost:8080/"
        }
      },
      "execution_count": 63,
      "outputs": [
        {
          "output_type": "stream",
          "name": "stdout",
          "text": [
            "99.99808353059343\n",
            "1.0\n"
          ]
        }
      ]
    },
    {
      "cell_type": "code",
      "source": [
        "for i in x_test:\n",
        "  if neuron.predict([i]) == 0:\n",
        "    plt.scatter(i[1], i[3], c='r')\n",
        "  elif neuron.predict([i]) == 1:\n",
        "    plt.scatter(i[1], i[3], c='g')\n",
        "plt.show()"
      ],
      "metadata": {
        "id": "Z1AZNR_44v3F",
        "outputId": "64e80605-e396-44e5-f38b-f2edd7e5bb29",
        "colab": {
          "base_uri": "https://localhost:8080/",
          "height": 265
        }
      },
      "execution_count": null,
      "outputs": [
        {
          "output_type": "display_data",
          "data": {
            "text/plain": [
              "<Figure size 432x288 with 1 Axes>"
            ],
            "image/png": "[encoded data removed]"
          },
          "metadata": {
            "needs_background": "light"
          }
        }
      ]
    },
    {
      "cell_type": "code",
      "source": [
        ""
      ],
      "metadata": {
        "id": "P45tyJ805Gs9"
      },
      "execution_count": null,
      "outputs": []
    }
  ],
  "metadata": {
    "colab": {
      "name": "Chapter2_1.ipynb",
      "provenance": [],
      "include_colab_link": true
    },
    "language_info": {
      "name": "python"
    },
    "kernelspec": {
      "name": "python3",
      "display_name": "Python 3"
    }
  },
  "nbformat": 4,
  "nbformat_minor": 0
}