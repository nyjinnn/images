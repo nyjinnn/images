{
  "cells": [
    {
      "cell_type": "markdown",
      "metadata": {
        "id": "view-in-github",
        "colab_type": "text"
      },
      "source": [
        "<a href=\"https://colab.research.google.com/github/nyjinnn/images/blob/main/220708_%EB%AF%B8%EB%8B%88%EB%B0%B0%EC%B9%98_Chapter6_%EC%88%98%EC%97%85%EC%9E%90%EB%A3%8C.ipynb\" target=\"_parent\"><img src=\"https://colab.research.google.com/assets/colab-badge.svg\" alt=\"Open In Colab\"/></a>"
      ]
    },
    {
      "cell_type": "markdown",
      "source": [
        "# 로지스틱 회귀 + 데이터 전처리"
      ],
      "metadata": {
        "id": "gtvXxVU7ngtN"
      }
    },
    {
      "cell_type": "markdown",
      "source": [
        "## 문제 해결을 위한 데이터셋 준비\n",
        "\n",
        "1. 필요한 패키기 불러오기\n"
      ],
      "metadata": {
        "id": "Jm3czD6BoDAk"
      }
    },
    {
      "cell_type": "code",
      "source": [
        "import random\n",
        "import torch \n",
        "import torch.nn as nn \n",
        "import numpy as np \n",
        "import matplotlib.pyplot as plt\n",
        "\n",
        "from sklearn.datasets import load_breast_cancer\n",
        "from sklearn.model_selection import train_test_split"
      ],
      "metadata": {
        "id": "ZRiv5fNUBdof"
      },
      "execution_count": 3,
      "outputs": []
    },
    {
      "cell_type": "markdown",
      "source": [
        "2. 데이터셋 불러오기"
      ],
      "metadata": {
        "id": "3T0z40Cu4HRr"
      }
    },
    {
      "cell_type": "code",
      "source": [
        "cancer = load_breast_cancer()\n",
        "print(cancer.data.shape, cancer.target.shape)"
      ],
      "metadata": {
        "colab": {
          "base_uri": "https://localhost:8080/"
        },
        "id": "KTdRcvm81w3w",
        "outputId": "cc7b6afd-76bc-40e9-840d-891675f33881"
      },
      "execution_count": 4,
      "outputs": [
        {
          "output_type": "stream",
          "name": "stdout",
          "text": [
            "(569, 30) (569,)\n"
          ]
        }
      ]
    },
    {
      "cell_type": "markdown",
      "source": [
        "3. 데이터 확인하기 "
      ],
      "metadata": {
        "id": "-KpH8pBDB2U5"
      }
    },
    {
      "cell_type": "code",
      "source": [
        "plt.boxplot(cancer.data)\n",
        "plt.xlabel(\"feature\")\n",
        "plt.ylabel(\"value\")\n",
        "plt.show()"
      ],
      "metadata": {
        "colab": {
          "base_uri": "https://localhost:8080/",
          "height": 279
        },
        "id": "KKIUiy1SB-c1",
        "outputId": "5a2beba9-8cb1-4ff8-e8f3-bc0d895be4db"
      },
      "execution_count": 5,
      "outputs": [
        {
          "output_type": "display_data",
          "data": {
            "text/plain": [
              "<Figure size 432x288 with 1 Axes>"
            ],
            "image/png": "[encoded data removed]"
          },
          "metadata": {
            "needs_background": "light"
          }
        }
      ]
    },
    {
      "cell_type": "markdown",
      "source": [
        "4. 데이터 분포 확인하기 "
      ],
      "metadata": {
        "id": "XljPTZdG08yj"
      }
    },
    {
      "cell_type": "markdown",
      "source": [
        "4번째 feature에 대한 분포"
      ],
      "metadata": {
        "id": "Ae_6FOef1bwW"
      }
    },
    {
      "cell_type": "code",
      "source": [
        "plt.hist(cancer.data[:, 3])\n",
        "plt.grid()\n",
        "print(\"평균 : \", np.mean(cancer.data[:, 3]))\n",
        "print(\"표준편차 : \", np.std(cancer.data[:, 3]))"
      ],
      "metadata": {
        "id": "MhpPKPKk1A6c",
        "outputId": "3684d0fd-6c4e-4c77-a2c5-a1ded46c3d0b",
        "colab": {
          "base_uri": "https://localhost:8080/",
          "height": 302
        }
      },
      "execution_count": 6,
      "outputs": [
        {
          "output_type": "stream",
          "name": "stdout",
          "text": [
            "평균 :  654.8891036906855\n",
            "표준편차 :  351.60475406323\n"
          ]
        },
        {
          "output_type": "display_data",
          "data": {
            "text/plain": [
              "<Figure size 432x288 with 1 Axes>"
            ],
            "image/png": "[encoded data removed]"
          },
          "metadata": {
            "needs_background": "light"
          }
        }
      ]
    },
    {
      "cell_type": "markdown",
      "source": [
        "24번째 feature에 대한 분포 "
      ],
      "metadata": {
        "id": "TkxozWoy09Mz"
      }
    },
    {
      "cell_type": "code",
      "source": [
        "plt.hist(cancer.data[:, 23])\n",
        "plt.grid()\n",
        "print(\"평균 : \", np.mean(cancer.data[:, 23]))\n",
        "print(\"표준편차 : \", np.std(cancer.data[:, 23]))"
      ],
      "metadata": {
        "id": "SVdJLEY517pS",
        "outputId": "0d5802aa-04f2-482f-ed3c-e865e2ceb899",
        "colab": {
          "base_uri": "https://localhost:8080/",
          "height": 302
        }
      },
      "execution_count": 7,
      "outputs": [
        {
          "output_type": "stream",
          "name": "stdout",
          "text": [
            "평균 :  880.5831282952548\n",
            "표준편차 :  568.8564589532671\n"
          ]
        },
        {
          "output_type": "display_data",
          "data": {
            "text/plain": [
              "<Figure size 432x288 with 1 Axes>"
            ],
            "image/png": "[encoded data removed]"
          },
          "metadata": {
            "needs_background": "light"
          }
        }
      ]
    },
    {
      "cell_type": "markdown",
      "source": [
        "5. 데이터 스케일링 1 - zero mean unit variance (평균은 0, 분산는 1로 만들어주는 방법)"
      ],
      "metadata": {
        "id": "LN1EYMX809Py"
      }
    },
    {
      "cell_type": "code",
      "source": [
        "x = cancer.data\n",
        "y = cancer.target "
      ],
      "metadata": {
        "id": "MWUVgf1a2VCK"
      },
      "execution_count": 8,
      "outputs": []
    },
    {
      "cell_type": "code",
      "source": [
        "print(\"평균 : \", np.mean(x[:, 3]))\n",
        "print(\"표준편차 : \", np.std(x[:, 3]))\n",
        "scaled_feature_0 = (x[:, 3] - np.mean(x[:, 3])) / np.std(x[:, 3])\n",
        "print(\"수정 평균 : \", np.mean(scaled_feature_0))\n",
        "print(\"수정 표준편차 : \", np.std(scaled_feature_0))"
      ],
      "metadata": {
        "id": "3Acu2KDg2VL7",
        "outputId": "15bdb968-c3cf-4a00-f216-6615b0a13b3d",
        "colab": {
          "base_uri": "https://localhost:8080/"
        }
      },
      "execution_count": 9,
      "outputs": [
        {
          "output_type": "stream",
          "name": "stdout",
          "text": [
            "평균 :  654.8891036906855\n",
            "표준편차 :  351.60475406323\n",
            "수정 평균 :  -2.1853247584888846e-16\n",
            "수정 표준편차 :  1.0\n"
          ]
        }
      ]
    },
    {
      "cell_type": "code",
      "source": [
        "plt.hist(scaled_feature_0)\n",
        "plt.grid()"
      ],
      "metadata": {
        "id": "ysARYLzoVxKm",
        "outputId": "df460860-54ba-4133-d58c-0e3e75c3b5f0",
        "colab": {
          "base_uri": "https://localhost:8080/",
          "height": 265
        }
      },
      "execution_count": 10,
      "outputs": [
        {
          "output_type": "display_data",
          "data": {
            "text/plain": [
              "<Figure size 432x288 with 1 Axes>"
            ],
            "image/png": "[encoded data removed]"
          },
          "metadata": {
            "needs_background": "light"
          }
        }
      ]
    },
    {
      "cell_type": "code",
      "source": [
        "# 모든 데이터를 한 번에 처리 \n",
        "mean_x = np.mean(cancer.data, 0)\n",
        "print(\"mean_x : \", np.shape(mean_x))  # 차원이 하나 줄었음\n",
        "mean_x = np.expand_dims(mean_x, 0)\n",
        "print(\"mean_x : \", np.shape(mean_x))  # 차원을 하나 늘림 \n",
        "\n",
        "std_x = np.std(cancer.data, 0)\n",
        "std_x = np.expand_dims(std_x, 0) \n",
        "\n",
        "x_scale1 = (cancer.data - mean_x) / std_x\n",
        "\n",
        "plt.boxplot(x_scale1)\n",
        "plt.xlabel(\"feature\")\n",
        "plt.ylabel(\"value\")\n",
        "plt.show()"
      ],
      "metadata": {
        "id": "3lZhWIWR8qfY",
        "outputId": "341fa017-05b0-4295-aa89-5c1cd5247eaf",
        "colab": {
          "base_uri": "https://localhost:8080/",
          "height": 316
        }
      },
      "execution_count": 11,
      "outputs": [
        {
          "output_type": "stream",
          "name": "stdout",
          "text": [
            "mean_x :  (30,)\n",
            "mean_x :  (1, 30)\n"
          ]
        },
        {
          "output_type": "display_data",
          "data": {
            "text/plain": [
              "<Figure size 432x288 with 1 Axes>"
            ],
            "image/png": "[encoded data removed]"
          },
          "metadata": {
            "needs_background": "light"
          }
        }
      ]
    },
    {
      "cell_type": "markdown",
      "source": [
        "6. 데이터 스케일링 2 - min max scaler (최댓값이 1, 최솟값이 0)\n",
        "\n",
        "\n"
      ],
      "metadata": {
        "id": "5GYbPKRM_KqQ"
      }
    },
    {
      "cell_type": "code",
      "source": [
        "print(\"최댓값 : \", np.max(x[:, 0]))\n",
        "print(\"최솟값 : \", np.min(x[:, 0]))\n",
        "scaled_feature_0 = (x[:, 0] - np.min(x[:, 0])) / (np.max(x[:, 0])-np.min(x[:, 0]))\n",
        "print(\"수정 최댓값 : \", np.max(scaled_feature_0))\n",
        "print(\"수정 최솟값 : \", np.min(scaled_feature_0))"
      ],
      "metadata": {
        "id": "FbC94_qR_V9G",
        "outputId": "601003b5-2d52-4e01-a169-5b2a411ee6f3",
        "colab": {
          "base_uri": "https://localhost:8080/"
        }
      },
      "execution_count": 12,
      "outputs": [
        {
          "output_type": "stream",
          "name": "stdout",
          "text": [
            "최댓값 :  28.11\n",
            "최솟값 :  6.981\n",
            "수정 최댓값 :  1.0\n",
            "수정 최솟값 :  0.0\n"
          ]
        }
      ]
    },
    {
      "cell_type": "code",
      "source": [
        "# 모든 데이터를 한 번에 처리 \n",
        "max_x = np.max(cancer.data, 0)\n",
        "min_x = np.min(mean_x, 0)\n",
        "\n",
        "x_scale2 = (cancer.data - min_x) / (max_x - min_x)\n",
        "\n",
        "plt.boxplot(x_scale2)\n",
        "plt.xlabel(\"feature\")\n",
        "plt.ylabel(\"value\")\n",
        "plt.show()"
      ],
      "metadata": {
        "id": "dceTAEGS_V_v",
        "outputId": "31f52acd-3846-463d-a1b2-33fd59b0860a",
        "colab": {
          "base_uri": "https://localhost:8080/",
          "height": 279
        }
      },
      "execution_count": 13,
      "outputs": [
        {
          "output_type": "display_data",
          "data": {
            "text/plain": [
              "<Figure size 432x288 with 1 Axes>"
            ],
            "image/png": "[encoded data removed]"
          },
          "metadata": {
            "needs_background": "light"
          }
        }
      ]
    },
    {
      "cell_type": "markdown",
      "source": [
        "7. 학습 데이터셋 준비"
      ],
      "metadata": {
        "id": "882JOmT45d1D"
      }
    },
    {
      "cell_type": "code",
      "source": [
        "x_train, x_test, y_train, y_test = train_test_split(x, y, stratify=y, test_size=0.2, random_state=42)  # 수정 금지 \n",
        "x_train, x_eval, y_train, y_eval = train_test_split(x_train, y_train, stratify=y_train, test_size=0.125, random_state=999)\n",
        "\n",
        "# train에 대해서 평균과 표준편차를 구한다. sigma  x -min\n",
        "mean_x = np.mean(x_train, 0)\n",
        "mean_x = np.expand_dims(mean_x, 0)\n",
        "\n",
        "std_x = np.std(x_train, 0)\n",
        "std_x = np.expand_dims(std_x, 0) \n",
        "\n",
        "x_train_1 = (x_train - mean_x) / std_x\n",
        "x_test_1 = (x_test - mean_x) / std_x\n",
        "x_eval_1 = (x_eval - mean_x) / std_x\n",
        "\n",
        "# train에 대해서 최댓값과 최솟값을 구한다.  minmax scaler\n",
        "max_x = np.max(x_train, 0)\n",
        "min_x = np.min(x_train, 0)\n",
        "\n",
        "x_train_2 = (x_train - min_x) / (max_x - min_x)\n",
        "x_test_2 = (x_test - min_x) / (max_x - min_x)\n",
        "x_eval_2 = (x_eval - min_x) / (max_x - min_x)"
      ],
      "metadata": {
        "id": "4E21dMzh-uSi"
      },
      "execution_count": 14,
      "outputs": []
    },
    {
      "cell_type": "code",
      "source": [
        "x_train_torch = torch.FloatTensor(x_train)\n",
        "y_train_torch = torch.FloatTensor(y_train)\n",
        "x_eval_torch = torch.FloatTensor(x_eval)\n",
        "y_eval_torch = torch.FloatTensor(y_eval) \n",
        "x_test_torch = torch.FloatTensor(x_test)\n",
        "y_test_torch = torch.FloatTensor(y_test)\n",
        "\n",
        "x_train_1_torch = torch.FloatTensor(x_train_1)\n",
        "x_test_1_torch = torch.FloatTensor(x_test_1)\n",
        "x_eval_1_torch = torch.FloatTensor(x_eval_1)\n",
        "\n",
        "x_train_2_torch = torch.FloatTensor(x_train_2)\n",
        "x_test_2_torch = torch.FloatTensor(x_test_2)\n",
        "x_eval_2_torch = torch.FloatTensor(x_eval_2)"
      ],
      "metadata": {
        "id": "eCwTIDJXDGcv"
      },
      "execution_count": 15,
      "outputs": []
    },
    {
      "cell_type": "markdown",
      "source": [
        "8. 모델 준비"
      ],
      "metadata": {
        "id": "L3l6peFJ5iAh"
      }
    },
    {
      "cell_type": "code",
      "source": [
        "class LogisticNeuron(nn.Module):\n",
        "  def __init__(self, in_dim=30, n_hidden=60, learning_rate=1e-4):\n",
        "    '''\n",
        "    Args:\n",
        "      in_dim: The dimension of input data  \n",
        "      n_hidden: The dimension of hidden layer\n",
        "      learning_rate: The initial learning rate for training a network \n",
        "    '''\n",
        "    super().__init__()\n",
        "\n",
        "    self.model = nn.Sequential(\n",
        "        nn.Linear(in_dim, n_hidden),\n",
        "        nn.ReLU(), \n",
        "        nn.Linear(n_hidden, 1),\n",
        "        nn.Sigmoid()\n",
        "        )\n",
        "    \n",
        "    self.optim = torch.optim.Adam(self.model.parameters(), lr=learning_rate)\n",
        "    self.criterion = nn.BCELoss()\n",
        "\n",
        "  def _calculate_loss(self, x, y):\n",
        "    loss = self.criterion(x, y)\n",
        "    return loss \n",
        "\n",
        "  def forward(self, x):\n",
        "    z = self.model(x)\n",
        "    return z\n",
        "\n",
        "  def train(self, x, y, x_eval, batch_size=4, epochs=10):\n",
        "    #step 1 : 데이터의 갯수를 구한다. \n",
        "    len_data = x.size(0) #or len(x)'\n",
        "\n",
        "    #step 2 : bin수를 구한다. (step size)\n",
        "    bins = len_data // batch_size\n",
        "    if len_data%batch_size !=0 :\n",
        "      bins = bins+1\n",
        "\n",
        "    #steo 3 : 인덱스를 구한다.\n",
        "    index =np.random.permutation(len_data)\n",
        "\n",
        "    #step 4 : 데이터를 섞는다.\n",
        "    tmp_x = x[index]\n",
        "    tmp_y = y[index]\n",
        "\n",
        "    \n",
        "    for i in range(epochs):\n",
        "      #step 5 : 배치로 학습\n",
        "      for idx in range(bins) :\n",
        "        start = batch_size *idx\n",
        "        end = batch_size * (idx+1)\n",
        "\n",
        "        batch_x = tmp_x[start:end,:]\n",
        "        batch_y = tmp_y[start:end,:] #true_y\n",
        "        #n(end - start)= batch_size\n",
        "\n",
        "\n",
        "        pred_y = self.forward(batch_x) #shape (4,1)이 나올 것임...\n",
        "        pred_y = pred_y.squeeze(1)      #shape (4,)이 나올 것임...\n",
        "        true_y=batch_y                 #shape (4,)이 나올 것임...\n",
        "\n",
        "        loss = self._calculate_loss(pred_y, y)\n",
        "\n",
        "       \n",
        "\n",
        "      for x_i, y_i in zip(x, y):\n",
        "        pred_y = self.forward(x_i)\n",
        "        loss = self._calculate_loss(pred_y[0], y_i)\n",
        "        self.model.zero_grad()  #모델의 각 weight에 있는 gradient 값 삭제\n",
        "        self.optim.zero_grad()\n",
        "        loss.backward() #gradient를 계산\n",
        "        self.optim.step() #gradient를 적용\n",
        "\n",
        "      if (i+1) % 10 == 0:  # 여기 나누는 값을 조정해서 프린트하는 횟수를 조절\n",
        "        acc = np.mean(self.predict(x_eval) == y_eval)\n",
        "        # if tmp_acc == -1: \n",
        "        #   tmp_acc = acc \n",
        "        # if tmp_acc > acc:\n",
        "        #   break\n",
        "        print(\"epoch {} : err = {:.4f}, eval acc = {:%}\".format(i + 1, loss, acc))\n",
        "\n",
        "  def predict(self, x):\n",
        "    pred = [self.forward(x_i).data.numpy()[0] for x_i in x]\n",
        "    return np.array(pred) > 0.5 "
      ],
      "metadata": {
        "id": "nD4xfTtvFB2d"
      },
      "execution_count": 24,
      "outputs": []
    },
    {
      "cell_type": "markdown",
      "source": [
        "9. 원래 데이터셋 결과 "
      ],
      "metadata": {
        "id": "IHJODtxIB63M"
      }
    },
    {
      "cell_type": "code",
      "source": [
        "random_seed = 123\n",
        "np.random.seed(random_seed)\n",
        "torch.manual_seed(random_seed)\n",
        "random.seed(random_seed)\n",
        "\n",
        "neuron = LogisticNeuron(n_hidden=100, learning_rate=1e-4)\n",
        "neuron.train(x_train_torch, y_train_torch, x_eval_torch, batch_size=4,100)\n",
        "\n",
        "result = np.mean(neuron.predict(x_test_torch) == y_test)\n",
        "print(\"정확도 : {:%}\".format(result))\n",
        "\n",
        "\n",
        "\n",
        "#batch_size가 늘어나면 스텝 수가 줄어들기 때문에, 스텝 수를 더 늘려도 된다.\n",
        "#배치에 따라 학습에 영향"
      ],
      "metadata": {
        "colab": {
          "base_uri": "https://localhost:8080/",
          "height": 376
        },
        "id": "ijUQkQx5JAKm",
        "outputId": "dff74244-e772-4b6e-ab20-6d4082ac6e84"
      },
      "execution_count": 26,
      "outputs": [
        {
          "output_type": "error",
          "ename": "NameError",
          "evalue": "ignored",
          "traceback": [
            "\u001b[0;31m---------------------------------------------------------------------------\u001b[0m",
            "\u001b[0;31mNameError\u001b[0m                                 Traceback (most recent call last)",
            "\u001b[0;32m<ipython-input-26-d5d81fb6f80f>\u001b[0m in \u001b[0;36m<module>\u001b[0;34m()\u001b[0m\n\u001b[1;32m      5\u001b[0m \u001b[0;34m\u001b[0m\u001b[0m\n\u001b[1;32m      6\u001b[0m \u001b[0mneuron\u001b[0m \u001b[0;34m=\u001b[0m \u001b[0mLogisticNeuron\u001b[0m\u001b[0;34m(\u001b[0m\u001b[0mn_hidden\u001b[0m\u001b[0;34m=\u001b[0m\u001b[0;36m100\u001b[0m\u001b[0;34m,\u001b[0m \u001b[0mlearning_rate\u001b[0m\u001b[0;34m=\u001b[0m\u001b[0;36m1e-4\u001b[0m\u001b[0;34m)\u001b[0m\u001b[0;34m\u001b[0m\u001b[0;34m\u001b[0m\u001b[0m\n\u001b[0;32m----> 7\u001b[0;31m \u001b[0mneuron\u001b[0m\u001b[0;34m.\u001b[0m\u001b[0mtrain\u001b[0m\u001b[0;34m(\u001b[0m\u001b[0mx_train_torch\u001b[0m\u001b[0;34m,\u001b[0m \u001b[0my_train_torch\u001b[0m\u001b[0;34m,\u001b[0m \u001b[0mx_eval_torch\u001b[0m\u001b[0;34m,\u001b[0m\u001b[0;36m100\u001b[0m\u001b[0;34m)\u001b[0m\u001b[0;34m\u001b[0m\u001b[0;34m\u001b[0m\u001b[0m\n\u001b[0m\u001b[1;32m      8\u001b[0m \u001b[0;34m\u001b[0m\u001b[0m\n\u001b[1;32m      9\u001b[0m \u001b[0mresult\u001b[0m \u001b[0;34m=\u001b[0m \u001b[0mnp\u001b[0m\u001b[0;34m.\u001b[0m\u001b[0mmean\u001b[0m\u001b[0;34m(\u001b[0m\u001b[0mneuron\u001b[0m\u001b[0;34m.\u001b[0m\u001b[0mpredict\u001b[0m\u001b[0;34m(\u001b[0m\u001b[0mx_test_torch\u001b[0m\u001b[0;34m)\u001b[0m \u001b[0;34m==\u001b[0m \u001b[0my_test\u001b[0m\u001b[0;34m)\u001b[0m\u001b[0;34m\u001b[0m\u001b[0;34m\u001b[0m\u001b[0m\n",
            "\u001b[0;32m<ipython-input-24-72c13df7daf5>\u001b[0m in \u001b[0;36mtrain\u001b[0;34m(self, x, y, x_eval, epochs)\u001b[0m\n\u001b[1;32m     32\u001b[0m \u001b[0;34m\u001b[0m\u001b[0m\n\u001b[1;32m     33\u001b[0m     \u001b[0;31m#step 2 : bin수를 구한다. (step size)\u001b[0m\u001b[0;34m\u001b[0m\u001b[0;34m\u001b[0m\u001b[0;34m\u001b[0m\u001b[0m\n\u001b[0;32m---> 34\u001b[0;31m     \u001b[0mbins\u001b[0m \u001b[0;34m=\u001b[0m \u001b[0mlen_data\u001b[0m \u001b[0;34m//\u001b[0m \u001b[0mbatch_size\u001b[0m\u001b[0;34m\u001b[0m\u001b[0;34m\u001b[0m\u001b[0m\n\u001b[0m\u001b[1;32m     35\u001b[0m     \u001b[0;32mif\u001b[0m \u001b[0mlen_data\u001b[0m\u001b[0;34m%\u001b[0m\u001b[0mbatch_size\u001b[0m \u001b[0;34m!=\u001b[0m\u001b[0;36m0\u001b[0m \u001b[0;34m:\u001b[0m\u001b[0;34m\u001b[0m\u001b[0;34m\u001b[0m\u001b[0m\n\u001b[1;32m     36\u001b[0m       \u001b[0mbins\u001b[0m \u001b[0;34m=\u001b[0m \u001b[0mbins\u001b[0m\u001b[0;34m+\u001b[0m\u001b[0;36m1\u001b[0m\u001b[0;34m\u001b[0m\u001b[0;34m\u001b[0m\u001b[0m\n",
            "\u001b[0;31mNameError\u001b[0m: name 'batch_size' is not defined"
          ]
        }
      ]
    },
    {
      "cell_type": "markdown",
      "source": [
        "10. Zero mean Unit variance Dataset"
      ],
      "metadata": {
        "id": "kXwOcKpB5ki9"
      }
    },
    {
      "cell_type": "code",
      "source": [
        "random_seed = 123\n",
        "np.random.seed(random_seed)\n",
        "torch.manual_seed(random_seed)\n",
        "random.seed(random_seed)\n",
        "\n",
        "neuron1 = LogisticNeuron(n_hidden=100, learning_rate=1e-4)\n",
        "neuron1.train(x_train_1_torch, y_train_torch, x_eval_1_torch, 100)\n",
        "\n",
        "result = np.mean(neuron1.predict(x_test_1_torch) == y_test)\n",
        "print(\"정확도 : {:%}\".format(result))"
      ],
      "metadata": {
        "id": "B6ptnX0OJJep"
      },
      "execution_count": null,
      "outputs": []
    },
    {
      "cell_type": "markdown",
      "source": [
        ""
      ],
      "metadata": {
        "id": "Fc1TQX2hEJyJ"
      }
    },
    {
      "cell_type": "code",
      "source": [
        "random_seed = 123\n",
        "np.random.seed(random_seed)\n",
        "torch.manual_seed(random_seed)\n",
        "random.seed(random_seed)\n",
        "\n",
        "neuron2 = LogisticNeuron(n_hidden=100, learning_rate=1e-4)\n",
        "neuron2.train(x_train_2_torch, y_train_torch, x_eval_2_torch, 100)\n",
        "\n",
        "result = np.mean(neuron2.predict(x_test_2_torch) == y_test)\n",
        "print(\"정확도 : {:%}\".format(result))"
      ],
      "metadata": {
        "id": "aNJWvZBOEH-S"
      },
      "execution_count": null,
      "outputs": []
    },
    {
      "cell_type": "code",
      "source": [
        "x_train_torch.size()"
      ],
      "metadata": {
        "id": "x03fnOsqQUPU"
      },
      "execution_count": null,
      "outputs": []
    },
    {
      "cell_type": "code",
      "source": [
        "!pip install torchsummary\n",
        "from torchsummary import summary as summary\n",
        "summary(neuron, (398, 30))"
      ],
      "metadata": {
        "id": "lcSN0q-rEDHY"
      },
      "execution_count": null,
      "outputs": []
    },
    {
      "cell_type": "code",
      "source": [
        ""
      ],
      "metadata": {
        "id": "62Er-L3mEZWX"
      },
      "execution_count": null,
      "outputs": []
    }
  ],
  "metadata": {
    "colab": {
      "name": "Chapter2_1.ipynb",
      "provenance": [],
      "include_colab_link": true
    },
    "language_info": {
      "name": "python"
    },
    "kernelspec": {
      "name": "python3",
      "display_name": "Python 3"
    }
  },
  "nbformat": 4,
  "nbformat_minor": 0
}