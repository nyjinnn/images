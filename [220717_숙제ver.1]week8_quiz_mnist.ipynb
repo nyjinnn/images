{
  "nbformat": 4,
  "nbformat_minor": 0,
  "metadata": {
    "colab": {
      "name": "Untitled0.ipynb",
      "provenance": [],
      "include_colab_link": true
    },
    "kernelspec": {
      "name": "python3",
      "display_name": "Python 3"
    },
    "language_info": {
      "name": "python"
    }
  },
  "cells": [
    {
      "cell_type": "markdown",
      "metadata": {
        "id": "view-in-github",
        "colab_type": "text"
      },
      "source": [
        "<a href=\"https://colab.research.google.com/github/nyjinnn/images/blob/main/%5B220717_%EC%88%99%EC%A0%9Cver.1%5Dweek8_quiz_mnist.ipynb\" target=\"_parent\"><img src=\"https://colab.research.google.com/assets/colab-badge.svg\" alt=\"Open In Colab\"/></a>"
      ]
    },
    {
      "cell_type": "code",
      "execution_count": 6,
      "metadata": {
        "id": "IMRHgENqVdcU"
      },
      "outputs": [],
      "source": [
        "import matplotlib.pyplot as plt \n",
        "import tensorflow as tf\n",
        "import numpy as np "
      ]
    },
    {
      "cell_type": "code",
      "source": [
        "\n",
        "(x_train_all, y_train_all), (x_test, y_test) = tf.keras.datasets.mnist.load_data()\n",
        "print(x_train_all.shape, y_train_all.shape)"
      ],
      "metadata": {
        "id": "AeZiHPuBVgce",
        "outputId": "aaadd84f-8151-4aed-ad5d-f8eeaff17bb3",
        "colab": {
          "base_uri": "https://localhost:8080/"
        }
      },
      "execution_count": 13,
      "outputs": [
        {
          "output_type": "stream",
          "name": "stdout",
          "text": [
            "(60000, 28, 28) (60000,)\n"
          ]
        }
      ]
    },
    {
      "cell_type": "code",
      "source": [
        "class_names = [\"0\", \"1\", \"2\", \"3\", \"4\", \"5\", \"6\",\"7\",\"8\",\"9\"]"
      ],
      "metadata": {
        "id": "-qzXBxaj_5PT"
      },
      "execution_count": 14,
      "outputs": []
    },
    {
      "cell_type": "code",
      "source": [
        "fig = plt.figure(figsize=(15, 4))\n",
        "\n",
        "for i in range(10):\n",
        "    plottable_image = np.reshape(x_train[i], (28, 28))\n",
        "    ax = fig.add_subplot(2, 5, i+1)\n",
        "    ax.imshow(plottable_image, cmap='gray_r')"
      ],
      "metadata": {
        "colab": {
          "base_uri": "https://localhost:8080/",
          "height": 268
        },
        "id": "KqZcE_KvV7_w",
        "outputId": "263f9e35-737a-44be-873b-e3351ebf6d42"
      },
      "execution_count": 15,
      "outputs": [
        {
          "output_type": "display_data",
          "data": {
            "text/plain": [
              "<Figure size 1080x288 with 10 Axes>"
            ],
            "image/png": "[encoded data removed]"
          },
          "metadata": {
            "needs_background": "light"
          }
        }
      ]
    },
    {
      "cell_type": "code",
      "source": [
        "from sklearn.model_selection import train_test_split \n",
        "x_train, x_valid, y_train, y_valid = train_test_split(x_train_all, y_train_all, stratify=y_train_all, test_size=0.2, random_state=42)"
      ],
      "metadata": {
        "id": "6hRrkl0MYjtf"
      },
      "execution_count": 17,
      "outputs": []
    },
    {
      "cell_type": "code",
      "source": [
        "print(\"학습 데이터셋 클래스별 샘플 수 : \", np.bincount(y_train))\n",
        "print(\"평가 데이터셋 클래스별 샘플 수 : \", np.bincount(y_valid))"
      ],
      "metadata": {
        "id": "GZIR6n_JBQym",
        "outputId": "1ddaa9df-004d-43d6-dd90-6abe9866e520",
        "colab": {
          "base_uri": "https://localhost:8080/"
        }
      },
      "execution_count": 18,
      "outputs": [
        {
          "output_type": "stream",
          "name": "stdout",
          "text": [
            "학습 데이터셋 클래스별 샘플 수 :  [4738 5394 4766 4905 4674 4337 4734 5012 4681 4759]\n",
            "평가 데이터셋 클래스별 샘플 수 :  [1185 1348 1192 1226 1168 1084 1184 1253 1170 1190]\n"
          ]
        }
      ]
    },
    {
      "cell_type": "code",
      "source": [
        "x_train = x_train / 255\n",
        "x_valid = x_valid / 255 \n",
        "x_test = x_test / 255 "
      ],
      "metadata": {
        "id": "qnm75SV6BTJu"
      },
      "execution_count": 19,
      "outputs": []
    },
    {
      "cell_type": "code",
      "source": [
        "x_train_reshape = x_train.reshape(-1, 784) \n",
        "x_valid_reshape = x_valid.reshape(-1, 784)\n",
        "x_test_reshape = x_test.reshape(-1, 784)\n",
        "\n",
        "print(\"학습 데이터 셋의 형태 : \", x_train_reshape.shape)\n",
        "print(\"검증 데이터 셋의 형태 : \", x_valid_reshape.shape)"
      ],
      "metadata": {
        "id": "2TFsDEFeBZjU",
        "outputId": "b00d7270-ee5e-4d40-a748-2b21456739c6",
        "colab": {
          "base_uri": "https://localhost:8080/"
        }
      },
      "execution_count": 20,
      "outputs": [
        {
          "output_type": "stream",
          "name": "stdout",
          "text": [
            "학습 데이터 셋의 형태 :  (48000, 784)\n",
            "검증 데이터 셋의 형태 :  (12000, 784)\n"
          ]
        }
      ]
    },
    {
      "cell_type": "code",
      "source": [
        "tf.keras.utils.to_categorical([0, 1, 3])"
      ],
      "metadata": {
        "id": "Kwofhll3Bdq-",
        "outputId": "0c80e936-c736-4743-dcd1-4bf323413726",
        "colab": {
          "base_uri": "https://localhost:8080/"
        }
      },
      "execution_count": 53,
      "outputs": [
        {
          "output_type": "execute_result",
          "data": {
            "text/plain": [
              "array([[1., 0., 0., 0.],\n",
              "       [0., 1., 0., 0.],\n",
              "       [0., 0., 0., 1.]], dtype=float32)"
            ]
          },
          "metadata": {},
          "execution_count": 53
        }
      ]
    },
    {
      "cell_type": "code",
      "source": [
        "y_train_encoded = tf.keras.utils.to_categorical(y_train)\n",
        "y_valid_encoded = tf.keras.utils.to_categorical(y_valid)"
      ],
      "metadata": {
        "id": "kQXXdjgiFKy3"
      },
      "execution_count": 54,
      "outputs": []
    },
    {
      "cell_type": "code",
      "source": [
        "print(y_train[0], y_train_encoded[0], class_names[y_train[0]])\n"
      ],
      "metadata": {
        "id": "n3Gw4Wk6FN_n",
        "outputId": "e3f8ba17-e865-4157-dbbb-0d20231e29b2",
        "colab": {
          "base_uri": "https://localhost:8080/"
        }
      },
      "execution_count": 55,
      "outputs": [
        {
          "output_type": "stream",
          "name": "stdout",
          "text": [
            "1 [0. 1. 0. 0. 0. 0. 0. 0. 0. 0.] 1\n"
          ]
        }
      ]
    },
    {
      "cell_type": "code",
      "source": [
        "import torch\n",
        "x_train_torch = torch.FloatTensor(x_train_reshape)\n",
        "y_train_torch = torch.FloatTensor(y_train_encoded)\n",
        "x_valid_torch = torch.FloatTensor(x_valid_reshape)\n",
        "y_valid_torch = torch.FloatTensor(y_valid_encoded) \n",
        "x_test_torch = torch.FloatTensor(x_test_reshape)\n",
        "y_test_torch = torch.FloatTensor(y_test)"
      ],
      "metadata": {
        "id": "g1N2p22-FOfa"
      },
      "execution_count": 56,
      "outputs": []
    },
    {
      "cell_type": "code",
      "source": [
        "import torch.nn as nn\n",
        "from torch.utils.data import Dataset, DataLoader"
      ],
      "metadata": {
        "id": "Qaf6aa8oFRpw"
      },
      "execution_count": 71,
      "outputs": []
    },
    {
      "cell_type": "code",
      "source": [
        "class numberDataset(Dataset):\n",
        "  def __init__(self, x, y):\n",
        "    self.x_data = x\n",
        "    self.y_data = y\n",
        "  \n",
        "  def __getitem__(self, index):\n",
        "    x = self.x_data[index]\n",
        "    y = self.y_data[index]\n",
        "    return x, y\n",
        "  \n",
        "  def collate_fn(self, batch):\n",
        "    x, y = zip(*batch) #batch 사이즈만큼 커짐\n",
        "    return x, y\n",
        "\n",
        "  def __len__(self):\n",
        "    return len(self.x_data)"
      ],
      "metadata": {
        "id": "QZn8EWZkFTXi"
      },
      "execution_count": 72,
      "outputs": []
    },
    {
      "cell_type": "code",
      "source": [
        "dataset = numberDataset(x_train_torch, y_train_torch)\n",
        "dataloader = DataLoader(dataset, batch_size=32, shuffle=True, drop_last=True)"
      ],
      "metadata": {
        "id": "Cjc1khIQFWJE"
      },
      "execution_count": 73,
      "outputs": []
    },
    {
      "cell_type": "code",
      "source": [
        "for b in dataloader:\n",
        "    x_batch=b[0]\n",
        "    y_batch=b[1]\n",
        "    print(\"배치사이즈:\", len(x_batch))\n",
        "    print(\"데이터 크기:\", (x_batch.size()))\n",
        "    print(\"타겟 크기:\", (y_batch.size()))\n",
        "    break"
      ],
      "metadata": {
        "id": "YKSy7gLlFjvT",
        "outputId": "2f66b01d-3ce8-41a9-83e2-454c8fec8504",
        "colab": {
          "base_uri": "https://localhost:8080/"
        }
      },
      "execution_count": 78,
      "outputs": [
        {
          "output_type": "stream",
          "name": "stdout",
          "text": [
            "배치사이즈: 32\n",
            "데이터 크기: torch.Size([32, 784])\n",
            "타겟 크기: torch.Size([32, 10])\n"
          ]
        }
      ]
    },
    {
      "cell_type": "code",
      "source": [
        "from tqdm import tqdm \n",
        "import random \n",
        "\n",
        "random_seed = 220805\n",
        "np.random.seed(random_seed)\n",
        "torch.manual_seed(random_seed)\n",
        "random.seed(random_seed)\n",
        "\n",
        "model = nn.Sequential(\n",
        "    nn.Linear(784, 700),\n",
        "    nn.ReLU(), \n",
        "    nn.Linear(700, 600),\n",
        "    nn.ReLU(), \n",
        "    nn.Linear(600, 400),\n",
        "    nn.ReLU(),\n",
        "    nn.Linear(400, 200),\n",
        "    nn.ReLU(), \n",
        "    nn.Linear(200, 10),\n",
        "    nn.Softmax()\n",
        "    )\n",
        "\n",
        "optim = torch.optim.Adam(model.parameters(), lr=1e-4)\n",
        "criterion = nn.CrossEntropyLoss()\n",
        "\n",
        "\n",
        "\n",
        "global_step = 0 \n",
        "for epoch in range(25):\n",
        "  t = tqdm(dataloader, ncols=100)\n",
        "  for i, batch in enumerate(t):\n",
        "    x_batch = batch[0]\n",
        "    y_batch = batch[1]\n",
        "    output = model(x_batch)\n",
        "    loss = criterion(output, y_batch)\n",
        "    model.zero_grad() \n",
        "    optim.zero_grad()\n",
        "    loss.backward() #gradiant(기울기)구하고\n",
        "    optim.step()    #적용(업데이트)\n",
        "\n",
        "    global_step += 1\n",
        "    t.set_description(\"epoch: {} | global_step: {:8d} | loss: {:.4f}\".format(epoch + 1, global_step, loss))\n",
        "  predicts = model(x_valid_torch)\n",
        "  predicts = torch.argmax(predicts, 1)\n",
        "\n",
        "  correct = 0 \n",
        "  for i in range(len(predicts)):\n",
        "    if predicts[i].item() == y_valid[i]: #torch에서 scalar(값) 가져오는 것 (item함수)\n",
        "      correct += 1\n",
        "  acc = correct / len(predicts)\n",
        "  print(\"epoch: {} | global_step: {} | valid acc: {:%}\".format(epoch + 1, global_step, acc))"
      ],
      "metadata": {
        "id": "C2LoiHnBF300",
        "outputId": "21a680c3-c16f-4737-8e49-77e317b0b30b",
        "colab": {
          "base_uri": "https://localhost:8080/"
        }
      },
      "execution_count": 93,
      "outputs": [
        {
          "output_type": "stream",
          "name": "stderr",
          "text": [
            "  0%|                                                                      | 0/1500 [00:00<?, ?it/s]/usr/local/lib/python3.7/dist-packages/torch/nn/modules/container.py:139: UserWarning: Implicit dimension choice for softmax has been deprecated. Change the call to include dim=X as an argument.\n",
            "  input = module(input)\n",
            "epoch: 1 | global_step:     1500 | loss: 1.6032: 100%|██████████| 1500/1500 [00:32<00:00, 45.53it/s]\n"
          ]
        },
        {
          "output_type": "stream",
          "name": "stdout",
          "text": [
            "epoch: 1 | global_step: 1500 | valid acc: 90.583333%\n"
          ]
        },
        {
          "output_type": "stream",
          "name": "stderr",
          "text": [
            "epoch: 2 | global_step:     3000 | loss: 1.5611: 100%|██████████| 1500/1500 [00:32<00:00, 45.76it/s]\n"
          ]
        },
        {
          "output_type": "stream",
          "name": "stdout",
          "text": [
            "epoch: 2 | global_step: 3000 | valid acc: 92.258333%\n"
          ]
        },
        {
          "output_type": "stream",
          "name": "stderr",
          "text": [
            "epoch: 3 | global_step:     4500 | loss: 1.5033: 100%|██████████| 1500/1500 [00:33<00:00, 45.41it/s]\n"
          ]
        },
        {
          "output_type": "stream",
          "name": "stdout",
          "text": [
            "epoch: 3 | global_step: 4500 | valid acc: 94.633333%\n"
          ]
        },
        {
          "output_type": "stream",
          "name": "stderr",
          "text": [
            "epoch: 4 | global_step:     6000 | loss: 1.4614: 100%|██████████| 1500/1500 [00:33<00:00, 45.04it/s]\n"
          ]
        },
        {
          "output_type": "stream",
          "name": "stdout",
          "text": [
            "epoch: 4 | global_step: 6000 | valid acc: 95.275000%\n"
          ]
        },
        {
          "output_type": "stream",
          "name": "stderr",
          "text": [
            "epoch: 5 | global_step:     7500 | loss: 1.4931: 100%|██████████| 1500/1500 [00:32<00:00, 45.80it/s]\n"
          ]
        },
        {
          "output_type": "stream",
          "name": "stdout",
          "text": [
            "epoch: 5 | global_step: 7500 | valid acc: 95.533333%\n"
          ]
        },
        {
          "output_type": "stream",
          "name": "stderr",
          "text": [
            "epoch: 6 | global_step:     9000 | loss: 1.4769: 100%|██████████| 1500/1500 [00:33<00:00, 45.39it/s]\n"
          ]
        },
        {
          "output_type": "stream",
          "name": "stdout",
          "text": [
            "epoch: 6 | global_step: 9000 | valid acc: 96.191667%\n"
          ]
        },
        {
          "output_type": "stream",
          "name": "stderr",
          "text": [
            "epoch: 7 | global_step:    10500 | loss: 1.4925: 100%|██████████| 1500/1500 [00:32<00:00, 45.56it/s]\n"
          ]
        },
        {
          "output_type": "stream",
          "name": "stdout",
          "text": [
            "epoch: 7 | global_step: 10500 | valid acc: 96.300000%\n"
          ]
        },
        {
          "output_type": "stream",
          "name": "stderr",
          "text": [
            "epoch: 8 | global_step:    12000 | loss: 1.4919: 100%|██████████| 1500/1500 [00:34<00:00, 43.69it/s]\n"
          ]
        },
        {
          "output_type": "stream",
          "name": "stdout",
          "text": [
            "epoch: 8 | global_step: 12000 | valid acc: 96.266667%\n"
          ]
        },
        {
          "output_type": "stream",
          "name": "stderr",
          "text": [
            "epoch: 9 | global_step:    13500 | loss: 1.4941: 100%|██████████| 1500/1500 [00:33<00:00, 44.69it/s]\n"
          ]
        },
        {
          "output_type": "stream",
          "name": "stdout",
          "text": [
            "epoch: 9 | global_step: 13500 | valid acc: 96.783333%\n"
          ]
        },
        {
          "output_type": "stream",
          "name": "stderr",
          "text": [
            "epoch: 10 | global_step:    15000 | loss: 1.4924: 100%|█████████| 1500/1500 [00:33<00:00, 45.04it/s]\n"
          ]
        },
        {
          "output_type": "stream",
          "name": "stdout",
          "text": [
            "epoch: 10 | global_step: 15000 | valid acc: 97.000000%\n"
          ]
        },
        {
          "output_type": "stream",
          "name": "stderr",
          "text": [
            "epoch: 11 | global_step:    16500 | loss: 1.4899: 100%|█████████| 1500/1500 [00:34<00:00, 44.03it/s]\n"
          ]
        },
        {
          "output_type": "stream",
          "name": "stdout",
          "text": [
            "epoch: 11 | global_step: 16500 | valid acc: 96.700000%\n"
          ]
        },
        {
          "output_type": "stream",
          "name": "stderr",
          "text": [
            "epoch: 12 | global_step:    18000 | loss: 1.5220: 100%|█████████| 1500/1500 [00:33<00:00, 45.06it/s]\n"
          ]
        },
        {
          "output_type": "stream",
          "name": "stdout",
          "text": [
            "epoch: 12 | global_step: 18000 | valid acc: 96.725000%\n"
          ]
        },
        {
          "output_type": "stream",
          "name": "stderr",
          "text": [
            "epoch: 13 | global_step:    19500 | loss: 1.4612: 100%|█████████| 1500/1500 [00:33<00:00, 45.10it/s]\n"
          ]
        },
        {
          "output_type": "stream",
          "name": "stdout",
          "text": [
            "epoch: 13 | global_step: 19500 | valid acc: 97.083333%\n"
          ]
        },
        {
          "output_type": "stream",
          "name": "stderr",
          "text": [
            "epoch: 14 | global_step:    21000 | loss: 1.4612: 100%|█████████| 1500/1500 [00:32<00:00, 45.93it/s]\n"
          ]
        },
        {
          "output_type": "stream",
          "name": "stdout",
          "text": [
            "epoch: 14 | global_step: 21000 | valid acc: 97.341667%\n"
          ]
        },
        {
          "output_type": "stream",
          "name": "stderr",
          "text": [
            "epoch: 15 | global_step:    22500 | loss: 1.5236: 100%|█████████| 1500/1500 [00:33<00:00, 44.55it/s]\n"
          ]
        },
        {
          "output_type": "stream",
          "name": "stdout",
          "text": [
            "epoch: 15 | global_step: 22500 | valid acc: 97.308333%\n"
          ]
        },
        {
          "output_type": "stream",
          "name": "stderr",
          "text": [
            "epoch: 16 | global_step:    24000 | loss: 1.4970: 100%|█████████| 1500/1500 [00:33<00:00, 45.31it/s]\n"
          ]
        },
        {
          "output_type": "stream",
          "name": "stdout",
          "text": [
            "epoch: 16 | global_step: 24000 | valid acc: 96.950000%\n"
          ]
        },
        {
          "output_type": "stream",
          "name": "stderr",
          "text": [
            "epoch: 17 | global_step:    25500 | loss: 1.4648: 100%|█████████| 1500/1500 [00:33<00:00, 45.42it/s]\n"
          ]
        },
        {
          "output_type": "stream",
          "name": "stdout",
          "text": [
            "epoch: 17 | global_step: 25500 | valid acc: 97.350000%\n"
          ]
        },
        {
          "output_type": "stream",
          "name": "stderr",
          "text": [
            "epoch: 18 | global_step:    27000 | loss: 1.4613: 100%|█████████| 1500/1500 [00:32<00:00, 45.48it/s]\n"
          ]
        },
        {
          "output_type": "stream",
          "name": "stdout",
          "text": [
            "epoch: 18 | global_step: 27000 | valid acc: 97.091667%\n"
          ]
        },
        {
          "output_type": "stream",
          "name": "stderr",
          "text": [
            "epoch: 19 | global_step:    28500 | loss: 1.4911: 100%|█████████| 1500/1500 [00:33<00:00, 44.94it/s]\n"
          ]
        },
        {
          "output_type": "stream",
          "name": "stdout",
          "text": [
            "epoch: 19 | global_step: 28500 | valid acc: 97.166667%\n"
          ]
        },
        {
          "output_type": "stream",
          "name": "stderr",
          "text": [
            "epoch: 20 | global_step:    30000 | loss: 1.5238: 100%|█████████| 1500/1500 [00:33<00:00, 45.33it/s]\n"
          ]
        },
        {
          "output_type": "stream",
          "name": "stdout",
          "text": [
            "epoch: 20 | global_step: 30000 | valid acc: 97.541667%\n"
          ]
        },
        {
          "output_type": "stream",
          "name": "stderr",
          "text": [
            "epoch: 21 | global_step:    31500 | loss: 1.4612: 100%|█████████| 1500/1500 [00:33<00:00, 44.99it/s]\n"
          ]
        },
        {
          "output_type": "stream",
          "name": "stdout",
          "text": [
            "epoch: 21 | global_step: 31500 | valid acc: 97.483333%\n"
          ]
        },
        {
          "output_type": "stream",
          "name": "stderr",
          "text": [
            "epoch: 22 | global_step:    33000 | loss: 1.4612: 100%|█████████| 1500/1500 [00:33<00:00, 44.97it/s]\n"
          ]
        },
        {
          "output_type": "stream",
          "name": "stdout",
          "text": [
            "epoch: 22 | global_step: 33000 | valid acc: 97.450000%\n"
          ]
        },
        {
          "output_type": "stream",
          "name": "stderr",
          "text": [
            "epoch: 23 | global_step:    34500 | loss: 1.4612: 100%|█████████| 1500/1500 [00:34<00:00, 43.62it/s]\n"
          ]
        },
        {
          "output_type": "stream",
          "name": "stdout",
          "text": [
            "epoch: 23 | global_step: 34500 | valid acc: 97.208333%\n"
          ]
        },
        {
          "output_type": "stream",
          "name": "stderr",
          "text": [
            "epoch: 24 | global_step:    36000 | loss: 1.4612: 100%|█████████| 1500/1500 [00:33<00:00, 44.85it/s]\n"
          ]
        },
        {
          "output_type": "stream",
          "name": "stdout",
          "text": [
            "epoch: 24 | global_step: 36000 | valid acc: 97.458333%\n"
          ]
        },
        {
          "output_type": "stream",
          "name": "stderr",
          "text": [
            "epoch: 25 | global_step:    37500 | loss: 1.4612: 100%|█████████| 1500/1500 [00:33<00:00, 44.60it/s]\n"
          ]
        },
        {
          "output_type": "stream",
          "name": "stdout",
          "text": [
            "epoch: 25 | global_step: 37500 | valid acc: 97.666667%\n"
          ]
        }
      ]
    },
    {
      "cell_type": "code",
      "source": [
        "predict = model(x_test_torch)\n",
        "predict = torch.argmax(predict, 1)"
      ],
      "metadata": {
        "id": "iocGHMIsGvKQ",
        "outputId": "9fb5a814-e1c0-4048-ec34-90257f20af34",
        "colab": {
          "base_uri": "https://localhost:8080/"
        }
      },
      "execution_count": 94,
      "outputs": [
        {
          "output_type": "stream",
          "name": "stderr",
          "text": [
            "/usr/local/lib/python3.7/dist-packages/torch/nn/modules/container.py:139: UserWarning: Implicit dimension choice for softmax has been deprecated. Change the call to include dim=X as an argument.\n",
            "  input = module(input)\n"
          ]
        }
      ]
    },
    {
      "cell_type": "code",
      "source": [
        "correct = 0 \n",
        "for i in range(len(predict)):\n",
        "  if predict[i].item() == y_test[i]:\n",
        "    correct += 1\n",
        "acc = correct/len(predict)\n",
        "print(\"Test accuracy : {:.2%}\".format(acc))\n"
      ],
      "metadata": {
        "id": "-Oq4JvdjGw03",
        "outputId": "d7473881-9de7-4274-ee9b-f31db73d01c5",
        "colab": {
          "base_uri": "https://localhost:8080/"
        }
      },
      "execution_count": 95,
      "outputs": [
        {
          "output_type": "stream",
          "name": "stdout",
          "text": [
            "Test accuracy : 97.57%\n"
          ]
        }
      ]
    },
    {
      "cell_type": "code",
      "source": [
        "fig = plt.figure(figsize=(15, 7))\n",
        "\n",
        "for i in range(5):\n",
        "    plottable_image = x_test[i+10]\n",
        "    ax = fig.add_subplot(2, 5, i+1)\n",
        "    ax.title.set_text(class_names[y_test[i+10]])\n",
        "    ax.imshow(plottable_image, cmap='gray_r')\n",
        "  \n",
        "for i in range(5):\n",
        "    plottable_image = x_test[i+10]\n",
        "    ax = fig.add_subplot(2, 5, i+6)\n",
        "    ax.title.set_text(class_names[predict[i+10].item()])\n",
        "    ax.imshow(plottable_image, cmap='gray_r')\n",
        "\n",
        "plt.show()"
      ],
      "metadata": {
        "id": "AEtY5ieLGyuG",
        "outputId": "31e5e137-31b0-46fe-fbe1-1f730e6b146c",
        "colab": {
          "base_uri": "https://localhost:8080/",
          "height": 416
        }
      },
      "execution_count": 44,
      "outputs": [
        {
          "output_type": "display_data",
          "data": {
            "text/plain": [
              "<Figure size 1080x504 with 10 Axes>"
            ],
            "image/png": "[encoded data removed]"
          },
          "metadata": {
            "needs_background": "light"
          }
        }
      ]
    }
  ]
}