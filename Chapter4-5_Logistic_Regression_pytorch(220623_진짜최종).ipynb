{
  "cells": [
    {
      "cell_type": "markdown",
      "metadata": {
        "id": "view-in-github",
        "colab_type": "text"
      },
      "source": [
        "<a href=\"https://colab.research.google.com/github/nyjinnn/images/blob/main/Chapter4-5_Logistic_Regression_pytorch(220623_%EC%A7%84%EC%A7%9C%EC%B5%9C%EC%A2%85).ipynb\" target=\"_parent\"><img src=\"https://colab.research.google.com/assets/colab-badge.svg\" alt=\"Open In Colab\"/></a>"
      ]
    },
    {
      "cell_type": "markdown",
      "source": [
        "# 로지스틱 회귀"
      ],
      "metadata": {
        "id": "gtvXxVU7ngtN"
      }
    },
    {
      "cell_type": "markdown",
      "source": [
        "## 문제 해결을 위한 데이터셋 준비\n",
        "\n",
        "1. 데이터셋 불러오기 \n"
      ],
      "metadata": {
        "id": "Jm3czD6BoDAk"
      }
    },
    {
      "cell_type": "code",
      "source": [
        "from sklearn.datasets import load_breast_cancer\n",
        "cancer = load_breast_cancer()\n",
        "print(cancer.data.shape, cancer.target.shape)"
      ],
      "metadata": {
        "colab": {
          "base_uri": "https://localhost:8080/"
        },
        "id": "ZRiv5fNUBdof",
        "outputId": "edc6cf4e-59af-4d35-e798-c87505055c08"
      },
      "execution_count": 145,
      "outputs": [
        {
          "output_type": "stream",
          "name": "stdout",
          "text": [
            "(569, 30) (569,)\n"
          ]
        }
      ]
    },
    {
      "cell_type": "markdown",
      "source": [
        "2. 데이터 확인하기 "
      ],
      "metadata": {
        "id": "-KpH8pBDB2U5"
      }
    },
    {
      "cell_type": "code",
      "source": [
        "import matplotlib.pyplot as plt \n",
        "plt.boxplot(cancer.data)\n",
        "plt.xlabel(\"feature\")\n",
        "plt.ylabel(\"value\")\n",
        "plt.show()"
      ],
      "metadata": {
        "colab": {
          "base_uri": "https://localhost:8080/",
          "height": 279
        },
        "id": "KKIUiy1SB-c1",
        "outputId": "e59356d7-c0fe-4dec-eb56-f7658a1a3db8"
      },
      "execution_count": 146,
      "outputs": [
        {
          "output_type": "display_data",
          "data": {
            "text/plain": [
              "<Figure size 432x288 with 1 Axes>"
            ],
            "image/png": "[encoded data removed]"
          },
          "metadata": {
            "needs_background": "light"
          }
        }
      ]
    },
    {
      "cell_type": "code",
      "source": [
        "import numpy as np \n",
        "print(np.unique(cancer.target, return_counts=True))"
      ],
      "metadata": {
        "colab": {
          "base_uri": "https://localhost:8080/"
        },
        "id": "BWFQ8FGcCaRy",
        "outputId": "b7ff1411-849f-4586-80ec-e74a94f81a2c"
      },
      "execution_count": 147,
      "outputs": [
        {
          "output_type": "stream",
          "name": "stdout",
          "text": [
            "(array([0, 1]), array([212, 357]))\n"
          ]
        }
      ]
    },
    {
      "cell_type": "code",
      "source": [
        "x = cancer.data\n",
        "y = cancer.target "
      ],
      "metadata": {
        "id": "5Xc9FUXHC2i_"
      },
      "execution_count": 148,
      "outputs": []
    },
    {
      "cell_type": "markdown",
      "source": [
        "3. 일반화 성능을 평가하기 위해 훈련 세트와 테스트 세트로 나눈다. \n",
        "    - 훈련 데이터 세트를 나눌 때는 테스트 세트보다 훈련 세트가 더 많아야 한다. (7:3, 8:2, 9:1) 정도로 사용한다. \n",
        "    - 훈련 데이터 세트를 나누기 전에 양성, 음성 클래스가 훈련 세트나 테스트 세트의 어느 한 쪽에 몰리지 않도록 골고루 섞어야 한다. \n",
        "     "
      ],
      "metadata": {
        "id": "s4Snp8-CDejz"
      }
    },
    {
      "cell_type": "code",
      "source": [
        "import torch \n",
        "import torch.nn as nn \n",
        "from sklearn.model_selection import train_test_split \n",
        "x_train, x_test, y_train, y_test = train_test_split(x, y, stratify=y, test_size=0.2, random_state=42)\n",
        "x_train_torch = torch.FloatTensor(x_train)\n",
        "y_train_torch = torch.FloatTensor(y_train)\n",
        "x_test_torch = torch.FloatTensor(x_test)\n",
        "y_test_torch = torch.FloatTensor(y_test)"
      ],
      "metadata": {
        "id": "eCwTIDJXDGcv"
      },
      "execution_count": 149,
      "outputs": []
    },
    {
      "cell_type": "code",
      "source": [
        "print(x_train.shape, x_test.shape)"
      ],
      "metadata": {
        "colab": {
          "base_uri": "https://localhost:8080/"
        },
        "id": "2e09eAsrEwwh",
        "outputId": "75e5e197-5e52-4f82-dd44-318694bade75"
      },
      "execution_count": 150,
      "outputs": [
        {
          "output_type": "stream",
          "name": "stdout",
          "text": [
            "(455, 30) (114, 30)\n"
          ]
        }
      ]
    },
    {
      "cell_type": "code",
      "source": [
        "np.unique(y_train, return_counts=True)"
      ],
      "metadata": {
        "colab": {
          "base_uri": "https://localhost:8080/"
        },
        "id": "cXU6_Vo1E3Rl",
        "outputId": "70871b56-8481-4b0f-9a68-4c799e471ff4"
      },
      "execution_count": 151,
      "outputs": [
        {
          "output_type": "execute_result",
          "data": {
            "text/plain": [
              "(array([0, 1]), array([170, 285]))"
            ]
          },
          "metadata": {},
          "execution_count": 151
        }
      ]
    },
    {
      "cell_type": "code",
      "source": [
        "# np.sum 함수에 대해서 \n",
        "a = np.array([1, 2, 3])\n",
        "b = np.array([3, 4, 5])\n",
        "print(a + b)\n",
        "print(a * b)\n",
        "print(np.sum(a * b))"
      ],
      "metadata": {
        "colab": {
          "base_uri": "https://localhost:8080/"
        },
        "id": "nQ-7rBMPF8gO",
        "outputId": "e222654e-0d1f-412d-ce02-6e696b5f7b65"
      },
      "execution_count": 152,
      "outputs": [
        {
          "output_type": "stream",
          "name": "stdout",
          "text": [
            "[4 6 8]\n",
            "[ 3  8 15]\n",
            "26\n"
          ]
        }
      ]
    },
    {
      "cell_type": "code",
      "source": [
        "# np.ones, zeros, ones_like, zeros_like\n",
        "a = np.ones([5])\n",
        "b = np.zeros([5])\n",
        "c = np.random.randn(5)\n",
        "d = np.ones_like(c)\n",
        "e = np.zeros_like(c)\n",
        "print(a)\n",
        "print(b)\n",
        "print(c)\n",
        "print(d)\n",
        "print(e)"
      ],
      "metadata": {
        "colab": {
          "base_uri": "https://localhost:8080/"
        },
        "id": "7dub60zTGrbJ",
        "outputId": "020d4419-6c35-46c8-dc41-6d2b6f10c520"
      },
      "execution_count": 153,
      "outputs": [
        {
          "output_type": "stream",
          "name": "stdout",
          "text": [
            "[1. 1. 1. 1. 1.]\n",
            "[0. 0. 0. 0. 0.]\n",
            "[-0.95444717  0.81436968 -1.43634714  1.65776239 -1.20869508]\n",
            "[1. 1. 1. 1. 1.]\n",
            "[0. 0. 0. 0. 0.]\n"
          ]
        }
      ]
    },
    {
      "cell_type": "code",
      "source": [
        "torch.manual_seed(2022)\n",
        "\n",
        "class LogisticNeuron(nn.Module):\n",
        "  def __init__(self):\n",
        "    super().__init__()\n",
        "    self.model = nn.Sequential(\n",
        "        nn.Linear(30, 32),\n",
        "        nn.ReLU(),\n",
        "        nn.Linear(32, 32),\n",
        "        nn.ReLU(),\n",
        "        nn.Linear(32, 1),\n",
        "        nn.Sigmoid()\n",
        "        )\n",
        "    self._set_optimizer()\n",
        "    self._loss() \n",
        "  \n",
        "  def _set_optimizer(self):\n",
        "    self.optim = torch.optim.Adam(self.model.parameters(), lr=1e-4)\n",
        "\n",
        "  def _loss(self):\n",
        "    self.criterion = nn.BCELoss()\n",
        "\n",
        "  def _calculate_loss(self, x, y):\n",
        "    loss = self.criterion(x, y)\n",
        "    return loss \n",
        "\n",
        "  def forward(self, x):\n",
        "    z = self.model(x)\n",
        "    return z\n",
        "\n",
        "  def train(self, x, y, epochs=400):\n",
        "    self.w = np.ones(x.shape[1])\n",
        "    self.b = 0 \n",
        "    for i in range(epochs):\n",
        "      for x_i, y_i in zip(x, y):\n",
        "        pred_y = self.forward(x_i)\n",
        "        loss = self._calculate_loss(pred_y[0], y_i)\n",
        "        self.model.zero_grad() \n",
        "        self.optim.zero_grad()\n",
        "        loss.backward()\n",
        "        self.optim.step() \n",
        "      if (i+1) % 10 == 0:\n",
        "        print(\"epoch {} : err = {:.9f}\".format(i + 1, loss))\n",
        "\n",
        "  def predict(self, x):\n",
        "    pred = [self.forward(x_i).data.numpy()[0] for x_i in x]\n",
        "    return np.array(pred) > 0.5 "
      ],
      "metadata": {
        "id": "nD4xfTtvFB2d"
      },
      "execution_count": 197,
      "outputs": []
    },
    {
      "cell_type": "code",
      "source": [
        ""
      ],
      "metadata": {
        "id": "fFfZw0qw_x28"
      },
      "execution_count": null,
      "outputs": []
    },
    {
      "cell_type": "code",
      "source": [
        "neuron = LogisticNeuron()\n",
        "neuron.train(x_train_torch, y_train_torch)\n",
        "np.mean(neuron.predict(x_test_torch) == y_test)"
      ],
      "metadata": {
        "colab": {
          "base_uri": "https://localhost:8080/"
        },
        "id": "ijUQkQx5JAKm",
        "outputId": "37760d7b-ac1e-4ee0-b1c1-dfd458a48504"
      },
      "execution_count": 198,
      "outputs": [
        {
          "output_type": "stream",
          "name": "stdout",
          "text": [
            "epoch 10 : err = 0.078075849\n",
            "epoch 20 : err = 0.048145872\n",
            "epoch 30 : err = 0.037657801\n",
            "epoch 40 : err = 0.029986938\n",
            "epoch 50 : err = 0.024523614\n",
            "epoch 60 : err = 0.020010389\n",
            "epoch 70 : err = 0.016808314\n",
            "epoch 80 : err = 0.014267353\n",
            "epoch 90 : err = 0.012978005\n",
            "epoch 100 : err = 0.011566939\n",
            "epoch 110 : err = 0.010767465\n",
            "epoch 120 : err = 0.009799958\n",
            "epoch 130 : err = 0.008981867\n",
            "epoch 140 : err = 0.008339692\n",
            "epoch 150 : err = 0.006332078\n",
            "epoch 160 : err = 0.006978306\n",
            "epoch 170 : err = 0.006355891\n",
            "epoch 180 : err = 0.006086596\n",
            "epoch 190 : err = 0.005637593\n",
            "epoch 200 : err = 0.004175846\n",
            "epoch 210 : err = 0.003849455\n",
            "epoch 220 : err = 0.003734999\n",
            "epoch 230 : err = 0.003481541\n",
            "epoch 240 : err = 0.003185453\n",
            "epoch 250 : err = 0.002955688\n",
            "epoch 260 : err = 0.003337283\n",
            "epoch 270 : err = 0.002642603\n",
            "epoch 280 : err = 0.002614516\n",
            "epoch 290 : err = 0.002366838\n",
            "epoch 300 : err = 0.002179373\n",
            "epoch 310 : err = 0.002015355\n",
            "epoch 320 : err = 0.001868980\n",
            "epoch 330 : err = 0.001757019\n",
            "epoch 340 : err = 0.001633607\n",
            "epoch 350 : err = 0.001569250\n",
            "epoch 360 : err = 0.001463291\n",
            "epoch 370 : err = 0.001387366\n",
            "epoch 380 : err = 0.001291990\n",
            "epoch 390 : err = 0.001302494\n",
            "epoch 400 : err = 0.001252004\n"
          ]
        },
        {
          "output_type": "execute_result",
          "data": {
            "text/plain": [
              "0.9649122807017544"
            ]
          },
          "metadata": {},
          "execution_count": 198
        }
      ]
    },
    {
      "cell_type": "code",
      "source": [
        "100*np.mean(neuron.predict(x_test_torch) == y_test)"
      ],
      "metadata": {
        "colab": {
          "base_uri": "https://localhost:8080/"
        },
        "id": "B6ptnX0OJJep",
        "outputId": "f927af69-7a61-4bfa-ad9d-44cb31d52419"
      },
      "execution_count": 200,
      "outputs": [
        {
          "output_type": "execute_result",
          "data": {
            "text/plain": [
              "96.49122807017544"
            ]
          },
          "metadata": {},
          "execution_count": 200
        }
      ]
    },
    {
      "cell_type": "code",
      "source": [
        ""
      ],
      "metadata": {
        "id": "x03fnOsqQUPU"
      },
      "execution_count": null,
      "outputs": []
    }
  ],
  "metadata": {
    "colab": {
      "name": "Chapter2_1.ipynb",
      "provenance": [],
      "include_colab_link": true
    },
    "language_info": {
      "name": "python"
    },
    "kernelspec": {
      "name": "python3",
      "display_name": "Python 3"
    }
  },
  "nbformat": 4,
  "nbformat_minor": 0
}