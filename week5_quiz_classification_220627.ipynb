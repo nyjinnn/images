{
  "cells": [
    {
      "cell_type": "markdown",
      "metadata": {
        "id": "view-in-github",
        "colab_type": "text"
      },
      "source": [
        "<a href=\"https://colab.research.google.com/github/nyjinnn/images/blob/main/week5_quiz_classification_220627.ipynb\" target=\"_parent\"><img src=\"https://colab.research.google.com/assets/colab-badge.svg\" alt=\"Open In Colab\"/></a>"
      ]
    },
    {
      "cell_type": "markdown",
      "source": [
        "# 로지스틱 회귀"
      ],
      "metadata": {
        "id": "gtvXxVU7ngtN"
      }
    },
    {
      "cell_type": "markdown",
      "source": [
        "## 문제 해결을 위한 데이터셋 준비\n",
        "\n",
        "1. 필요한 패키기 불러오기\n"
      ],
      "metadata": {
        "id": "Jm3czD6BoDAk"
      }
    },
    {
      "cell_type": "code",
      "source": [
        "import random\n",
        "import torch \n",
        "import torch.nn as nn \n",
        "import numpy as np \n",
        "import matplotlib.pyplot as plt\n",
        "\n",
        "from sklearn.datasets import load_breast_cancer\n",
        "from sklearn.model_selection import train_test_split"
      ],
      "metadata": {
        "id": "ZRiv5fNUBdof"
      },
      "execution_count": 127,
      "outputs": []
    },
    {
      "cell_type": "markdown",
      "source": [
        "2. 데이터셋 불러오기"
      ],
      "metadata": {
        "id": "3T0z40Cu4HRr"
      }
    },
    {
      "cell_type": "code",
      "source": [
        "cancer = load_breast_cancer()\n",
        "print(cancer.data.shape, cancer.target.shape)"
      ],
      "metadata": {
        "colab": {
          "base_uri": "https://localhost:8080/"
        },
        "id": "KTdRcvm81w3w",
        "outputId": "9960b0c2-a5b4-45c3-cd4a-3c6d8b667fdc"
      },
      "execution_count": 128,
      "outputs": [
        {
          "output_type": "stream",
          "name": "stdout",
          "text": [
            "(569, 30) (569,)\n"
          ]
        }
      ]
    },
    {
      "cell_type": "markdown",
      "source": [
        "3. 데이터 확인하기 "
      ],
      "metadata": {
        "id": "-KpH8pBDB2U5"
      }
    },
    {
      "cell_type": "code",
      "source": [
        "plt.boxplot(cancer.data)\n",
        "plt.xlabel(\"feature\")\n",
        "plt.ylabel(\"value\")\n",
        "plt.show()"
      ],
      "metadata": {
        "colab": {
          "base_uri": "https://localhost:8080/",
          "height": 279
        },
        "id": "KKIUiy1SB-c1",
        "outputId": "5643da4d-4af4-46d3-bc46-940202e8f89b"
      },
      "execution_count": 129,
      "outputs": [
        {
          "output_type": "display_data",
          "data": {
            "text/plain": [
              "<Figure size 432x288 with 1 Axes>"
            ],
            "image/png": "[encoded data removed]"
          },
          "metadata": {
            "needs_background": "light"
          }
        }
      ]
    },
    {
      "cell_type": "code",
      "source": [
        "# cancer.data[:,2] = 0\n",
        "cancer.data[:,3] = 0\n",
        "# cancer.data[:,13] = 0\n",
        "# cancer.data[:,22] = 0\n",
        "cancer.data[:,23] = 0\n",
        "\n",
        "plt.boxplot(cancer.data)\n",
        "plt.xlabel(\"feature\")\n",
        "plt.ylabel(\"value\")\n",
        "plt.show()"
      ],
      "metadata": {
        "id": "al7NfQXOZeSl",
        "outputId": "1b04c7c5-5968-41c3-a09f-a05a5d04417a",
        "colab": {
          "base_uri": "https://localhost:8080/",
          "height": 279
        }
      },
      "execution_count": 130,
      "outputs": [
        {
          "output_type": "display_data",
          "data": {
            "text/plain": [
              "<Figure size 432x288 with 1 Axes>"
            ],
            "image/png": "[encoded data removed]"
          },
          "metadata": {
            "needs_background": "light"
          }
        }
      ]
    },
    {
      "cell_type": "markdown",
      "source": [
        "4. 학습 데이터셋 준비"
      ],
      "metadata": {
        "id": "882JOmT45d1D"
      }
    },
    {
      "cell_type": "code",
      "source": [
        "x = cancer.data\n",
        "y = cancer.target \n",
        "\n",
        "x_train, x_test, y_train, y_test = train_test_split(x, y, stratify=y, test_size=0.2, random_state=42)  # 수정 금지 \n",
        "x_train, x_valid, y_train, y_valid = train_test_split(x_train, y_train, stratify=y_train, test_size=0.125, random_state=999)\n",
        "\n",
        "x_train_torch = torch.FloatTensor(x_train)\n",
        "y_train_torch = torch.FloatTensor(y_train)\n",
        "x_valid_torch = torch.FloatTensor(x_valid)\n",
        "y_valid_torch = torch.FloatTensor(y_valid) \n",
        "x_test_torch = torch.FloatTensor(x_test)\n",
        "y_test_torch = torch.FloatTensor(y_test)"
      ],
      "metadata": {
        "id": "eCwTIDJXDGcv"
      },
      "execution_count": 92,
      "outputs": []
    },
    {
      "cell_type": "code",
      "source": [
        "print(np.mean(x_train[:,0]))\n",
        "print(np.mean(x_train[:,1]))\n",
        "print(np.mean(x_train[:,2]))\n",
        "print(np.mean(x_train[:,3]))\n",
        "print(np.mean(x_train[:,4]))\n",
        "print(np.mean(x_train[:,5]))\n",
        "print(np.mean(x_train[:,6]))\n",
        "print(np.mean(x_train[:,7]))\n",
        "print(np.mean(x_train[:,8]))\n",
        "print(np.mean(x_train[:,9]))\n",
        "print(np.mean(x_train[:,10]))\n",
        "print(np.mean(x_train[:,11]))"
      ],
      "metadata": {
        "id": "raEGNDJdOjpK",
        "outputId": "f7895616-dc8d-42f3-b6f8-983e173e65fa",
        "colab": {
          "base_uri": "https://localhost:8080/"
        }
      },
      "execution_count": 93,
      "outputs": [
        {
          "output_type": "stream",
          "name": "stdout",
          "text": [
            "14.115889447236183\n",
            "19.200653266331656\n",
            "0.0\n",
            "0.0\n",
            "0.09632163316582915\n",
            "0.10344281407035176\n",
            "0.08890080577889448\n",
            "0.04860188190954775\n",
            "0.18024472361809046\n",
            "0.06272502512562814\n",
            "0.40242386934673363\n",
            "1.216538944723618\n"
          ]
        }
      ]
    },
    {
      "cell_type": "markdown",
      "source": [
        "5. 모델 준비"
      ],
      "metadata": {
        "id": "L3l6peFJ5iAh"
      }
    },
    {
      "cell_type": "code",
      "source": [
        "class LogisticNeuron(nn.Module):\n",
        "  def __init__(self, in_dim=30, n_hidden=60, learning_rate=1e-4):\n",
        "    '''\n",
        "    Args:\n",
        "      in_dim: The dimension of input data  \n",
        "      n_hidden: The dimension of hidden layer\n",
        "      learning_rate: The initial learning rate for training a network \n",
        "    '''\n",
        "    super().__init__()\n",
        "\n",
        "    self.model = nn.Sequential(\n",
        "        nn.Linear(in_dim, 200),\n",
        "        nn.ReLU(),\n",
        "        nn.Linear(200, 100),\n",
        "        nn.ReLU(),\n",
        "        nn.Linear(100, 50),\n",
        "        nn.ReLU(),\n",
        "        nn.Linear(50, 25),\n",
        "        nn.ReLU(),\n",
        "        nn.Linear(25, 1),\n",
        "        nn.Sigmoid()\n",
        "        )\n",
        "    \n",
        "    self.optim = torch.optim.Adam(self.model.parameters(), lr=learning_rate)\n",
        "    self.criterion = nn.BCELoss()\n",
        "\n",
        "  def _calculate_loss(self, x, y):\n",
        "    loss = self.criterion(x, y)\n",
        "    return loss \n",
        "\n",
        "  def forward(self, x):\n",
        "    z = self.model(x)\n",
        "    return z\n",
        "\n",
        "  def train(self, x, y, epochs=10):\n",
        "    tmp_acc = -1\n",
        "    for i in range(epochs):\n",
        "      for x_i, y_i in zip(x, y):\n",
        "        pred_y = self.forward(x_i)\n",
        "        loss = self._calculate_loss(pred_y[0], y_i)\n",
        "\n",
        "        self.model.zero_grad() \n",
        "        self.optim.zero_grad()\n",
        "        loss.backward()\n",
        "        self.optim.step()\n",
        "\n",
        "      if (i+1) % 1 == 0:  # 여기 나누는 값을 조정해서 프린트하는 횟수를 조절\n",
        "        acc = np.mean(self.predict(x_valid_torch) == y_valid)\n",
        "        if tmp_acc == -1: \n",
        "          tmp_acc = acc \n",
        "        if tmp_acc > acc:\n",
        "          break\n",
        "        print(\"epoch {} : err = {:.9f}, valid acc = {:%}\".format(i + 1, loss, acc))\n",
        "\n",
        "  def predict(self, x):\n",
        "    pred = [self.forward(x_i).data.numpy()[0] for x_i in x]\n",
        "    return np.array(pred) > 0.5 "
      ],
      "metadata": {
        "id": "nD4xfTtvFB2d"
      },
      "execution_count": 142,
      "outputs": []
    },
    {
      "cell_type": "code",
      "source": [
        "random_seed = 740\n",
        "np.random.seed(random_seed)\n",
        "torch.manual_seed(random_seed)\n",
        "random.seed(random_seed)\n",
        "\n",
        "neuron = LogisticNeuron(in_dim=30, n_hidden=200, learning_rate=1e-3)\n",
        "\n",
        "neuron.train(x_train_torch, y_train_torch, 45)"
      ],
      "metadata": {
        "colab": {
          "base_uri": "https://localhost:8080/"
        },
        "id": "ijUQkQx5JAKm",
        "outputId": "992ec529-e3f2-4b3d-cf25-b7e2bf33b502"
      },
      "execution_count": 143,
      "outputs": [
        {
          "output_type": "stream",
          "name": "stdout",
          "text": [
            "epoch 1 : err = 0.849260092, valid acc = 63.157895%\n",
            "epoch 2 : err = 0.344745517, valid acc = 78.947368%\n",
            "epoch 3 : err = 0.311427414, valid acc = 82.456140%\n",
            "epoch 4 : err = 0.199151322, valid acc = 82.456140%\n",
            "epoch 5 : err = 0.096438244, valid acc = 82.456140%\n",
            "epoch 6 : err = 0.029865213, valid acc = 84.210526%\n",
            "epoch 7 : err = 0.026739279, valid acc = 84.210526%\n",
            "epoch 8 : err = 0.021635806, valid acc = 85.964912%\n",
            "epoch 9 : err = 0.013159896, valid acc = 87.719298%\n",
            "epoch 10 : err = 0.005761560, valid acc = 85.964912%\n",
            "epoch 11 : err = 0.006853288, valid acc = 87.719298%\n",
            "epoch 12 : err = 0.003525683, valid acc = 87.719298%\n",
            "epoch 13 : err = 0.007886372, valid acc = 89.473684%\n",
            "epoch 14 : err = 0.006488346, valid acc = 89.473684%\n",
            "epoch 15 : err = 0.003977629, valid acc = 89.473684%\n",
            "epoch 16 : err = 0.003794948, valid acc = 89.473684%\n",
            "epoch 17 : err = 0.002436982, valid acc = 87.719298%\n",
            "epoch 18 : err = 0.002421567, valid acc = 89.473684%\n",
            "epoch 19 : err = 0.000237553, valid acc = 89.473684%\n",
            "epoch 20 : err = 0.000594435, valid acc = 89.473684%\n",
            "epoch 21 : err = 0.000275709, valid acc = 89.473684%\n",
            "epoch 22 : err = 0.002572325, valid acc = 89.473684%\n",
            "epoch 23 : err = 0.000139485, valid acc = 89.473684%\n",
            "epoch 24 : err = 0.000203571, valid acc = 89.473684%\n",
            "epoch 25 : err = 0.000634812, valid acc = 89.473684%\n",
            "epoch 26 : err = 0.000067832, valid acc = 89.473684%\n",
            "epoch 27 : err = 0.001816073, valid acc = 89.473684%\n",
            "epoch 28 : err = 0.000963914, valid acc = 89.473684%\n",
            "epoch 29 : err = 0.000053526, valid acc = 89.473684%\n",
            "epoch 30 : err = 0.000711336, valid acc = 87.719298%\n",
            "epoch 31 : err = 0.000158084, valid acc = 89.473684%\n",
            "epoch 32 : err = 0.000277617, valid acc = 89.473684%\n",
            "epoch 33 : err = 0.000200471, valid acc = 89.473684%\n",
            "epoch 34 : err = 0.000156892, valid acc = 89.473684%\n",
            "epoch 35 : err = 0.000087980, valid acc = 89.473684%\n",
            "epoch 36 : err = 0.000084165, valid acc = 87.719298%\n",
            "epoch 37 : err = 0.000050188, valid acc = 87.719298%\n",
            "epoch 38 : err = 0.000030160, valid acc = 89.473684%\n",
            "epoch 39 : err = 0.000147830, valid acc = 89.473684%\n",
            "epoch 40 : err = 0.000013590, valid acc = 85.964912%\n",
            "epoch 41 : err = 0.000665111, valid acc = 89.473684%\n",
            "epoch 42 : err = 0.000002027, valid acc = 91.228070%\n",
            "epoch 43 : err = 0.000000715, valid acc = 89.473684%\n",
            "epoch 44 : err = 0.000000238, valid acc = 85.964912%\n",
            "epoch 45 : err = 0.000001907, valid acc = 85.964912%\n"
          ]
        }
      ]
    },
    {
      "cell_type": "markdown",
      "source": [
        "6. 결과"
      ],
      "metadata": {
        "id": "kXwOcKpB5ki9"
      }
    },
    {
      "cell_type": "code",
      "source": [
        "np.mean(neuron.predict(x_test_torch) == y_test)"
      ],
      "metadata": {
        "id": "B6ptnX0OJJep"
      },
      "execution_count": null,
      "outputs": []
    },
    {
      "cell_type": "code",
      "source": [
        ""
      ],
      "metadata": {
        "id": "x03fnOsqQUPU"
      },
      "execution_count": null,
      "outputs": []
    }
  ],
  "metadata": {
    "colab": {
      "name": "Chapter2_1.ipynb",
      "provenance": [],
      "include_colab_link": true
    },
    "language_info": {
      "name": "python"
    },
    "kernelspec": {
      "name": "python3",
      "display_name": "Python 3"
    }
  },
  "nbformat": 4,
  "nbformat_minor": 0
}